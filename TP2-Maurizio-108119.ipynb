{
  "nbformat": 4,
  "nbformat_minor": 0,
  "metadata": {
    "colab": {
      "provenance": [],
      "collapsed_sections": [
        "2GxmWrdduxz0",
        "vpoKc7QrvMdW",
        "ZWtIQZVPvY9e",
        "XHyhOqCTv3fE",
        "UthqiXhyv-pX"
      ]
    },
    "kernelspec": {
      "name": "python3",
      "display_name": "Python 3"
    },
    "language_info": {
      "name": "python"
    }
  },
  "cells": [
    {
      "cell_type": "markdown",
      "source": [
        "# **SPARK**"
      ],
      "metadata": {
        "id": "gkRGq-t9urEP"
      }
    },
    {
      "cell_type": "markdown",
      "source": [
        "## **Instalamos e importamos librerías**"
      ],
      "metadata": {
        "id": "Z36RbYq_22N5"
      }
    },
    {
      "cell_type": "code",
      "source": [
        "!pip install pyspark\n",
        "!pip install -u -q PyDrive\n",
        "!apt update\n",
        "!apt install openjdk-8-jdk-headless -qq\n",
        "import os\n",
        "os.environ[\"JAVA_HOME\"] = \"/usr/lib/jvm/java-8-openjdk-amd64\"\n",
        "\n",
        "from google.colab import drive\n",
        "drive.mount('/content/drive')\n",
        "!pip install pydrive"
      ],
      "metadata": {
        "colab": {
          "base_uri": "https://localhost:8080/"
        },
        "collapsed": true,
        "id": "kkSLMoZpwsPB",
        "outputId": "fec1a7e9-07e0-4129-ad53-8b7fcf20b2fb"
      },
      "execution_count": 1,
      "outputs": [
        {
          "output_type": "stream",
          "name": "stdout",
          "text": [
            "Requirement already satisfied: pyspark in /usr/local/lib/python3.12/dist-packages (3.5.1)\n",
            "Requirement already satisfied: py4j==0.10.9.7 in /usr/local/lib/python3.12/dist-packages (from pyspark) (0.10.9.7)\n",
            "\n",
            "Usage:   \n",
            "  pip3 install [options] <requirement specifier> [package-index-options] ...\n",
            "  pip3 install [options] -r <requirements file> [package-index-options] ...\n",
            "  pip3 install [options] [-e] <vcs project url> ...\n",
            "  pip3 install [options] [-e] <local project path> ...\n",
            "  pip3 install [options] <archive url/path> ...\n",
            "\n",
            "no such option: -u\n",
            "Hit:1 https://cli.github.com/packages stable InRelease\n",
            "Get:2 http://security.ubuntu.com/ubuntu jammy-security InRelease [129 kB]\n",
            "Get:3 https://cloud.r-project.org/bin/linux/ubuntu jammy-cran40/ InRelease [3,632 B]\n",
            "Get:4 https://developer.download.nvidia.com/compute/cuda/repos/ubuntu2204/x86_64  InRelease [1,581 B]\n",
            "Hit:5 http://archive.ubuntu.com/ubuntu jammy InRelease\n",
            "Get:6 https://r2u.stat.illinois.edu/ubuntu jammy InRelease [6,555 B]\n",
            "Get:7 http://archive.ubuntu.com/ubuntu jammy-updates InRelease [128 kB]\n",
            "Get:8 https://developer.download.nvidia.com/compute/cuda/repos/ubuntu2204/x86_64  Packages [2,065 kB]\n",
            "Get:9 http://archive.ubuntu.com/ubuntu jammy-backports InRelease [127 kB]\n",
            "Hit:10 https://ppa.launchpadcontent.net/deadsnakes/ppa/ubuntu jammy InRelease\n",
            "Hit:11 https://ppa.launchpadcontent.net/graphics-drivers/ppa/ubuntu jammy InRelease\n",
            "Hit:12 https://ppa.launchpadcontent.net/ubuntugis/ppa/ubuntu jammy InRelease\n",
            "Get:13 https://r2u.stat.illinois.edu/ubuntu jammy/main all Packages [9,323 kB]\n",
            "Get:14 http://security.ubuntu.com/ubuntu jammy-security/main amd64 Packages [3,415 kB]\n",
            "Get:15 http://security.ubuntu.com/ubuntu jammy-security/universe amd64 Packages [1,275 kB]\n",
            "Get:16 https://r2u.stat.illinois.edu/ubuntu jammy/main amd64 Packages [2,809 kB]\n",
            "Fetched 19.3 MB in 3s (5,974 kB/s)\n",
            "Reading package lists... Done\n",
            "Building dependency tree... Done\n",
            "Reading state information... Done\n",
            "42 packages can be upgraded. Run 'apt list --upgradable' to see them.\n",
            "\u001b[1;33mW: \u001b[0mSkipping acquire of configured file 'main/source/Sources' as repository 'https://r2u.stat.illinois.edu/ubuntu jammy InRelease' does not seem to provide it (sources.list entry misspelt?)\u001b[0m\n",
            "The following additional packages will be installed:\n",
            "  libxtst6 openjdk-8-jre-headless\n",
            "Suggested packages:\n",
            "  openjdk-8-demo openjdk-8-source libnss-mdns fonts-dejavu-extra fonts-nanum\n",
            "  fonts-ipafont-gothic fonts-ipafont-mincho fonts-wqy-microhei\n",
            "  fonts-wqy-zenhei fonts-indic\n",
            "The following NEW packages will be installed:\n",
            "  libxtst6 openjdk-8-jdk-headless openjdk-8-jre-headless\n",
            "0 upgraded, 3 newly installed, 0 to remove and 42 not upgraded.\n",
            "Need to get 39.6 MB of archives.\n",
            "After this operation, 144 MB of additional disk space will be used.\n",
            "Selecting previously unselected package libxtst6:amd64.\n",
            "(Reading database ... 126675 files and directories currently installed.)\n",
            "Preparing to unpack .../libxtst6_2%3a1.2.3-1build4_amd64.deb ...\n",
            "Unpacking libxtst6:amd64 (2:1.2.3-1build4) ...\n",
            "Selecting previously unselected package openjdk-8-jre-headless:amd64.\n",
            "Preparing to unpack .../openjdk-8-jre-headless_8u462-ga~us1-0ubuntu2~22.04.2_amd64.deb ...\n",
            "Unpacking openjdk-8-jre-headless:amd64 (8u462-ga~us1-0ubuntu2~22.04.2) ...\n",
            "Selecting previously unselected package openjdk-8-jdk-headless:amd64.\n",
            "Preparing to unpack .../openjdk-8-jdk-headless_8u462-ga~us1-0ubuntu2~22.04.2_amd64.deb ...\n",
            "Unpacking openjdk-8-jdk-headless:amd64 (8u462-ga~us1-0ubuntu2~22.04.2) ...\n",
            "Setting up libxtst6:amd64 (2:1.2.3-1build4) ...\n",
            "Setting up openjdk-8-jre-headless:amd64 (8u462-ga~us1-0ubuntu2~22.04.2) ...\n",
            "update-alternatives: using /usr/lib/jvm/java-8-openjdk-amd64/jre/bin/orbd to provide /usr/bin/orbd (orbd) in auto mode\n",
            "update-alternatives: using /usr/lib/jvm/java-8-openjdk-amd64/jre/bin/servertool to provide /usr/bin/servertool (servertool) in auto mode\n",
            "update-alternatives: using /usr/lib/jvm/java-8-openjdk-amd64/jre/bin/tnameserv to provide /usr/bin/tnameserv (tnameserv) in auto mode\n",
            "Setting up openjdk-8-jdk-headless:amd64 (8u462-ga~us1-0ubuntu2~22.04.2) ...\n",
            "update-alternatives: using /usr/lib/jvm/java-8-openjdk-amd64/bin/clhsdb to provide /usr/bin/clhsdb (clhsdb) in auto mode\n",
            "update-alternatives: using /usr/lib/jvm/java-8-openjdk-amd64/bin/extcheck to provide /usr/bin/extcheck (extcheck) in auto mode\n",
            "update-alternatives: using /usr/lib/jvm/java-8-openjdk-amd64/bin/hsdb to provide /usr/bin/hsdb (hsdb) in auto mode\n",
            "update-alternatives: using /usr/lib/jvm/java-8-openjdk-amd64/bin/idlj to provide /usr/bin/idlj (idlj) in auto mode\n",
            "update-alternatives: using /usr/lib/jvm/java-8-openjdk-amd64/bin/javah to provide /usr/bin/javah (javah) in auto mode\n",
            "update-alternatives: using /usr/lib/jvm/java-8-openjdk-amd64/bin/jhat to provide /usr/bin/jhat (jhat) in auto mode\n",
            "update-alternatives: using /usr/lib/jvm/java-8-openjdk-amd64/bin/jsadebugd to provide /usr/bin/jsadebugd (jsadebugd) in auto mode\n",
            "update-alternatives: using /usr/lib/jvm/java-8-openjdk-amd64/bin/native2ascii to provide /usr/bin/native2ascii (native2ascii) in auto mode\n",
            "update-alternatives: using /usr/lib/jvm/java-8-openjdk-amd64/bin/schemagen to provide /usr/bin/schemagen (schemagen) in auto mode\n",
            "update-alternatives: using /usr/lib/jvm/java-8-openjdk-amd64/bin/wsgen to provide /usr/bin/wsgen (wsgen) in auto mode\n",
            "update-alternatives: using /usr/lib/jvm/java-8-openjdk-amd64/bin/wsimport to provide /usr/bin/wsimport (wsimport) in auto mode\n",
            "update-alternatives: using /usr/lib/jvm/java-8-openjdk-amd64/bin/xjc to provide /usr/bin/xjc (xjc) in auto mode\n",
            "Processing triggers for libc-bin (2.35-0ubuntu3.8) ...\n",
            "/sbin/ldconfig.real: /usr/local/lib/libur_adapter_level_zero_v2.so.0 is not a symbolic link\n",
            "\n",
            "/sbin/ldconfig.real: /usr/local/lib/libtbbmalloc_proxy.so.2 is not a symbolic link\n",
            "\n",
            "/sbin/ldconfig.real: /usr/local/lib/libhwloc.so.15 is not a symbolic link\n",
            "\n",
            "/sbin/ldconfig.real: /usr/local/lib/libtbb.so.12 is not a symbolic link\n",
            "\n",
            "/sbin/ldconfig.real: /usr/local/lib/libtbbmalloc.so.2 is not a symbolic link\n",
            "\n",
            "/sbin/ldconfig.real: /usr/local/lib/libtbbbind_2_0.so.3 is not a symbolic link\n",
            "\n",
            "/sbin/ldconfig.real: /usr/local/lib/libtbbbind_2_5.so.3 is not a symbolic link\n",
            "\n",
            "/sbin/ldconfig.real: /usr/local/lib/libtbbbind.so.3 is not a symbolic link\n",
            "\n",
            "/sbin/ldconfig.real: /usr/local/lib/libur_adapter_level_zero.so.0 is not a symbolic link\n",
            "\n",
            "/sbin/ldconfig.real: /usr/local/lib/libtcm_debug.so.1 is not a symbolic link\n",
            "\n",
            "/sbin/ldconfig.real: /usr/local/lib/libtcm.so.1 is not a symbolic link\n",
            "\n",
            "/sbin/ldconfig.real: /usr/local/lib/libur_adapter_opencl.so.0 is not a symbolic link\n",
            "\n",
            "/sbin/ldconfig.real: /usr/local/lib/libur_loader.so.0 is not a symbolic link\n",
            "\n",
            "/sbin/ldconfig.real: /usr/local/lib/libumf.so.0 is not a symbolic link\n",
            "\n",
            "Drive already mounted at /content/drive; to attempt to forcibly remount, call drive.mount(\"/content/drive\", force_remount=True).\n",
            "Collecting pydrive\n",
            "  Downloading PyDrive-1.3.1.tar.gz (987 kB)\n",
            "\u001b[2K     \u001b[90m━━━━━━━━━━━━━━━━━━━━━━━━━━━━━━━━━━━━━━\u001b[0m \u001b[32m987.4/987.4 kB\u001b[0m \u001b[31m13.3 MB/s\u001b[0m eta \u001b[36m0:00:00\u001b[0m\n",
            "\u001b[?25h  Preparing metadata (setup.py) ... \u001b[?25l\u001b[?25hdone\n",
            "Requirement already satisfied: google-api-python-client>=1.2 in /usr/local/lib/python3.12/dist-packages (from pydrive) (2.183.0)\n",
            "Requirement already satisfied: oauth2client>=4.0.0 in /usr/local/lib/python3.12/dist-packages (from pydrive) (4.1.3)\n",
            "Requirement already satisfied: PyYAML>=3.0 in /usr/local/lib/python3.12/dist-packages (from pydrive) (6.0.3)\n",
            "Requirement already satisfied: httplib2<1.0.0,>=0.19.0 in /usr/local/lib/python3.12/dist-packages (from google-api-python-client>=1.2->pydrive) (0.31.0)\n",
            "Requirement already satisfied: google-auth!=2.24.0,!=2.25.0,<3.0.0,>=1.32.0 in /usr/local/lib/python3.12/dist-packages (from google-api-python-client>=1.2->pydrive) (2.38.0)\n",
            "Requirement already satisfied: google-auth-httplib2<1.0.0,>=0.2.0 in /usr/local/lib/python3.12/dist-packages (from google-api-python-client>=1.2->pydrive) (0.2.0)\n",
            "Requirement already satisfied: google-api-core!=2.0.*,!=2.1.*,!=2.2.*,!=2.3.0,<3.0.0,>=1.31.5 in /usr/local/lib/python3.12/dist-packages (from google-api-python-client>=1.2->pydrive) (2.25.1)\n",
            "Requirement already satisfied: uritemplate<5,>=3.0.1 in /usr/local/lib/python3.12/dist-packages (from google-api-python-client>=1.2->pydrive) (4.2.0)\n",
            "Requirement already satisfied: pyasn1>=0.1.7 in /usr/local/lib/python3.12/dist-packages (from oauth2client>=4.0.0->pydrive) (0.6.1)\n",
            "Requirement already satisfied: pyasn1-modules>=0.0.5 in /usr/local/lib/python3.12/dist-packages (from oauth2client>=4.0.0->pydrive) (0.4.2)\n",
            "Requirement already satisfied: rsa>=3.1.4 in /usr/local/lib/python3.12/dist-packages (from oauth2client>=4.0.0->pydrive) (4.9.1)\n",
            "Requirement already satisfied: six>=1.6.1 in /usr/local/lib/python3.12/dist-packages (from oauth2client>=4.0.0->pydrive) (1.17.0)\n",
            "Requirement already satisfied: googleapis-common-protos<2.0.0,>=1.56.2 in /usr/local/lib/python3.12/dist-packages (from google-api-core!=2.0.*,!=2.1.*,!=2.2.*,!=2.3.0,<3.0.0,>=1.31.5->google-api-python-client>=1.2->pydrive) (1.70.0)\n",
            "Requirement already satisfied: protobuf!=3.20.0,!=3.20.1,!=4.21.0,!=4.21.1,!=4.21.2,!=4.21.3,!=4.21.4,!=4.21.5,<7.0.0,>=3.19.5 in /usr/local/lib/python3.12/dist-packages (from google-api-core!=2.0.*,!=2.1.*,!=2.2.*,!=2.3.0,<3.0.0,>=1.31.5->google-api-python-client>=1.2->pydrive) (5.29.5)\n",
            "Requirement already satisfied: proto-plus<2.0.0,>=1.22.3 in /usr/local/lib/python3.12/dist-packages (from google-api-core!=2.0.*,!=2.1.*,!=2.2.*,!=2.3.0,<3.0.0,>=1.31.5->google-api-python-client>=1.2->pydrive) (1.26.1)\n",
            "Requirement already satisfied: requests<3.0.0,>=2.18.0 in /usr/local/lib/python3.12/dist-packages (from google-api-core!=2.0.*,!=2.1.*,!=2.2.*,!=2.3.0,<3.0.0,>=1.31.5->google-api-python-client>=1.2->pydrive) (2.32.4)\n",
            "Requirement already satisfied: cachetools<6.0,>=2.0.0 in /usr/local/lib/python3.12/dist-packages (from google-auth!=2.24.0,!=2.25.0,<3.0.0,>=1.32.0->google-api-python-client>=1.2->pydrive) (5.5.2)\n",
            "Requirement already satisfied: pyparsing<4,>=3.0.4 in /usr/local/lib/python3.12/dist-packages (from httplib2<1.0.0,>=0.19.0->google-api-python-client>=1.2->pydrive) (3.2.5)\n",
            "Requirement already satisfied: charset_normalizer<4,>=2 in /usr/local/lib/python3.12/dist-packages (from requests<3.0.0,>=2.18.0->google-api-core!=2.0.*,!=2.1.*,!=2.2.*,!=2.3.0,<3.0.0,>=1.31.5->google-api-python-client>=1.2->pydrive) (3.4.3)\n",
            "Requirement already satisfied: idna<4,>=2.5 in /usr/local/lib/python3.12/dist-packages (from requests<3.0.0,>=2.18.0->google-api-core!=2.0.*,!=2.1.*,!=2.2.*,!=2.3.0,<3.0.0,>=1.31.5->google-api-python-client>=1.2->pydrive) (3.10)\n",
            "Requirement already satisfied: urllib3<3,>=1.21.1 in /usr/local/lib/python3.12/dist-packages (from requests<3.0.0,>=2.18.0->google-api-core!=2.0.*,!=2.1.*,!=2.2.*,!=2.3.0,<3.0.0,>=1.31.5->google-api-python-client>=1.2->pydrive) (2.5.0)\n",
            "Requirement already satisfied: certifi>=2017.4.17 in /usr/local/lib/python3.12/dist-packages (from requests<3.0.0,>=2.18.0->google-api-core!=2.0.*,!=2.1.*,!=2.2.*,!=2.3.0,<3.0.0,>=1.31.5->google-api-python-client>=1.2->pydrive) (2025.8.3)\n",
            "Building wheels for collected packages: pydrive\n",
            "  Building wheel for pydrive (setup.py) ... \u001b[?25l\u001b[?25hdone\n",
            "  Created wheel for pydrive: filename=PyDrive-1.3.1-py3-none-any.whl size=27433 sha256=5e1fedc0cace0ea496ca75d7b99e9fd34e844b3d8befcc29c5206bbd232f7865\n",
            "  Stored in directory: /root/.cache/pip/wheels/6c/10/da/a5b513f5b3916fc391c20ee7b4633e5cf3396d570cdd74970f\n",
            "Successfully built pydrive\n",
            "Installing collected packages: pydrive\n",
            "Successfully installed pydrive-1.3.1\n"
          ]
        }
      ]
    },
    {
      "cell_type": "markdown",
      "source": [],
      "metadata": {
        "id": "h1LOeern29Hn"
      }
    },
    {
      "cell_type": "code",
      "source": [
        "from pydrive.auth import GoogleAuth\n",
        "from pydrive.drive import GoogleDrive\n",
        "from google.colab import auth\n",
        "from oauth2client.client import GoogleCredentials\n",
        "from pyspark.sql import *\n",
        "from pyspark.sql.functions import *\n",
        "from pyspark import SparkContext\n",
        "from pyspark.sql import SQLContext\n",
        "import pandas as pd"
      ],
      "metadata": {
        "id": "FQbeYWx32QiY"
      },
      "execution_count": 2,
      "outputs": []
    },
    {
      "cell_type": "code",
      "source": [
        "auth.authenticate_user()\n",
        "gauth = GoogleAuth()\n",
        "gauth.credentials = GoogleCredentials.get_application_default()\n",
        "drive = GoogleDrive(gauth)"
      ],
      "metadata": {
        "id": "LL1RKPvLCUQQ"
      },
      "execution_count": 3,
      "outputs": []
    },
    {
      "cell_type": "code",
      "source": [
        "from google.colab import drive\n",
        "drive.mount('/content/drive')"
      ],
      "metadata": {
        "colab": {
          "base_uri": "https://localhost:8080/"
        },
        "id": "U4Wt7rJjCbRE",
        "outputId": "c0970ea0-c364-4ee7-bf46-15376dc55a5c"
      },
      "execution_count": 4,
      "outputs": [
        {
          "output_type": "stream",
          "name": "stdout",
          "text": [
            "Drive already mounted at /content/drive; to attempt to forcibly remount, call drive.mount(\"/content/drive\", force_remount=True).\n"
          ]
        }
      ]
    },
    {
      "cell_type": "markdown",
      "source": [
        "## Creo el Spark Context"
      ],
      "metadata": {
        "id": "8j8MDJ1l3Deu"
      }
    },
    {
      "cell_type": "code",
      "source": [
        "# create the Spark Session\n",
        "spark = SparkSession.builder.getOrCreate()\n",
        "\n",
        "# create the Spark Context\n",
        "sc = spark.sparkContext"
      ],
      "metadata": {
        "id": "aqIwKBQ62jk8"
      },
      "execution_count": 5,
      "outputs": []
    },
    {
      "cell_type": "markdown",
      "source": [
        "## Leo los CSV's"
      ],
      "metadata": {
        "id": "sv54YCVV3IDB"
      }
    },
    {
      "cell_type": "code",
      "source": [
        "SQLContext = SQLContext(sc)"
      ],
      "metadata": {
        "colab": {
          "base_uri": "https://localhost:8080/"
        },
        "id": "H4L6WDCQCAXi",
        "outputId": "98ff9d31-a6b7-40fe-d4e9-2dfcff921147"
      },
      "execution_count": 6,
      "outputs": [
        {
          "output_type": "stream",
          "name": "stderr",
          "text": [
            "/usr/local/lib/python3.12/dist-packages/pyspark/sql/context.py:113: FutureWarning: Deprecated in 3.0.0. Use SparkSession.builder.getOrCreate() instead.\n",
            "  warnings.warn(\n"
          ]
        }
      ]
    },
    {
      "cell_type": "code",
      "source": [
        "dfcustomers = SQLContext.read.csv(\"/content/drive/MyDrive/dataTP2/customers.csv\", header=True, inferSchema=True)\n",
        "rddcustomers = dfcustomers.rdd"
      ],
      "metadata": {
        "id": "Fz7aSS3o2oeP"
      },
      "execution_count": 7,
      "outputs": []
    },
    {
      "cell_type": "code",
      "source": [
        "dfCategories = SQLContext.read.csv(\"/content/drive/MyDrive/dataTP2/categories.csv\", header=True, inferSchema=True)\n",
        "rddCategories = dfCategories.rdd"
      ],
      "metadata": {
        "collapsed": true,
        "id": "KZu8oX9z3RdB"
      },
      "execution_count": 8,
      "outputs": []
    },
    {
      "cell_type": "code",
      "source": [
        "dfinventoryLogs = SQLContext.read.csv(\"/content/drive/MyDrive/dataTP2/inventory_logs.csv\", header=True, inferSchema=True)\n",
        "rddInventoryLogs = dfinventoryLogs.rdd"
      ],
      "metadata": {
        "id": "kcmrRv8_3Rws"
      },
      "execution_count": 9,
      "outputs": []
    },
    {
      "cell_type": "code",
      "source": [
        "dfOrderItems = SQLContext.read.csv(\"/content/drive/MyDrive/dataTP2/order_items.csv\", header=True, inferSchema=True)\n",
        "rddOrderItems = dfOrderItems.rdd"
      ],
      "metadata": {
        "id": "Ixn6jYf03SYi"
      },
      "execution_count": 10,
      "outputs": []
    },
    {
      "cell_type": "code",
      "source": [
        "dfOrders = SQLContext.read.csv(\"/content/drive/MyDrive/dataTP2/orders.csv\", header=True, inferSchema=True)\n",
        "rddOrders = dfOrders.rdd"
      ],
      "metadata": {
        "id": "ZEMmuauI3SpG"
      },
      "execution_count": 11,
      "outputs": []
    },
    {
      "cell_type": "code",
      "source": [
        "dfProducts = SQLContext.read.csv(\"/content/drive/MyDrive/dataTP2/products.csv\", header=True, inferSchema=True)\n",
        "rddProducts = dfProducts.rdd"
      ],
      "metadata": {
        "id": "zPc-ekvdSC-n"
      },
      "execution_count": 12,
      "outputs": []
    },
    {
      "cell_type": "code",
      "source": [
        "dfReviews = SQLContext.read.csv(\"/content/drive/MyDrive/dataTP2/reviews.csv\", header=True, inferSchema=True)\n",
        "rddReviews = dfReviews.rdd"
      ],
      "metadata": {
        "id": "9NNElwQBSWbL"
      },
      "execution_count": 13,
      "outputs": []
    },
    {
      "cell_type": "markdown",
      "source": [
        "# **LIMPIEZA DE DATOS**"
      ],
      "metadata": {
        "id": "2GxmWrdduxz0"
      }
    },
    {
      "cell_type": "code",
      "source": [
        "INCORRECTO = {\"undefined\",\"null\",\"none\",\"\"}\n",
        "\n",
        "def to_float(x):\n",
        "    try: return float(x)\n",
        "    except: return None\n",
        "\n",
        "def extract_state(addr: str):\n",
        "    if not addr: return None\n",
        "    final_cadena = str(addr).strip().rsplit(\",\", 1)[-1].strip()      # \"AZ 30649\"\n",
        "    first = final_cadena.split()[0] if final_cadena else \"\"\n",
        "    return first.upper() if len(first)==2 and first.isalpha() else None\n",
        "\n",
        "def extraer_codigo_postal(addr:str):\n",
        "    if not addr: return None\n",
        "    final_cadena = str(addr).strip().split()[-1].lower()\n",
        "    if final_cadena not in INCORRECTO:\n",
        "      first = final_cadena.split()[0]\n",
        "      return first\n",
        "    else:\n",
        "      return None\n",
        "\n",
        "\n",
        "def normalizar_string(s):\n",
        "    if es_string_correcto(s):\n",
        "      s = s.title().strip()\n",
        "      return s\n",
        "    else :\n",
        "      return None\n",
        "\n",
        "def es_string_correcto(s):\n",
        "    if s is not None and s.strip().lower() not in INCORRECTO:\n",
        "      return True\n",
        "    else:\n",
        "      return False"
      ],
      "metadata": {
        "id": "xtyT6ixTeZZj"
      },
      "execution_count": 14,
      "outputs": []
    },
    {
      "cell_type": "markdown",
      "source": [
        "# **CONSULTAS**"
      ],
      "metadata": {
        "id": "PvHxKavZu8yX"
      }
    },
    {
      "cell_type": "markdown",
      "source": [
        "\n",
        "\n",
        "1) Cuál es el estado que más descuentos tiene en total? y en promedio? Supongan que de una direccion del estilo: 3123 Alan Extension Port Andrea, MA 26926, “MA” es el estado.\n",
        "\n",
        "2) ¿Cuáles son los 5 códigos postales más comunes para las órdenes con estado ‘Refunded’? ¿Y cuál es el nombre más frecuente entre los clientes de esas direcciones?\n",
        "\n",
        "3) Para cada tipo de pago y segmento de cliente, devolver la suma y el promedio expresado como porcentaje, de clientes activos y de consentimiento de marketing. Se valora que el output de la consulta tenga nombres claros y en español.\n",
        "\n",
        "4) Para los productos que contienen en su descripción la palabra “stuff” (sin importar mayúsculas o minúsculas), calcular el peso total de su inventario agrupado por marca, mostrar sólo la marca y el peso total de las 5 más pesadas.\n",
        "\n",
        "5) Calculen el porcentaje de productos cuyo stock es al menos 20% más alto que el stock promedio de su marca. Por ejemplo, si el stock promedio de la marca Adidas fuera 100, para los productos de dicha marca la condición será que tengan un stock mayor a 120, y luego se deberá calcular qué porcentaje del total de productos cumple con esta condición.\n",
        "\n",
        "6) Obtener la cantidad de órdenes que no hayan comprado ninguno de los 10 productos más vendidos."
      ],
      "metadata": {
        "id": "01ZVBkZZvH7Y"
      }
    },
    {
      "cell_type": "markdown",
      "source": [
        "## 1. Cuál es el estado que más descuentos tiene en total? y en promedio? Supongan que de una direccion del estilo: 3123 Alan Extension Port Andrea, MA 26926, “MA” es el estado"
      ],
      "metadata": {
        "id": "vpoKc7QrvMdW"
      }
    },
    {
      "cell_type": "code",
      "source": [
        "rddOrders.take(1)"
      ],
      "metadata": {
        "colab": {
          "base_uri": "https://localhost:8080/"
        },
        "id": "iqS1_V3EvWqj",
        "outputId": "20453dfc-a288-4c91-80fe-9de55ce2c2b5"
      },
      "execution_count": null,
      "outputs": [
        {
          "output_type": "execute_result",
          "data": {
            "text/plain": [
              "[Row(_c0=0, order_id=1, customer_id=447917, order_date='2024-07-26T03:04:05.462241', status='completed', payment_method='Digital Wallet', shipping_address='49599 Wesley Burg Richardview, AZ 30649', billing_address='USNV Morrison FPO AP 90901', discount_amount=0.0, tax_amount=None, shipping_cost=None, total_amount=25.96, currency='USD', created_at='2024-07-26T03:04:05.462241', updated_at='2024-07-27T03:04:05.462241', subtotal=0)]"
            ]
          },
          "metadata": {},
          "execution_count": 184
        }
      ]
    },
    {
      "cell_type": "code",
      "source": [
        "#discount_amount, shipp_addres"
      ],
      "metadata": {
        "id": "Azw09pQNvIpR"
      },
      "execution_count": null,
      "outputs": []
    },
    {
      "cell_type": "code",
      "source": [
        "\n",
        "rddEstadosConDescuentos = rddOrders.filter(lambda r: r.shipping_address and r.discount_amount is not None).map(lambda r: (extract_state(r.shipping_address), to_float(r.discount_amount)))\\\n",
        "                              .filter(lambda kv: kv[0] is not None and kv[1] is not None and kv[1] > 0).mapValues(lambda v: (v, 1)).reduceByKey(lambda a,b: (a[0]+b[0], a[1]+b[1])).cache()"
      ],
      "metadata": {
        "id": "wnnPqmUUpFYZ"
      },
      "execution_count": null,
      "outputs": []
    },
    {
      "cell_type": "code",
      "source": [
        "rddEstadosConDescuentos.take(5)"
      ],
      "metadata": {
        "colab": {
          "base_uri": "https://localhost:8080/"
        },
        "id": "XR7QuSY85KFY",
        "outputId": "fddf105c-5a9d-43f8-bba8-1fe5ae7f211b"
      },
      "execution_count": null,
      "outputs": [
        {
          "output_type": "execute_result",
          "data": {
            "text/plain": [
              "[('OR', (685793.6299999999, 13657)),\n",
              " ('MS', (689506.7100000001, 13709)),\n",
              " ('LA', (684889.1499999996, 13684)),\n",
              " ('IN', (681833.2300000001, 13719)),\n",
              " ('AL', (680092.72, 13672))]"
            ]
          },
          "metadata": {},
          "execution_count": 219
        }
      ]
    },
    {
      "cell_type": "code",
      "source": [
        "# Estado con MÁS DESCUENTO TOTAL ($)\n",
        "rddEstadosConDescuentos.mapValues(lambda sc: sc[0]).reduce(lambda a,b: a if a[1] > b[1] else b)"
      ],
      "metadata": {
        "colab": {
          "base_uri": "https://localhost:8080/"
        },
        "id": "USjVyh7tgl9y",
        "outputId": "6f259dab-2ebb-41eb-f179-5fa43832d2e1"
      },
      "execution_count": null,
      "outputs": [
        {
          "output_type": "execute_result",
          "data": {
            "text/plain": [
              "('HI', 699381.1599999999)"
            ]
          },
          "metadata": {},
          "execution_count": 220
        }
      ]
    },
    {
      "cell_type": "code",
      "source": [],
      "metadata": {
        "id": "OKHiyHMXgnY7"
      },
      "execution_count": null,
      "outputs": []
    },
    {
      "cell_type": "code",
      "source": [
        "# Estado con MÁS DESCUENTO TOTAL ($)\n",
        "estado_max_total = rddEstadosConDescuentos.mapValues(lambda sc: sc[0]).reduce(lambda a,b: a if a[1] > b[1] else b)\n",
        "\n",
        "# Estado con MAYOR PROMEDIO de descuento ($ por registro con descuento)\n",
        "estado_max_prom = rddEstadosConDescuentos.mapValues(lambda sc: sc[0] / sc[1]).reduce(lambda a,b: a if a[1] > b[1] else b)\n",
        "\n",
        "print(f\"estadoConMasDescuentosTotales: {estado_max_total[0]}, ${estado_max_total[1]:,.2f}\")\n",
        "print(f\"estadoConMasDescuentosEnPromedio: {estado_max_prom[0]}, ${estado_max_prom[1]:,.2f}\")\n"
      ],
      "metadata": {
        "colab": {
          "base_uri": "https://localhost:8080/"
        },
        "id": "n_0-7oORsnYp",
        "outputId": "7be6f911-4ad5-48b5-ef38-6d903a3ce88c"
      },
      "execution_count": null,
      "outputs": [
        {
          "output_type": "stream",
          "name": "stdout",
          "text": [
            "estadoConMasDescuentosTotales: HI, $699,381.16\n",
            "estadoConMasDescuentosEnPromedio: OH, $50.40\n"
          ]
        }
      ]
    },
    {
      "cell_type": "markdown",
      "source": [
        "## 2. ¿Cuáles son los 5 códigos postales más comunes para las órdenes con estado ‘Refunded’? ¿Y cuál es el nombre más frecuente entre los clientes de esas direcciones?"
      ],
      "metadata": {
        "id": "ZWtIQZVPvY9e"
      }
    },
    {
      "cell_type": "code",
      "source": [
        "rddOrders.take(1)"
      ],
      "metadata": {
        "colab": {
          "base_uri": "https://localhost:8080/"
        },
        "id": "t_c4b0tB8pOP",
        "outputId": "faa8a365-2c76-4210-ba4f-804cba8679cc"
      },
      "execution_count": null,
      "outputs": [
        {
          "output_type": "execute_result",
          "data": {
            "text/plain": [
              "[Row(_c0=0, order_id=1, customer_id=447917, order_date='2024-07-26T03:04:05.462241', status='completed', payment_method='Digital Wallet', shipping_address='49599 Wesley Burg Richardview, AZ 30649', billing_address='USNV Morrison FPO AP 90901', discount_amount=0.0, tax_amount=None, shipping_cost=None, total_amount=25.96, currency='USD', created_at='2024-07-26T03:04:05.462241', updated_at='2024-07-27T03:04:05.462241', subtotal=0)]"
            ]
          },
          "metadata": {},
          "execution_count": 222
        }
      ]
    },
    {
      "cell_type": "code",
      "source": [
        "rddcustomers.take(1)"
      ],
      "metadata": {
        "colab": {
          "base_uri": "https://localhost:8080/"
        },
        "id": "3vgv4Ys_8q6B",
        "outputId": "2c897e15-2a69-436a-a4e3-7e1f9bbc0b39"
      },
      "execution_count": null,
      "outputs": [
        {
          "output_type": "execute_result",
          "data": {
            "text/plain": [
              "[Row(_c0=0, customer_id=1, email='uthomas@example.net', first_name='Kayla', last_name='Smith', phone='329-672-0449x89707', date_of_birth='1948-05-20', gender='F', country='Brazil', city='south michelle', postal_code=70351, address=None, registration_date='2022-09-22T09:40:47.913063', last_login='2025-01-07T12:09:24.323425', is_active=True, customer_segment='Regular', marketing_consent=True)]"
            ]
          },
          "metadata": {},
          "execution_count": 223
        }
      ]
    },
    {
      "cell_type": "code",
      "source": [
        "rddOrdersRefundedZipCus = rddOrders.filter(lambda x: normalizar_string(x.status) == 'Refunded' and x.shipping_address is not None).map(lambda x: (extraer_codigo_postal(x.shipping_address), x.customer_id))\\\n",
        "    .filter(lambda kv: kv[0] is not None)\n"
      ],
      "metadata": {
        "collapsed": true,
        "id": "-srEzgAAvjja"
      },
      "execution_count": null,
      "outputs": []
    },
    {
      "cell_type": "code",
      "source": [
        "rddTop5CodigoPostales = rddOrdersRefundedZipCus.map(lambda x: (x[0],1)).reduceByKey(lambda a,b: a+b).cache()"
      ],
      "metadata": {
        "id": "8dD0nBU-sxSa"
      },
      "execution_count": null,
      "outputs": []
    },
    {
      "cell_type": "code",
      "source": [
        "# top 5 codigos postales\n",
        "top5 = rddTop5CodigoPostales.takeOrdered(5, key = lambda x: -x[1])"
      ],
      "metadata": {
        "id": "5Qbg8PpjEVf1"
      },
      "execution_count": null,
      "outputs": []
    },
    {
      "cell_type": "code",
      "source": [
        "top5Zips = [z for z, _ in top5]\n",
        "btop5 = sc.broadcast(set(top5Zips))"
      ],
      "metadata": {
        "id": "U77rgAdCs9yJ"
      },
      "execution_count": null,
      "outputs": []
    },
    {
      "cell_type": "code",
      "source": [
        "ordersRefundedTop5Bycust = rddOrdersRefundedZipCus.filter(lambda zc: zc[0] in btop5.value).map(lambda zc: (zc[1], zc[0]))"
      ],
      "metadata": {
        "id": "RyiaedG4t_En"
      },
      "execution_count": null,
      "outputs": []
    },
    {
      "cell_type": "code",
      "source": [
        "ordersRefundedTop5Bycust.take(1)"
      ],
      "metadata": {
        "colab": {
          "base_uri": "https://localhost:8080/"
        },
        "id": "OFNhYQ1BuNOR",
        "outputId": "523dadc7-8b91-41fa-ee77-e199134809c9"
      },
      "execution_count": null,
      "outputs": [
        {
          "output_type": "execute_result",
          "data": {
            "text/plain": [
              "[(471085, '59883')]"
            ]
          },
          "metadata": {},
          "execution_count": 235
        }
      ]
    },
    {
      "cell_type": "code",
      "source": [
        "rddbyCus = rddcustomers.map(lambda clientes: (clientes.customer_id,normalizar_string(clientes.first_name))).filter(lambda x: x[1]is not None)"
      ],
      "metadata": {
        "id": "tE_l538FulO5"
      },
      "execution_count": null,
      "outputs": []
    },
    {
      "cell_type": "code",
      "source": [
        "joined  = ordersRefundedTop5Bycust.join(rddbyCus)"
      ],
      "metadata": {
        "id": "02A3X3uQY2X8"
      },
      "execution_count": null,
      "outputs": []
    },
    {
      "cell_type": "code",
      "source": [
        "nameCountByZip = joined.map(lambda x: ((x[1][0], x[1][1]), 1)).reduceByKey(lambda a,b: a[1]+b[1])"
      ],
      "metadata": {
        "id": "xXxnKJEGwyov"
      },
      "execution_count": null,
      "outputs": []
    },
    {
      "cell_type": "code",
      "source": [
        "# Top nombre por ZIP (con desempate alfabético)\n",
        "topNamePerZip = nameCountByZip.map(lambda znc: (znc[0][0], (znc[0][1], znc[1]))).reduceByKey(lambda a, b: a if (a[1] > b[1]) or (a[1] == b[1] and a[0] <= b[0]) else b)\n",
        "\n",
        "\n",
        "# ----------------- Resultados -----------------\n",
        "result = top5                                   # [(zip, count)]\n",
        "top_names_result = topNamePerZip.sortByKey().collect()# [(zip, (nombre, count))]\n",
        "\n",
        "print(\"Top-5 ZIPs (Refunded):\", result)\n",
        "print(\"Nombre más frecuente por ZIP del top-5:\", top_names_result)"
      ],
      "metadata": {
        "colab": {
          "base_uri": "https://localhost:8080/"
        },
        "id": "NAcFEWa0vLWz",
        "outputId": "143c4497-1705-463f-b1c7-8208306a5f67"
      },
      "execution_count": null,
      "outputs": [
        {
          "output_type": "stream",
          "name": "stdout",
          "text": [
            "Top-5 ZIPs (Refunded): [('70696', 6), ('47612', 5), ('11954', 5), ('83755', 5), ('59883', 5)]\n",
            "Nombre más frecuente por ZIP del top-5: [('11954', ('Anthony', 1)), ('47612', ('Debbie', 1)), ('59883', ('Carolyn', 1)), ('70696', ('Amber', 1)), ('83755', ('Alexis', 1))]\n"
          ]
        }
      ]
    },
    {
      "cell_type": "markdown",
      "source": [
        "## 3. Para cada tipo de pago y segmento de cliente, devolver la suma y el promedio expresado como porcentaje, de clientes activos y de consentimiento de marketing. Se valora que el output de la consulta tenga nombres claros y en español."
      ],
      "metadata": {
        "id": "joeO7rlFvkiu"
      }
    },
    {
      "cell_type": "code",
      "source": [
        "rddOrders.take(1)"
      ],
      "metadata": {
        "colab": {
          "base_uri": "https://localhost:8080/"
        },
        "id": "J9eE16dgFNB3",
        "outputId": "36f8560f-8561-48f9-db1d-5f8b5787045f"
      },
      "execution_count": null,
      "outputs": [
        {
          "output_type": "execute_result",
          "data": {
            "text/plain": [
              "[Row(_c0=0, order_id=1, customer_id=447917, order_date='2024-07-26T03:04:05.462241', status='completed', payment_method='Digital Wallet', shipping_address='49599 Wesley Burg Richardview, AZ 30649', billing_address='USNV Morrison FPO AP 90901', discount_amount=0.0, tax_amount=None, shipping_cost=None, total_amount=25.96, currency='USD', created_at='2024-07-26T03:04:05.462241', updated_at='2024-07-27T03:04:05.462241', subtotal=0)]"
            ]
          },
          "metadata": {},
          "execution_count": 240
        }
      ]
    },
    {
      "cell_type": "code",
      "source": [
        "customersMethod = rddOrders.filter(lambda x: x.customer_id is not None and x.payment_method is not None).map(lambda x: ((x.customer_id, normalizar_string(x.payment_method)),1)).filter(lambda x :x[0][1] is not None)\\\n",
        "                            .reduceByKey(lambda a,b: 1).map(lambda kv: (kv[0][0], kv[0][1])).cache()\n",
        "\n",
        "\n",
        "\n",
        "\n"
      ],
      "metadata": {
        "id": "Nq2miOgbFQRy"
      },
      "execution_count": 16,
      "outputs": []
    },
    {
      "cell_type": "code",
      "source": [
        "for r in customersMethod.take(5):\n",
        "    print(r)      # (customer_id, metodo)"
      ],
      "metadata": {
        "colab": {
          "base_uri": "https://localhost:8080/"
        },
        "id": "e1hCsfgzfbMu",
        "outputId": "a17b2daf-c7cd-4d41-8223-10295f682e3d"
      },
      "execution_count": null,
      "outputs": [
        {
          "output_type": "stream",
          "name": "stdout",
          "text": [
            "(420585, 'Paypal')\n",
            "(467719, 'Digital Wallet')\n",
            "(492286, 'Cash On Delivery')\n",
            "(489351, 'Credit Card')\n",
            "(438792, 'Debit Card')\n"
          ]
        }
      ]
    },
    {
      "cell_type": "code",
      "source": [
        "rddcustomers.take(1)"
      ],
      "metadata": {
        "id": "5RuKSLmsvpdk",
        "colab": {
          "base_uri": "https://localhost:8080/"
        },
        "outputId": "f287527b-069c-4528-ff05-2c5ea9a3531a"
      },
      "execution_count": null,
      "outputs": [
        {
          "output_type": "execute_result",
          "data": {
            "text/plain": [
              "[Row(_c0=0, customer_id=1, email='uthomas@example.net', first_name='Kayla', last_name='Smith', phone='329-672-0449x89707', date_of_birth='1948-05-20', gender='F', country='Brazil', city='south michelle', postal_code=70351, address=None, registration_date='2022-09-22T09:40:47.913063', last_login='2025-01-07T12:09:24.323425', is_active=True, customer_segment='Regular', marketing_consent=True)]"
            ]
          },
          "metadata": {},
          "execution_count": 243
        }
      ]
    },
    {
      "cell_type": "code",
      "source": [
        "#'customer_id','customer_segment','is_active','marketing_consent'\n",
        "#Aca filtro aquellos registros de clientes que no tienen una fecha de registro porque intuyo que datos erroneos.\n",
        "CustomersPerId = rddcustomers.filter(lambda x:  x.customer_segment is not None\n",
        "                                                and x.registration_date is not None\n",
        "                                                and x.is_active is not None\n",
        "                                                and x.marketing_consent is not None)\\\n",
        "                                        .map(lambda cliente: (cliente.customer_id, (normalizar_string(cliente.customer_segment) ,cliente.is_active, cliente.marketing_consent)))\\\n",
        "                                        .filter(lambda x :x[1][0] is not None )\\\n",
        "                                        .reduceByKey(lambda a,b: b)\n"
      ],
      "metadata": {
        "collapsed": true,
        "id": "obEmk0PqI5A0"
      },
      "execution_count": 17,
      "outputs": []
    },
    {
      "cell_type": "code",
      "source": [
        "NP = 200\n",
        "customersMethod = customersMethod.partitionBy(NP).cache()\n",
        "CustomersSegmentMarketing = CustomersPerId.partitionBy(NP).cache()\n",
        "\n",
        "joined = customersMethod.join(CustomersSegmentMarketing)"
      ],
      "metadata": {
        "id": "jR5BCSEKPJrW"
      },
      "execution_count": 18,
      "outputs": []
    },
    {
      "cell_type": "code",
      "source": [
        "MethodAndSegment = joined.map(lambda kv: ((kv[1][0], kv[1][1][0]),                   # clave = (metodo, segmento)\n",
        "                                            (1 if kv[1][1][1] else 0,                   # suma activos\n",
        "                                            1 if kv[1][1][2] else 0,                    #suma marketing\n",
        "                                            1))).reduceByKey(lambda a,b: (a[0]+b[0], a[1]+b[1], a[2]+b[2]))\n"
      ],
      "metadata": {
        "id": "GJosPPjkIN0X"
      },
      "execution_count": 19,
      "outputs": []
    },
    {
      "cell_type": "code",
      "source": [
        "Porcents = MethodAndSegment.mapValues(lambda t: (\n",
        "    t[2],                       # total_clientes\n",
        "    100.0 * t[0] / t[2],        # % clientes_activos\n",
        "    100.0 * t[1] / t[2]         # % marketing\n",
        "  )\n",
        ")"
      ],
      "metadata": {
        "id": "HK3_bj6SJIE7"
      },
      "execution_count": 30,
      "outputs": []
    },
    {
      "cell_type": "code",
      "source": [
        "tablaFinal = Porcents.map(lambda x: (\n",
        "      x[0][1],  # segmento_cliente\n",
        "      x[0][0],  # metodo_pago\n",
        "      x[1][0],  # total_clientes\n",
        "      x[1][1],  # % clientes_activos\n",
        "      x[1][2]   # % marketing\n",
        "    )).sortBy(lambda x: (x[0], x[1])).cache()  # ordena por segmento, luego método de pago\n",
        "\n",
        "\n",
        "print(\"segmento_cliente\\tmetodo_pago\\ttotal_clientes\\t% clientes_activos\\t% marketing\")\n",
        "for seg, met, tot, pctA, pctM in tablaFinal.collect():\n",
        "    print(f\"{seg}      \\t{met}          \\t{tot}     \\t{pctA:.6f}    \\t{pctM:.6f}\")\n"
      ],
      "metadata": {
        "colab": {
          "base_uri": "https://localhost:8080/"
        },
        "id": "TLkQci0iJNhG",
        "outputId": "6e3585a2-8cb2-4eb6-f5cf-82723b4398de"
      },
      "execution_count": 40,
      "outputs": [
        {
          "output_type": "stream",
          "name": "stdout",
          "text": [
            "segmento_cliente\tmetodo_pago\ttotal_clientes\t% clientes_activos\t% marketing\n",
            "Budget      \tBank Transfer          \t16737     \t89.795065    \t69.671984\n",
            "Budget      \tCash On Delivery          \t16734     \t89.805187    \t69.672523\n",
            "Budget      \tCredit Card          \t16737     \t89.795065    \t69.660035\n",
            "Budget      \tDebit Card          \t16729     \t89.790185    \t69.639548\n",
            "Budget      \tDigital Wallet          \t16733     \t89.804578    \t69.652782\n",
            "Budget      \tPaypal          \t16733     \t89.804578    \t69.658758\n",
            "Premium      \tBank Transfer          \t17246     \t89.852719    \t69.842282\n",
            "Premium      \tCash On Delivery          \t17241     \t89.849777    \t69.850937\n",
            "Premium      \tCredit Card          \t17240     \t89.843387    \t69.860789\n",
            "Premium      \tDebit Card          \t17245     \t89.857930    \t69.852131\n",
            "Premium      \tDigital Wallet          \t17243     \t89.856753    \t69.848634\n",
            "Premium      \tPaypal          \t17240     \t89.849188    \t69.860789\n",
            "Regular      \tBank Transfer          \t51300     \t89.957115    \t70.132554\n",
            "Regular      \tCash On Delivery          \t51311     \t89.961217    \t70.133110\n",
            "Regular      \tCredit Card          \t51307     \t89.956536    \t70.130781\n",
            "Regular      \tDebit Card          \t51297     \t89.966275    \t70.128857\n",
            "Regular      \tDigital Wallet          \t51301     \t89.959260    \t70.133136\n",
            "Regular      \tPaypal          \t51315     \t89.958102    \t70.131540\n"
          ]
        }
      ]
    },
    {
      "cell_type": "markdown",
      "source": [
        "## 4. Para los productos que contienen en su descripción la palabra “stuff” (sin importar mayúsculas o minúsculas), calcular el peso total de su inventario agrupado por marca, mostrar sólo la marca y el peso total de las 5 más pesadas."
      ],
      "metadata": {
        "id": "T5Pmk8lyvuvx"
      }
    },
    {
      "cell_type": "code",
      "source": [
        "rddProducts.take(1)"
      ],
      "metadata": {
        "id": "wSAIEJJXv2fm",
        "colab": {
          "base_uri": "https://localhost:8080/"
        },
        "outputId": "b169f338-f3bc-4c3b-fe4a-06b595f7d88d"
      },
      "execution_count": null,
      "outputs": [
        {
          "output_type": "execute_result",
          "data": {
            "text/plain": [
              "[Row(_c0='0', product_id='1', product_name='Centralized attitude-oriented synergy ', category_id=164, brand='undefined', price=120.22, cost=49.48, stock_quantity=754, weight_kg=None, dimensions='194x144x13 ', description='Hotel quickly amount care meet. Likely consider agreement citizen organization.', is_active=True, created_at=' 2024-05-12T00:44:32.354038')]"
            ]
          },
          "metadata": {},
          "execution_count": 143
        }
      ]
    },
    {
      "cell_type": "code",
      "source": [
        "# necesito brand,descripcion, stockquantity y weight_kg"
      ],
      "metadata": {
        "id": "mogN1LSM1XGx"
      },
      "execution_count": null,
      "outputs": []
    },
    {
      "cell_type": "code",
      "source": [
        "\n",
        "\n",
        "brandStuff = rddProducts.filter(lambda product: (product.description is not None and product.weight_kg is not None and product.stock_quantity is not None)  and ('stuff' in product.description.lower()) and (product.brand is not None))\\\n",
        "                            .map(lambda product: (normalizar_string(product.brand), (product.weight_kg * product.stock_quantity))).filter(lambda kv: kv[0] is not None)\n"
      ],
      "metadata": {
        "id": "ELtOoWlQykg7"
      },
      "execution_count": null,
      "outputs": []
    },
    {
      "cell_type": "code",
      "source": [
        "brandStuffByWeight = brandStuff.reduceByKey(lambda a,b: a+b)"
      ],
      "metadata": {
        "id": "jTF7ipFTBp__"
      },
      "execution_count": null,
      "outputs": []
    },
    {
      "cell_type": "code",
      "source": [
        "brandStuffByWeight.take(1)"
      ],
      "metadata": {
        "colab": {
          "base_uri": "https://localhost:8080/"
        },
        "id": "7zwQNGI7C8XQ",
        "outputId": "d5773068-be81-4b93-f821-5922acc8b62f"
      },
      "execution_count": null,
      "outputs": [
        {
          "output_type": "execute_result",
          "data": {
            "text/plain": [
              "[('La-Z-Boy', 692988.8300000001)]"
            ]
          },
          "metadata": {},
          "execution_count": 178
        }
      ]
    },
    {
      "cell_type": "code",
      "source": [
        "top5Weight = brandStuffByWeight.takeOrdered(5, key = lambda x: -x[1])"
      ],
      "metadata": {
        "id": "dYlKAGCOEuxk"
      },
      "execution_count": null,
      "outputs": []
    },
    {
      "cell_type": "code",
      "source": [
        "top5Weight"
      ],
      "metadata": {
        "colab": {
          "base_uri": "https://localhost:8080/"
        },
        "id": "--1-5fUSE7_J",
        "outputId": "affdfd4a-997c-4bbc-c376-4eb6cb7eb587"
      },
      "execution_count": null,
      "outputs": [
        {
          "output_type": "execute_result",
          "data": {
            "text/plain": [
              "[('3M', 1851279.46),\n",
              " ('Adidas', 1578522.37),\n",
              " ('Hasbro', 1506279.13),\n",
              " ('Wayfair', 1448357.5499999998),\n",
              " ('Nike', 1385209.1700000002)]"
            ]
          },
          "metadata": {},
          "execution_count": 183
        }
      ]
    },
    {
      "cell_type": "code",
      "source": [
        "# ----------------- Resultados -----------------\n",
        "for i, (brand, weight) in enumerate(top5Weight, start=1):\n",
        "    print(f\"{i}. {brand}: {weight:,.2f} kg.\")"
      ],
      "metadata": {
        "colab": {
          "base_uri": "https://localhost:8080/"
        },
        "id": "2gK-OJwpF2WS",
        "outputId": "9149f3a8-d9c9-4962-bb6b-8aa58bcf4a5a"
      },
      "execution_count": null,
      "outputs": [
        {
          "output_type": "stream",
          "name": "stdout",
          "text": [
            "1. 3M: 1,851,279.46 kg.\n",
            "2. Adidas: 1,578,522.37 kg.\n",
            "3. Hasbro: 1,506,279.13 kg.\n",
            "4. Wayfair: 1,448,357.55 kg.\n",
            "5. Nike: 1,385,209.17 kg.\n"
          ]
        }
      ]
    },
    {
      "cell_type": "markdown",
      "source": [
        "## 5. Calculen el porcentaje de productos cuyo stock es al menos 20% más alto que el stock promedio de su marca. Por ejemplo, si el stock promedio de la marca Adidas fuera 100, para los productos de dicha marca la condición será que tengan un stock mayor a 120, y luego se deberá calcular qué porcentaje del total de productos cumple con esta condición."
      ],
      "metadata": {
        "id": "XHyhOqCTv3fE"
      }
    },
    {
      "cell_type": "code",
      "source": [],
      "metadata": {
        "id": "xSFkHVQWXYsg"
      },
      "execution_count": null,
      "outputs": []
    },
    {
      "cell_type": "code",
      "source": [
        "rddProducts.take(1)"
      ],
      "metadata": {
        "colab": {
          "base_uri": "https://localhost:8080/"
        },
        "id": "40QDd7N2NHFe",
        "outputId": "c12cb19e-86fb-40a3-d613-0955174aea3e"
      },
      "execution_count": null,
      "outputs": [
        {
          "output_type": "execute_result",
          "data": {
            "text/plain": [
              "[Row(_c0='0', product_id='1', product_name='Centralized attitude-oriented synergy ', category_id=164, brand='undefined', price=120.22, cost=49.48, stock_quantity=754, weight_kg=None, dimensions='194x144x13 ', description='Hotel quickly amount care meet. Likely consider agreement citizen organization.', is_active=True, created_at=' 2024-05-12T00:44:32.354038')]"
            ]
          },
          "metadata": {},
          "execution_count": 14
        }
      ]
    },
    {
      "cell_type": "code",
      "source": [
        "#productos válidos\n",
        "productos = rddProducts.filter(lambda product: (product.stock_quantity is not None and product.stock_quantity > 0) and product.brand is not None)\\\n",
        "                            .map(lambda product: (normalizar_string(product.brand), product.stock_quantity)).filter(lambda kv: kv[0] is not None).map(lambda x: (x[0],x[1])).cache()"
      ],
      "metadata": {
        "id": "ftnLnlBvMjC8"
      },
      "execution_count": null,
      "outputs": []
    },
    {
      "cell_type": "code",
      "source": [
        "productos.take(100)"
      ],
      "metadata": {
        "collapsed": true,
        "id": "-67ygKcVNlh7"
      },
      "execution_count": null,
      "outputs": []
    },
    {
      "cell_type": "code",
      "source": [],
      "metadata": {
        "id": "s4ecDC7piCXK"
      },
      "execution_count": null,
      "outputs": []
    },
    {
      "cell_type": "code",
      "source": [
        "productos.mapValues(lambda x: (x,1)).take(1)"
      ],
      "metadata": {
        "id": "R2EKwn5yN9YD",
        "colab": {
          "base_uri": "https://localhost:8080/"
        },
        "outputId": "84de4ad6-9c3a-4cb5-8e62-6479145853db"
      },
      "execution_count": null,
      "outputs": [
        {
          "output_type": "execute_result",
          "data": {
            "text/plain": [
              "[('Adidas', (27, 1))]"
            ]
          },
          "metadata": {},
          "execution_count": 81
        }
      ]
    },
    {
      "cell_type": "code",
      "source": [
        "sumatoria = productos.mapValues(lambda x: (x, 1)).reduceByKey(lambda a,b: (a[0]+b[0], a[1]+b[1]))"
      ],
      "metadata": {
        "id": "wGrOVUsZiFmC"
      },
      "execution_count": null,
      "outputs": []
    },
    {
      "cell_type": "code",
      "source": [
        "promedios = sumatoria.mapValues(lambda s : s[0]/s[1]) # (marca, avg_stock)"
      ],
      "metadata": {
        "id": "6D2F3KKImyme"
      },
      "execution_count": null,
      "outputs": []
    },
    {
      "cell_type": "code",
      "source": [
        "promedios.take(100)"
      ],
      "metadata": {
        "colab": {
          "base_uri": "https://localhost:8080/"
        },
        "collapsed": true,
        "id": "cc2U1BIol9kZ",
        "outputId": "81abbabf-eeed-4189-f525-cb5e081f5718"
      },
      "execution_count": null,
      "outputs": [
        {
          "output_type": "execute_result",
          "data": {
            "text/plain": [
              "[('Dr. Martens', 503.53387096774196),\n",
              " ('Marvel', 506.3117819930537),\n",
              " ('Leuchtturm1917', 503.7713573532744),\n",
              " ('Cartier', 501.2490053826352),\n",
              " ('La-Z-Boy', 495.44209322276237),\n",
              " ('Fluke', 498.1172144334636),\n",
              " ('Whole Foods', 504.2859138533178),\n",
              " ('Ikea', 497.930654507457),\n",
              " ('Sony', 500.90724485785404),\n",
              " ('Rhodia', 504.9102594064034),\n",
              " ('Scholastic', 505.8112661226639),\n",
              " ('Ghirardelli', 496.50069605568444),\n",
              " ('American Tourister', 496.3918683446273),\n",
              " ('Vetriscience', 496.6190202831994),\n",
              " ('Coca-Cola', 494.9702380952381),\n",
              " ('Faber-Castell', 499.54011321491316),\n",
              " ('Graco', 506.5003466605038),\n",
              " ('Carter’S', 502.6960252935863),\n",
              " ('Brother', 504.3475692866879),\n",
              " (\"L'Oréal\", 504.05333022822543),\n",
              " ('Penguin', 502.27327491785326),\n",
              " ('Lego', 499.57158836689035),\n",
              " ('Fender', 500.97626224566693),\n",
              " ('Wayfair', 504.22302491432805),\n",
              " ('Ge', 501.08093402856497),\n",
              " ('Electronic Arts', 501.0449074074074),\n",
              " ('Greenies', 505.07560070326235),\n",
              " ('The North Face', 490.50982226379796),\n",
              " ('Kraft', 509.25604978105554),\n",
              " (\"Hill'S\", 500.4130232558139),\n",
              " ('Nike', 494.70645742217647),\n",
              " ('Fisher-Price', 496.20724656302195),\n",
              " ('West Elm', 501.8718538760247),\n",
              " ('Epic Games', 502.35509374294105),\n",
              " ('Nintendo', 495.1731473010064),\n",
              " ('Staples', 507.1761389264772),\n",
              " ('Pampers', 503.4450867052023),\n",
              " ('Godiva', 501.38908492119504),\n",
              " ('Ticketmaster', 501.9495164410058),\n",
              " (\"Lowe'S\", 500.20735052111905),\n",
              " ('Stubhub', 501.5363514291195),\n",
              " ('Beckman Coulter', 500.2122865275142),\n",
              " ('Korg', 502.4685093780849),\n",
              " ('Cetaphil', 494.4053179190751),\n",
              " ('Hasbro', 500.964118076562),\n",
              " ('Bosch', 497.7519550342131),\n",
              " ('Live Nation', 503.8422042505172),\n",
              " ('Mickey Mouse', 501.3628023352794),\n",
              " ('Swarovski', 497.9252077562327),\n",
              " ('Olay', 504.36935258500233),\n",
              " ('Royal Canin', 501.31434649019144),\n",
              " ('Banfield Pet Hospital', 493.8099823147966),\n",
              " ('Clarks', 504.07296715131935),\n",
              " ('H&M', 498.7040900356849),\n",
              " ('Pepsi', 501.1000911992704),\n",
              " ('Ravensburger', 499.15014084507044),\n",
              " ('Oxo', 497.2382358732034),\n",
              " ('Rolex', 497.8916934373566),\n",
              " ('Nba Cards', 495.4508452322337),\n",
              " (\"Kellogg'S\", 500.06693711967546),\n",
              " ('Scotts', 501.21148977604673),\n",
              " ('Ashley Furniture', 501.671858500528),\n",
              " ('Hp', 506.9650423728813),\n",
              " ('Viator', 504.1416972743089),\n",
              " ('Lg', 499.79844264749926),\n",
              " ('Honeywell', 496.3841232227488),\n",
              " ('Columbia', 494.88507391511683),\n",
              " ('Vans', 499.01465201465203),\n",
              " ('Samsonite', 495.6026995305164),\n",
              " ('Adidas', 501.95516535969995),\n",
              " ('Mobil', 505.9851665267282),\n",
              " ('Huggies', 502.03785046728973),\n",
              " ('Weber', 500.51337727801473),\n",
              " ('Paper Mate', 495.71392170488764),\n",
              " ('Michaels', 502.398033924441),\n",
              " ('3M', 498.7551094361502),\n",
              " ('Neutrogena', 501.1575134377191),\n",
              " ('Topps', 496.191531921987),\n",
              " ('Local Artisans', 498.3636239222663),\n",
              " ('Travelpro', 497.4992178333985),\n",
              " ('Pandora', 501.9954001839926),\n",
              " ('Pedigree', 502.6425266080518),\n",
              " ('Apple', 496.1795580110497),\n",
              " ('Under Armour', 501.1605691056911),\n",
              " ('Skechers', 501.2854100106496),\n",
              " ('Pilot', 504.1455463728191),\n",
              " ('Chicco', 497.831515432815),\n",
              " ('Seresto', 509.03125),\n",
              " ('Kong', 492.8039612874184),\n",
              " ('Etsy Shops', 499.0843120805369),\n",
              " ('Gardena', 497.7814021973043),\n",
              " ('Ashley', 502.18816810660417),\n",
              " ('Cuisinart', 497.85241210139003),\n",
              " ('Maybelline', 497.87884479924867),\n",
              " ('Cricut', 496.06313725490196),\n",
              " ('Dove', 502.6227390180878),\n",
              " ('Playmobil', 499.68666118871545),\n",
              " ('Shimano', 500.0158148063259),\n",
              " (\"Trader Joe'S\", 499.20962591240874),\n",
              " ('Funko', 497.92333167743004)]"
            ]
          },
          "metadata": {},
          "execution_count": 85
        }
      ]
    },
    {
      "cell_type": "code",
      "source": [
        "# # 3) Uno cada producto con el promedio de su marca\n",
        "# # productos: (marca, stock)  promedios: (marca, avg)\n",
        "\n",
        "joined = productos.join(promedios)"
      ],
      "metadata": {
        "id": "tkQjsFrsubAq"
      },
      "execution_count": null,
      "outputs": []
    },
    {
      "cell_type": "code",
      "source": [
        "joined.take(1)"
      ],
      "metadata": {
        "colab": {
          "base_uri": "https://localhost:8080/"
        },
        "collapsed": true,
        "id": "Rawk7zbyulBi",
        "outputId": "cd73e1a5-1ace-41e9-e2e8-66fd03fea617"
      },
      "execution_count": null,
      "outputs": [
        {
          "output_type": "execute_result",
          "data": {
            "text/plain": [
              "[('Dr. Martens', (777, 503.53387096774196))]"
            ]
          },
          "metadata": {},
          "execution_count": 91
        }
      ]
    },
    {
      "cell_type": "code",
      "source": [
        "marcados = joined.map(lambda x: 1 if x[1][0] > 1.2 * x[1][1] else 0)"
      ],
      "metadata": {
        "id": "tSU__aU9xw0_"
      },
      "execution_count": null,
      "outputs": []
    },
    {
      "cell_type": "code",
      "source": [
        "cumplen = marcados.sum()\n",
        "total   = productos.count()         # total de productos válidos\n",
        "porcentaje_global = 100.0 * cumplen / total if total else 0.0\n",
        "\n",
        "print(f\"Porcentaje global de productos con stock > 120% del promedio de su marca: {porcentaje_global:.4f}%\")\n"
      ],
      "metadata": {
        "colab": {
          "base_uri": "https://localhost:8080/"
        },
        "id": "pChBqJNGykDB",
        "outputId": "b41f72a7-bcf2-4ec9-fc9b-1f9a2a02a4f3"
      },
      "execution_count": null,
      "outputs": [
        {
          "output_type": "stream",
          "name": "stdout",
          "text": [
            "Porcentaje global de productos con stock > 120% del promedio de su marca: 39.9650%\n"
          ]
        }
      ]
    },
    {
      "cell_type": "code",
      "source": [],
      "metadata": {
        "id": "9c_YUNAQyxqs"
      },
      "execution_count": null,
      "outputs": []
    },
    {
      "cell_type": "markdown",
      "source": [
        "## 6. Obtener la cantidad de órdenes que no hayan comprado ninguno de los 10 productos más vendidos."
      ],
      "metadata": {
        "id": "UthqiXhyv-pX"
      }
    },
    {
      "cell_type": "code",
      "source": [
        "rddOrderItems.take(1)"
      ],
      "metadata": {
        "colab": {
          "base_uri": "https://localhost:8080/"
        },
        "id": "JLob_uS4rvaJ",
        "outputId": "fd12b55c-e4d3-44a7-91b6-d4cc5874e5c6"
      },
      "execution_count": null,
      "outputs": [
        {
          "output_type": "execute_result",
          "data": {
            "text/plain": [
              "[Row(_c0=0, order_item_id=1, order_id=19900399, product_id=940377, quantity=6, unit_price=569.28, line_total=3415.68, discount_amount=0.0)]"
            ]
          },
          "metadata": {},
          "execution_count": 16
        }
      ]
    },
    {
      "cell_type": "code",
      "source": [
        "ProductsSellers = rddOrderItems.filter(lambda x: x.product_id is not None and x.order_id is not None).map(lambda x: (x.product_id,1)).reduceByKey(lambda a,b : a + b)\n",
        "#orderid, product_id"
      ],
      "metadata": {
        "id": "_MlhYfzRtvRO"
      },
      "execution_count": null,
      "outputs": []
    },
    {
      "cell_type": "code",
      "source": [
        "top10ProductsBestSellers = ProductsSellers.takeOrdered(10, key = lambda x: -x[1])"
      ],
      "metadata": {
        "id": "-hjN6QpFzUbo"
      },
      "execution_count": null,
      "outputs": []
    },
    {
      "cell_type": "code",
      "source": [
        "top10_ids = set(pid for (pid, _) in top10ProductsBestSellers)\n",
        "btop10 = sc.broadcast(top10_ids)"
      ],
      "metadata": {
        "id": "w4cACA4qysqR"
      },
      "execution_count": null,
      "outputs": []
    },
    {
      "cell_type": "code",
      "source": [
        "# Para cada ítem de orden, marco pertenece al top10\n",
        "#    (order_id -> 1 si contiene un producto del top10, 0 si no)\n",
        "orderHasTop10 = rddOrderItems.filter(lambda x: x.product_id is not None and x.order_id is not None).map(lambda x: (x.order_id, 1 if x.product_id in btop10.value else 0))\\\n",
        "                             .reduceByKey(lambda a, b: a + b)  # suma de flags por orden\n"
      ],
      "metadata": {
        "id": "RNnhN1hp16ls"
      },
      "execution_count": null,
      "outputs": []
    },
    {
      "cell_type": "code",
      "source": [
        "#Órdenes que NO compraron ninguno del top10: suma == 0\n",
        "ordersNotInTop10 = orderHasTop10.filter(lambda kv: kv[1] == 0).keys()\n",
        "\n",
        "# Cantidad pedida\n",
        "count_orders_not_in_top10 = ordersNotInTop10.count()\n",
        "# ----------------- Resultados -----------------\n",
        "print(\"Cantidad de órdenes que no compraron ninguno de los 10 productos más vendidos:\", count_orders_not_in_top10)\n"
      ],
      "metadata": {
        "colab": {
          "base_uri": "https://localhost:8080/"
        },
        "id": "wJhTQv8I1UVf",
        "outputId": "e9dba092-684e-4ae0-dfd4-cd361e0008ef"
      },
      "execution_count": null,
      "outputs": [
        {
          "output_type": "stream",
          "name": "stdout",
          "text": [
            "Cantidad de órdenes que no compraron ninguno de los 10 productos más vendidos: 99490\n"
          ]
        }
      ]
    },
    {
      "cell_type": "code",
      "source": [],
      "metadata": {
        "id": "J8D8MWrXXLHV"
      },
      "execution_count": null,
      "outputs": []
    },
    {
      "cell_type": "markdown",
      "source": [
        "# **CONSULTAS EXTRAS**"
      ],
      "metadata": {
        "id": "6TpoLDkIi2U7"
      }
    },
    {
      "cell_type": "markdown",
      "source": [
        "## 7. Top-3 métodos de pago por cantidad de órdenes completadas en 2024"
      ],
      "metadata": {
        "id": "WZzp1IJK003e"
      }
    },
    {
      "cell_type": "code",
      "source": [
        "def extraer_anio_iso(s):\n",
        "    if not s: return None\n",
        "    s = str(s).strip()\n",
        "    return int(s[:4]) if len(s) >= 4 and s[:4].isdigit() else None\n",
        "\n",
        "metodosDePagoCompletadas2024 = rddOrders.filter(lambda order: order.payment_method is not None and order.created_at is not None and order.status is not None)\\\n",
        "          .map(lambda x:(normalizar_string(x.payment_method), (normalizar_string(x.status), extraer_anio_iso(x.order_date))))\\\n",
        "          .filter(lambda t: t[0] is not None and t[1][0] == 'Completed' and t[1][1] == 2024).map(lambda x: (x[0],1)).reduceByKey(lambda a,b: a+b)\n"
      ],
      "metadata": {
        "id": "m1sns5mkW3Yj"
      },
      "execution_count": null,
      "outputs": []
    },
    {
      "cell_type": "code",
      "source": [
        "metodosDePagoCompletadas2024.takeOrdered(3,lambda x: -x[1])"
      ],
      "metadata": {
        "colab": {
          "base_uri": "https://localhost:8080/"
        },
        "id": "fGuhorsc21Tl",
        "outputId": "38632e6e-93a4-4631-aead-e391605e1573"
      },
      "execution_count": null,
      "outputs": [
        {
          "output_type": "execute_result",
          "data": {
            "text/plain": [
              "[('Digital Wallet', 143827), ('Bank Transfer', 143186), ('Paypal', 143167)]"
            ]
          },
          "metadata": {},
          "execution_count": 76
        }
      ]
    },
    {
      "cell_type": "markdown",
      "source": [
        "## 8. Precio promedio por categoría padre\n",
        "\n"
      ],
      "metadata": {
        "id": "NDeF3qXS4mZf"
      }
    },
    {
      "cell_type": "markdown",
      "source": [
        "RDDs: rddProducts, rddCategories\n"
      ],
      "metadata": {
        "id": "x-HLqWeR9lFg"
      }
    },
    {
      "cell_type": "code",
      "source": [
        "rddProducts.take(1)"
      ],
      "metadata": {
        "colab": {
          "base_uri": "https://localhost:8080/"
        },
        "id": "V7KyRG_oTZWk",
        "outputId": "82cd072b-ab5f-4a17-9272-09cf5706e304"
      },
      "execution_count": null,
      "outputs": [
        {
          "output_type": "execute_result",
          "data": {
            "text/plain": [
              "[Row(_c0='0', product_id='1', product_name='Centralized attitude-oriented synergy ', category_id=164, brand='undefined', price=120.22, cost=49.48, stock_quantity=754, weight_kg=None, dimensions='194x144x13 ', description='Hotel quickly amount care meet. Likely consider agreement citizen organization.', is_active=True, created_at=' 2024-05-12T00:44:32.354038')]"
            ]
          },
          "metadata": {},
          "execution_count": 110
        }
      ]
    },
    {
      "cell_type": "code",
      "source": [
        "catPrice = rddProducts.filter(lambda prod: prod.price and prod.category_id is not None and prod.price > 0).map(lambda x: (x.category_id, x.price))"
      ],
      "metadata": {
        "id": "vs_3c_IhGn-b"
      },
      "execution_count": null,
      "outputs": []
    },
    {
      "cell_type": "code",
      "source": [
        "catPrice.take(100)"
      ],
      "metadata": {
        "colab": {
          "base_uri": "https://localhost:8080/"
        },
        "collapsed": true,
        "id": "GWSOhyhTKYV6",
        "outputId": "563d726d-c66b-4792-ab41-46b8642409ca"
      },
      "execution_count": null,
      "outputs": [
        {
          "output_type": "execute_result",
          "data": {
            "text/plain": [
              "[(164, 120.22),\n",
              " (9, 19.75),\n",
              " (57, 454.72),\n",
              " (56, 957.64),\n",
              " (118, 540.87),\n",
              " (12, 67.14),\n",
              " (42, 752.96),\n",
              " (63, 171.77),\n",
              " (128, 401.68),\n",
              " (175, 427.94),\n",
              " (175, 885.94),\n",
              " (68, 972.17),\n",
              " (79, 247.06),\n",
              " (33, 133.65),\n",
              " (52, 715.82),\n",
              " (151, 558.38),\n",
              " (19, 519.01),\n",
              " (122, 809.42),\n",
              " (168, 984.32),\n",
              " (115, 148.78),\n",
              " (139, 837.67),\n",
              " (100, 272.55),\n",
              " (49, 15.54),\n",
              " (136, 165.86),\n",
              " (53, 673.03),\n",
              " (19, 19.22),\n",
              " (95, 292.14),\n",
              " (142, 306.38),\n",
              " (54, 720.44),\n",
              " (3, 344.5),\n",
              " (11, 449.97),\n",
              " (61, 865.96),\n",
              " (69, 167.61),\n",
              " (59, 230.69),\n",
              " (174, 981.34),\n",
              " (68, 47.87),\n",
              " (148, 198.18),\n",
              " (172, 205.06),\n",
              " (77, 512.05),\n",
              " (174, 750.65),\n",
              " (149, 610.59),\n",
              " (73, 520.3),\n",
              " (12, 26.75),\n",
              " (99, 499.43),\n",
              " (179, 522.78),\n",
              " (144, 599.5),\n",
              " (122, 455.57),\n",
              " (55, 73.59),\n",
              " (179, 29.34),\n",
              " (140, 801.87),\n",
              " (104, 726.94),\n",
              " (98, 285.47),\n",
              " (18, 783.42),\n",
              " (30, 156.67),\n",
              " (51, 4.72),\n",
              " (89, 537.42),\n",
              " (138, 776.9),\n",
              " (126, 559.62),\n",
              " (178, 250.87),\n",
              " (50, 11.6),\n",
              " (76, 235.21),\n",
              " (33, 129.38),\n",
              " (14, 27.49),\n",
              " (39, 122.62),\n",
              " (58, 777.94),\n",
              " (157, 960.51),\n",
              " (41, 25.3),\n",
              " (117, 80.47),\n",
              " (166, 157.5),\n",
              " (113, 133.11),\n",
              " (111, 737.19),\n",
              " (173, 823.21),\n",
              " (150, 441.53),\n",
              " (178, 500.51),\n",
              " (132, 826.68),\n",
              " (128, 629.15),\n",
              " (162, 612.78),\n",
              " (31, 131.3),\n",
              " (63, 462.22),\n",
              " (107, 346.48),\n",
              " (39, 69.75),\n",
              " (62, 576.08),\n",
              " (170, 794.47),\n",
              " (113, 108.71),\n",
              " (68, 345.18),\n",
              " (125, 873.66),\n",
              " (26, 610.69),\n",
              " (96, 436.38),\n",
              " (98, 623.51),\n",
              " (109, 693.41),\n",
              " (148, 302.91),\n",
              " (49, 31.42),\n",
              " (34, 22.58),\n",
              " (70, 832.17),\n",
              " (4, 800.73),\n",
              " (28, 543.12),\n",
              " (119, 910.29),\n",
              " (138, 144.31),\n",
              " (40, 133.38),\n",
              " (114, 951.05)]"
            ]
          },
          "metadata": {},
          "execution_count": 120
        }
      ]
    },
    {
      "cell_type": "code",
      "source": [
        "rddCategories.take(1)"
      ],
      "metadata": {
        "colab": {
          "base_uri": "https://localhost:8080/"
        },
        "id": "WQiZl_Nn4hx4",
        "outputId": "e94b7d5a-13f0-4460-a953-1fed6632f677"
      },
      "execution_count": null,
      "outputs": [
        {
          "output_type": "execute_result",
          "data": {
            "text/plain": [
              "[Row(_c0=0, category_id=1, category_name='Smartphones', parent_category='ELECTRONICS', created_at=None)]"
            ]
          },
          "metadata": {},
          "execution_count": 104
        }
      ]
    },
    {
      "cell_type": "code",
      "source": [
        "categories = rddCategories.filter(lambda cat:cat.category_id and cat.parent_category and cat.created_at is not None).map(lambda cat: (cat.category_id, normalizar_string(cat.parent_category))).filter(lambda x:x[1] is not None)"
      ],
      "metadata": {
        "id": "m6AC2FAwKec5"
      },
      "execution_count": null,
      "outputs": []
    },
    {
      "cell_type": "code",
      "source": [
        "categories.take(100)"
      ],
      "metadata": {
        "colab": {
          "base_uri": "https://localhost:8080/"
        },
        "collapsed": true,
        "id": "ltHPzSeZK6xZ",
        "outputId": "a31753e4-7ebc-4477-8e88-5acc91b12dfe"
      },
      "execution_count": null,
      "outputs": [
        {
          "output_type": "execute_result",
          "data": {
            "text/plain": [
              "[(2, 'Electronics'),\n",
              " (5, 'Electronics'),\n",
              " (6, 'Electronics'),\n",
              " (7, 'Clothing'),\n",
              " (8, 'Clothing'),\n",
              " (9, 'Clothing'),\n",
              " (11, 'Clothing'),\n",
              " (12, 'Books'),\n",
              " (14, 'Books'),\n",
              " (15, 'Books'),\n",
              " (16, 'Books'),\n",
              " (17, 'Books'),\n",
              " (19, 'Home & Garden'),\n",
              " (20, 'Home & Garden'),\n",
              " (21, 'Home & Garden'),\n",
              " (22, 'Home & Garden'),\n",
              " (23, 'Home & Garden'),\n",
              " (24, 'Sports & Outdoors'),\n",
              " (25, 'Sports & Outdoors'),\n",
              " (26, 'Sports & Outdoors'),\n",
              " (27, 'Sports & Outdoors'),\n",
              " (28, 'Sports & Outdoors'),\n",
              " (30, 'Health & Beauty'),\n",
              " (31, 'Health & Beauty'),\n",
              " (32, 'Health & Beauty'),\n",
              " (34, 'Health & Beauty'),\n",
              " (35, 'Health & Beauty'),\n",
              " (37, 'Toys & Games'),\n",
              " (40, 'Toys & Games'),\n",
              " (41, 'Automotive'),\n",
              " (42, 'Automotive'),\n",
              " (43, 'Automotive'),\n",
              " (44, 'Automotive'),\n",
              " (45, 'Automotive'),\n",
              " (48, 'Food & Beverages'),\n",
              " (49, 'Food & Beverages'),\n",
              " (50, 'Food & Beverages'),\n",
              " (51, 'Food & Beverages'),\n",
              " (52, 'Jewelry'),\n",
              " (53, 'Jewelry'),\n",
              " (54, 'Jewelry'),\n",
              " (55, 'Jewelry'),\n",
              " (56, 'Jewelry'),\n",
              " (57, 'Shoes'),\n",
              " (58, 'Shoes'),\n",
              " (59, 'Shoes'),\n",
              " (60, 'Shoes'),\n",
              " (61, 'Shoes'),\n",
              " (63, 'Baby & Kids'),\n",
              " (64, 'Baby & Kids'),\n",
              " (65, 'Baby & Kids'),\n",
              " (67, 'Baby & Kids'),\n",
              " (68, 'Baby & Kids'),\n",
              " (69, 'Pet Supplies'),\n",
              " (71, 'Pet Supplies'),\n",
              " (73, 'Pet Supplies'),\n",
              " (75, 'Office Supplies'),\n",
              " (76, 'Office Supplies'),\n",
              " (78, 'Office Supplies'),\n",
              " (79, 'Office Supplies'),\n",
              " (80, 'Office Supplies'),\n",
              " (81, 'Tools & Hardware'),\n",
              " (82, 'Tools & Hardware'),\n",
              " (84, 'Tools & Hardware'),\n",
              " (85, 'Tools & Hardware'),\n",
              " (86, 'Tools & Hardware'),\n",
              " (87, 'Music & Movies'),\n",
              " (88, 'Music & Movies'),\n",
              " (89, 'Music & Movies'),\n",
              " (90, 'Music & Movies'),\n",
              " (91, 'Music & Movies'),\n",
              " (92, 'Music & Movies'),\n",
              " (93, 'Art & Crafts'),\n",
              " (94, 'Art & Crafts'),\n",
              " (96, 'Art & Crafts'),\n",
              " (97, 'Art & Crafts'),\n",
              " (98, 'Art & Crafts'),\n",
              " (99, 'Travel'),\n",
              " (101, 'Travel'),\n",
              " (102, 'Travel'),\n",
              " (103, 'Travel'),\n",
              " (104, 'Travel'),\n",
              " (105, 'Kitchen & Dining'),\n",
              " (106, 'Kitchen & Dining'),\n",
              " (107, 'Kitchen & Dining'),\n",
              " (108, 'Kitchen & Dining'),\n",
              " (109, 'Kitchen & Dining'),\n",
              " (111, 'Kitchen & Dining'),\n",
              " (112, 'Furniture'),\n",
              " (113, 'Furniture'),\n",
              " (115, 'Furniture'),\n",
              " (116, 'Furniture'),\n",
              " (117, 'Furniture'),\n",
              " (118, 'Furniture'),\n",
              " (119, 'Furniture'),\n",
              " (120, 'Pet Care'),\n",
              " (121, 'Pet Care'),\n",
              " (122, 'Pet Care'),\n",
              " (123, 'Pet Care'),\n",
              " (124, 'Pet Care')]"
            ]
          },
          "metadata": {},
          "execution_count": 94
        }
      ]
    },
    {
      "cell_type": "code",
      "source": [
        "joinCategoriesPrice = categories.join(catPrice)"
      ],
      "metadata": {
        "id": "jK54rwdTUhRG"
      },
      "execution_count": null,
      "outputs": []
    },
    {
      "cell_type": "code",
      "source": [
        "joinCategoriesPrice.take(1)"
      ],
      "metadata": {
        "colab": {
          "base_uri": "https://localhost:8080/"
        },
        "id": "AgObIazyaWgk",
        "outputId": "59294a98-f6bb-4cef-f487-5e29cc8774c8"
      },
      "execution_count": null,
      "outputs": [
        {
          "output_type": "execute_result",
          "data": {
            "text/plain": [
              "[(6, ('Electronics', 2616.66))]"
            ]
          },
          "metadata": {},
          "execution_count": 162
        }
      ]
    },
    {
      "cell_type": "code",
      "source": [
        "joinCategoriesPrice.map(lambda p: (p[1][0],(p[1][1],1))).take(5)"
      ],
      "metadata": {
        "colab": {
          "base_uri": "https://localhost:8080/"
        },
        "id": "ngBzNXV_aRRz",
        "outputId": "0052c71b-fdd0-42e6-becd-abf3f5323616"
      },
      "execution_count": null,
      "outputs": [
        {
          "output_type": "execute_result",
          "data": {
            "text/plain": [
              "[('Electronics', (2616.66, 1)),\n",
              " ('Electronics', (1300.89, 1)),\n",
              " ('Electronics', (198.27, 1)),\n",
              " ('Electronics', (1197.86, 1)),\n",
              " ('Electronics', (2195.56, 1))]"
            ]
          },
          "metadata": {},
          "execution_count": 174
        }
      ]
    },
    {
      "cell_type": "code",
      "source": [
        "joinCategoriesPrice.map(lambda p: (p[1][0],(p[1][1],1))).reduceByKey(lambda a,b: (a[0]+b[0], a[1] +b[1])).take(10)"
      ],
      "metadata": {
        "colab": {
          "base_uri": "https://localhost:8080/"
        },
        "id": "leyJ6ucTafio",
        "outputId": "9529ca78-6dee-4ad7-98e9-1e64d4f72937"
      },
      "execution_count": null,
      "outputs": [
        {
          "output_type": "execute_result",
          "data": {
            "text/plain": [
              "[('Jewelry', (11991780.030000012, 23862)),\n",
              " ('Pet Supplies', (7112347.739999991, 14173)),\n",
              " ('Art & Crafts', (11864377.669999983, 23578)),\n",
              " ('Kitchen & Dining', (14309435.959999973, 28314)),\n",
              " ('Furniture', (16779771.499999985, 33429)),\n",
              " ('Clothing', (4781269.609999998, 18870)),\n",
              " ('Books', (1236077.600000001, 23896)),\n",
              " ('Automotive', (24148105.83000002, 23833)),\n",
              " ('Food & Beverages', (482085.8400000009, 18970)),\n",
              " ('Shoes', (11992688.229999967, 23824))]"
            ]
          },
          "metadata": {},
          "execution_count": 176
        }
      ]
    },
    {
      "cell_type": "code",
      "source": [
        "sumas_conteos = joinCategoriesPrice.map(lambda p: (p[1][0],(p[1][1],1))).reduceByKey(lambda a,b: (a[0]+b[0], a[1] +b[1]))"
      ],
      "metadata": {
        "id": "A29iGrOzP-sG"
      },
      "execution_count": null,
      "outputs": []
    },
    {
      "cell_type": "code",
      "source": [
        "sumas_conteos.take(1)"
      ],
      "metadata": {
        "colab": {
          "base_uri": "https://localhost:8080/"
        },
        "id": "LVteNowTZ-Xg",
        "outputId": "b682ef0f-d962-4901-cc35-5c5886c7b34b"
      },
      "execution_count": null,
      "outputs": [
        {
          "output_type": "execute_result",
          "data": {
            "text/plain": [
              "[('Jewelry', (11991780.030000012, 23862))]"
            ]
          },
          "metadata": {},
          "execution_count": 178
        }
      ]
    },
    {
      "cell_type": "code",
      "source": [
        "promedio_por_parent = sumas_conteos.mapValues(lambda sc: sc[0] / sc[1])"
      ],
      "metadata": {
        "id": "XCHk_5-pWB8l"
      },
      "execution_count": null,
      "outputs": []
    },
    {
      "cell_type": "code",
      "source": [
        "promedio_por_parent.take(1)"
      ],
      "metadata": {
        "colab": {
          "base_uri": "https://localhost:8080/"
        },
        "id": "cYBqjaXCd3e7",
        "outputId": "f5fd331f-c734-4b0d-bb07-8ae5b9085830"
      },
      "execution_count": null,
      "outputs": [
        {
          "output_type": "execute_result",
          "data": {
            "text/plain": [
              "[('Jewelry', 502.5471473472472)]"
            ]
          },
          "metadata": {},
          "execution_count": 183
        }
      ]
    },
    {
      "cell_type": "code",
      "source": [
        "top5Parent = promedio_por_parent.takeOrdered(5, key=lambda kv: -kv[1])"
      ],
      "metadata": {
        "id": "Od5N17wIWJNU"
      },
      "execution_count": null,
      "outputs": []
    },
    {
      "cell_type": "code",
      "source": [
        "for cat, avg in top5Parent:\n",
        "    print(f\"{cat}\\t{avg:.2f}\")"
      ],
      "metadata": {
        "colab": {
          "base_uri": "https://localhost:8080/"
        },
        "id": "qcV0dro8WO1Y",
        "outputId": "41e53031-7f77-4556-f401-eff3d4e08be5"
      },
      "execution_count": null,
      "outputs": [
        {
          "output_type": "stream",
          "name": "stdout",
          "text": [
            "Electronics\t1504.47\n",
            "Automotive\t1013.22\n",
            "Handmade\t506.24\n",
            "Grocery & Gourmet Food\t506.12\n",
            "Industrial & Scientific\t505.82\n"
          ]
        }
      ]
    }
  ]
}