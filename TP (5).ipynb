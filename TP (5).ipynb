{
  "cells": [
    {
      "cell_type": "code",
      "execution_count": 5,
      "metadata": {
        "id": "N1bykU9RrKVH"
      },
      "outputs": [],
      "source": [
        "import pandas as pd\n",
        "import numpy as np\n",
        "import matplotlib.pyplot as plt\n",
        "import seaborn as sns\n",
        "import calendar\n",
        "import squarify\n",
        "import plotly.express as px\n",
        "\n"
      ]
    },
    {
      "cell_type": "code",
      "execution_count": 503,
      "metadata": {
        "id": "wK7W1Mq7WOXz"
      },
      "outputs": [],
      "source": []
    },
    {
      "cell_type": "markdown",
      "metadata": {
        "id": "8D38RECsyEa8"
      },
      "source": [
        "# **CATEGORIES:**\n"
      ]
    },
    {
      "cell_type": "code",
      "execution_count": 504,
      "metadata": {
        "id": "2dppVw3-AKAs"
      },
      "outputs": [],
      "source": [
        "categories = pd.read_csv('categories_clean.csv')"
      ]
    },
    {
      "cell_type": "code",
      "execution_count": 505,
      "metadata": {
        "colab": {
          "base_uri": "https://localhost:8080/"
        },
        "id": "qNqxpQBrxcjq",
        "outputId": "28fc9a13-b6e8-4469-a442-cc9c8e17969a"
      },
      "outputs": [
        {
          "output_type": "stream",
          "name": "stdout",
          "text": [
            "<class 'pandas.core.frame.DataFrame'>\n",
            "RangeIndex: 176 entries, 0 to 175\n",
            "Data columns (total 3 columns):\n",
            " #   Column           Non-Null Count  Dtype \n",
            "---  ------           --------------  ----- \n",
            " 0   category_id      176 non-null    int64 \n",
            " 1   category_name    176 non-null    object\n",
            " 2   parent_category  176 non-null    object\n",
            "dtypes: int64(1), object(2)\n",
            "memory usage: 4.3+ KB\n"
          ]
        }
      ],
      "source": [
        "categories.info()"
      ]
    },
    {
      "cell_type": "markdown",
      "metadata": {
        "id": "h3jx1eAex_Kx"
      },
      "source": [
        "LIMPIEZA DE LAS COLUMNAS Y DE DATOS"
      ]
    },
    {
      "cell_type": "code",
      "execution_count": 506,
      "metadata": {
        "id": "YFNS_4RXuvKX"
      },
      "outputs": [],
      "source": [
        "categories.drop(columns=['Unnamed: 0','created_at'], errors = 'ignore', inplace = True)\n",
        "\n",
        "#Reduzco a un int32 category_id, ya que la cantidad de valores que puedo abarcar con esos 32bits es suficiente para categorizar productos.\n",
        "categories['category_id'] = categories['category_id'].astype(np.int32)\n",
        "\n",
        "# recorro cada dato de ambas col y las paso a string para manejarlas mas facil y acomodar los datos.\n",
        "for col in ['parent_category', 'category_name']:\n",
        "  categories[col] = categories[col].astype('string').str.strip().str.title().replace(['nan','undefined','','NaN','Undefined'],pd.NA).fillna('Unknown')\n",
        "\n",
        "# hago una mascara para solo quedarme los datos que no tengan ambas col como unknown.\n",
        "mask = (categories['parent_category'] == 'Unknown') & (categories['category_name'] == 'Unknown')\n",
        "categories = categories[~mask].copy()\n",
        "\n",
        "categories[\"category_name\"] = categories['category_name'].astype('category')\n",
        "categories['parent_category'] = categories['parent_category'].astype('category')\n",
        "\n",
        "#categories_in_order = categories.set_index([\"parent_category\",\"category_name\"]).sort_index(ascending=True)\n"
      ]
    },
    {
      "cell_type": "code",
      "execution_count": 507,
      "metadata": {
        "colab": {
          "base_uri": "https://localhost:8080/",
          "height": 0
        },
        "collapsed": true,
        "id": "DUYFmXbd1Z3u",
        "outputId": "7aea7f37-84cd-4fc6-f4e1-146317728d6f"
      },
      "outputs": [
        {
          "output_type": "execute_result",
          "data": {
            "text/plain": [
              "   category_id        category_name parent_category\n",
              "8            9  Children'S Clothing        Clothing"
            ],
            "text/html": [
              "\n",
              "  <div id=\"df-02a0a5f0-4a1b-4106-b06b-909d2aab06da\" class=\"colab-df-container\">\n",
              "    <div>\n",
              "<style scoped>\n",
              "    .dataframe tbody tr th:only-of-type {\n",
              "        vertical-align: middle;\n",
              "    }\n",
              "\n",
              "    .dataframe tbody tr th {\n",
              "        vertical-align: top;\n",
              "    }\n",
              "\n",
              "    .dataframe thead th {\n",
              "        text-align: right;\n",
              "    }\n",
              "</style>\n",
              "<table border=\"1\" class=\"dataframe\">\n",
              "  <thead>\n",
              "    <tr style=\"text-align: right;\">\n",
              "      <th></th>\n",
              "      <th>category_id</th>\n",
              "      <th>category_name</th>\n",
              "      <th>parent_category</th>\n",
              "    </tr>\n",
              "  </thead>\n",
              "  <tbody>\n",
              "    <tr>\n",
              "      <th>8</th>\n",
              "      <td>9</td>\n",
              "      <td>Children'S Clothing</td>\n",
              "      <td>Clothing</td>\n",
              "    </tr>\n",
              "  </tbody>\n",
              "</table>\n",
              "</div>\n",
              "    <div class=\"colab-df-buttons\">\n",
              "\n",
              "  <div class=\"colab-df-container\">\n",
              "    <button class=\"colab-df-convert\" onclick=\"convertToInteractive('df-02a0a5f0-4a1b-4106-b06b-909d2aab06da')\"\n",
              "            title=\"Convert this dataframe to an interactive table.\"\n",
              "            style=\"display:none;\">\n",
              "\n",
              "  <svg xmlns=\"http://www.w3.org/2000/svg\" height=\"24px\" viewBox=\"0 -960 960 960\">\n",
              "    <path d=\"M120-120v-720h720v720H120Zm60-500h600v-160H180v160Zm220 220h160v-160H400v160Zm0 220h160v-160H400v160ZM180-400h160v-160H180v160Zm440 0h160v-160H620v160ZM180-180h160v-160H180v160Zm440 0h160v-160H620v160Z\"/>\n",
              "  </svg>\n",
              "    </button>\n",
              "\n",
              "  <style>\n",
              "    .colab-df-container {\n",
              "      display:flex;\n",
              "      gap: 12px;\n",
              "    }\n",
              "\n",
              "    .colab-df-convert {\n",
              "      background-color: #E8F0FE;\n",
              "      border: none;\n",
              "      border-radius: 50%;\n",
              "      cursor: pointer;\n",
              "      display: none;\n",
              "      fill: #1967D2;\n",
              "      height: 32px;\n",
              "      padding: 0 0 0 0;\n",
              "      width: 32px;\n",
              "    }\n",
              "\n",
              "    .colab-df-convert:hover {\n",
              "      background-color: #E2EBFA;\n",
              "      box-shadow: 0px 1px 2px rgba(60, 64, 67, 0.3), 0px 1px 3px 1px rgba(60, 64, 67, 0.15);\n",
              "      fill: #174EA6;\n",
              "    }\n",
              "\n",
              "    .colab-df-buttons div {\n",
              "      margin-bottom: 4px;\n",
              "    }\n",
              "\n",
              "    [theme=dark] .colab-df-convert {\n",
              "      background-color: #3B4455;\n",
              "      fill: #D2E3FC;\n",
              "    }\n",
              "\n",
              "    [theme=dark] .colab-df-convert:hover {\n",
              "      background-color: #434B5C;\n",
              "      box-shadow: 0px 1px 3px 1px rgba(0, 0, 0, 0.15);\n",
              "      filter: drop-shadow(0px 1px 2px rgba(0, 0, 0, 0.3));\n",
              "      fill: #FFFFFF;\n",
              "    }\n",
              "  </style>\n",
              "\n",
              "    <script>\n",
              "      const buttonEl =\n",
              "        document.querySelector('#df-02a0a5f0-4a1b-4106-b06b-909d2aab06da button.colab-df-convert');\n",
              "      buttonEl.style.display =\n",
              "        google.colab.kernel.accessAllowed ? 'block' : 'none';\n",
              "\n",
              "      async function convertToInteractive(key) {\n",
              "        const element = document.querySelector('#df-02a0a5f0-4a1b-4106-b06b-909d2aab06da');\n",
              "        const dataTable =\n",
              "          await google.colab.kernel.invokeFunction('convertToInteractive',\n",
              "                                                    [key], {});\n",
              "        if (!dataTable) return;\n",
              "\n",
              "        const docLinkHtml = 'Like what you see? Visit the ' +\n",
              "          '<a target=\"_blank\" href=https://colab.research.google.com/notebooks/data_table.ipynb>data table notebook</a>'\n",
              "          + ' to learn more about interactive tables.';\n",
              "        element.innerHTML = '';\n",
              "        dataTable['output_type'] = 'display_data';\n",
              "        await google.colab.output.renderOutput(dataTable, element);\n",
              "        const docLink = document.createElement('div');\n",
              "        docLink.innerHTML = docLinkHtml;\n",
              "        element.appendChild(docLink);\n",
              "      }\n",
              "    </script>\n",
              "  </div>\n",
              "\n",
              "\n",
              "    </div>\n",
              "  </div>\n"
            ],
            "application/vnd.google.colaboratory.intrinsic+json": {
              "type": "dataframe",
              "summary": "{\n  \"name\": \"categories\",\n  \"rows\": 1,\n  \"fields\": [\n    {\n      \"column\": \"category_id\",\n      \"properties\": {\n        \"dtype\": \"int32\",\n        \"num_unique_values\": 1,\n        \"samples\": [\n          9\n        ],\n        \"semantic_type\": \"\",\n        \"description\": \"\"\n      }\n    },\n    {\n      \"column\": \"category_name\",\n      \"properties\": {\n        \"dtype\": \"category\",\n        \"num_unique_values\": 1,\n        \"samples\": [\n          \"Children'S Clothing\"\n        ],\n        \"semantic_type\": \"\",\n        \"description\": \"\"\n      }\n    },\n    {\n      \"column\": \"parent_category\",\n      \"properties\": {\n        \"dtype\": \"category\",\n        \"num_unique_values\": 1,\n        \"samples\": [\n          \"Clothing\"\n        ],\n        \"semantic_type\": \"\",\n        \"description\": \"\"\n      }\n    }\n  ]\n}"
            }
          },
          "metadata": {},
          "execution_count": 507
        }
      ],
      "source": [
        "categories.loc[categories[\"category_id\"] == 9]\n"
      ]
    },
    {
      "cell_type": "markdown",
      "metadata": {
        "id": "RteEXyEtzSRo"
      },
      "source": [
        "# **CUSTOMERS**"
      ]
    },
    {
      "cell_type": "code",
      "execution_count": 508,
      "metadata": {
        "id": "dOJD4WCQAOiT"
      },
      "outputs": [],
      "source": [
        "customers = pd.read_csv('customers_clean.csv')"
      ]
    },
    {
      "cell_type": "code",
      "execution_count": 509,
      "metadata": {
        "colab": {
          "base_uri": "https://localhost:8080/"
        },
        "collapsed": true,
        "id": "8K8jJcb8z0PA",
        "outputId": "2f82ad67-ab7b-41c1-e5f7-cfe8e1e2c829"
      },
      "outputs": [
        {
          "output_type": "stream",
          "name": "stdout",
          "text": [
            "<class 'pandas.core.frame.DataFrame'>\n",
            "RangeIndex: 500000 entries, 0 to 499999\n",
            "Data columns (total 15 columns):\n",
            " #   Column             Non-Null Count   Dtype \n",
            "---  ------             --------------   ----- \n",
            " 0   customer_id        500000 non-null  int64 \n",
            " 1   email              500000 non-null  object\n",
            " 2   first_name         500000 non-null  object\n",
            " 3   last_name          500000 non-null  object\n",
            " 4   date_of_birth      454914 non-null  object\n",
            " 5   gender             500000 non-null  object\n",
            " 6   country            500000 non-null  object\n",
            " 7   city               500000 non-null  object\n",
            " 8   postal_code        500000 non-null  object\n",
            " 9   address            500000 non-null  object\n",
            " 10  registration_date  455155 non-null  object\n",
            " 11  last_login         454954 non-null  object\n",
            " 12  is_active          500000 non-null  bool  \n",
            " 13  customer_segment   500000 non-null  object\n",
            " 14  marketing_consent  500000 non-null  bool  \n",
            "dtypes: bool(2), int64(1), object(12)\n",
            "memory usage: 50.5+ MB\n"
          ]
        }
      ],
      "source": [
        "customers.info()"
      ]
    },
    {
      "cell_type": "code",
      "execution_count": 510,
      "metadata": {
        "id": "6z_M-x2k_Xbz"
      },
      "outputs": [],
      "source": [
        "customers.drop(columns=['Unnamed: 0','phone'], errors = 'ignore', inplace = True)\n",
        "\n",
        "#limpio columna gender\n",
        "customers['gender'] = customers['gender'].astype('string').str.strip().str.upper().fillna('OTHER').replace('UNDEFINED','OTHER').astype('category')\n",
        "\n",
        "# generos = customers.groupby('gender').agg(cantidad=('gender','count'))\n",
        "\n",
        "#limpio y arreglo country\n",
        "customers['country'] = customers['country'].astype('string').str.strip().str.title().fillna('Undefined').astype('category')\n",
        "\n",
        "#limpio y arreglo city\n",
        "customers['city'] = customers['city'].astype('string').str.strip().str.title().fillna('-').replace('Undefined','-')\n",
        "\n",
        "\n",
        "#arreglo CP\n",
        "customers['postal_code'] = customers['postal_code'].astype('string').str.strip().fillna('Undefined').replace('Undefined','-') #arreglar cp\n",
        "\n",
        "#arreglo addres\n",
        "customers['address'] = customers['address'].astype('string').str.strip().fillna('Undefined').replace('Undefined','-')\n",
        "\n",
        "#arreglo email\n",
        "customers['email'] = customers['email'].astype('string').str.strip().str.lower().fillna('Undefined').replace('Undefined','-')\n",
        "\n",
        "#arreglo nombre\n",
        "customers['first_name'] = customers['first_name'].astype('string').str.strip().str.title().fillna('Undefined').replace('Undefined','-')\n",
        "\n",
        "#arreglo apellido\n",
        "customers['last_name'] = customers['last_name'].astype('string').str.strip().str.title().fillna('Undefined').replace('Undefined','-')\n",
        "\n",
        "#arreglo fecha de nacimiento\n",
        "customers['date_of_birth'] = customers['date_of_birth'].astype('string').str.strip().replace('', pd.NA)      # si queda vacío, lo marca como NA\n",
        "customers['date_of_birth'] = pd.to_datetime(customers['date_of_birth'], errors='coerce')\n",
        "\n",
        "#arreglo customer_Segment\n",
        "customers['customer_segment'] = customers['customer_segment'].astype('string').str.strip().str.title().fillna('Undefined').replace('Undefined','Others').astype('category')\n",
        "\n",
        "#arreglo registration date y last login con formato datetime\n",
        "customers['registration_date'] = customers['registration_date'].astype('string').str.strip().replace('', pd.NA)\n",
        "customers['registration_date'] = pd.to_datetime(customers['registration_date'],errors='coerce')\n",
        "\n",
        "customers['last_login'] = customers['last_login'].astype('string').str.strip().replace('', pd.NA)\n",
        "customers['last_login'] = pd.to_datetime(customers['last_login'],errors='coerce')\n"
      ]
    },
    {
      "cell_type": "code",
      "execution_count": 511,
      "metadata": {
        "colab": {
          "base_uri": "https://localhost:8080/",
          "height": 0
        },
        "id": "7eCmit9RCbur",
        "outputId": "b332a0c1-8488-4e37-8be5-2932bf89bc21"
      },
      "outputs": [
        {
          "output_type": "execute_result",
          "data": {
            "text/plain": [
              "        customer_id                       email   first_name  last_name  \\\n",
              "0                 1         uthomas@example.net        Kayla      Smith   \n",
              "1                 2  caldwellandrew@example.com      Carolyn       Gray   \n",
              "2                 3           jon32@example.org      Deborah     Martin   \n",
              "3                 4          ksmith@example.org       Rachel    Ellison   \n",
              "4                 5  andrewsjessica@example.net         Lisa     Phelps   \n",
              "...             ...                         ...          ...        ...   \n",
              "499995       499996    adampeterson@example.com         Kara      Smith   \n",
              "499996       499997      walshdevon@example.org  Christopher   Peterson   \n",
              "499997       499998     freemanlisa@example.com       Joshua  Macdonald   \n",
              "499998       499999          preese@example.com     Jonathan      Brown   \n",
              "499999       500000         janet18@example.com        Jerry       Cook   \n",
              "\n",
              "       date_of_birth gender    country                  city postal_code  \\\n",
              "0         1948-05-20      F     Brazil        South Michelle     70351.0   \n",
              "1         1983-03-19      F     France       Lake Shaneville     65372.0   \n",
              "2         1940-05-23      M        Usa           Lisaborough     32855.0   \n",
              "3         1969-12-21      M  Australia  South Michaelborough     11530.0   \n",
              "4         1940-05-18      M      Japan           Herrerabury     61228.0   \n",
              "...              ...    ...        ...                   ...         ...   \n",
              "499995    1942-07-29  OTHER     Mexico          North Donald     83228.0   \n",
              "499996    1999-12-21      F  Australia                     -     58730.0   \n",
              "499997    1985-06-16  OTHER         Uk    West Joshuaborough      2742.0   \n",
              "499998    2006-07-21      M  Undefined         Robinsonville           -   \n",
              "499999    1958-12-18      M         Uk            East Sheri     43169.0   \n",
              "\n",
              "                                                  address  \\\n",
              "0                                                       -   \n",
              "1       247 Allison Overpass Suite 960 North Dillon, A...   \n",
              "2                 61358 Mills Spur Lake Tiffany, MS 52073   \n",
              "3                                               undefined   \n",
              "4                   6184 King Trail Lake Trevor, IA 55611   \n",
              "...                                                   ...   \n",
              "499995                                                  -   \n",
              "499996                          USNV Sherman FPO AA 42084   \n",
              "499997           96708 Fowler Island Kristinton, OR 21429   \n",
              "499998                                                  -   \n",
              "499999               0716 jody prairie leemouth, nv 64385   \n",
              "\n",
              "                registration_date                 last_login  is_active  \\\n",
              "0      2022-09-22 09:40:47.913063 2025-01-07 12:09:24.323425       True   \n",
              "1      2022-11-14 23:20:08.324356 2024-08-25 17:36:03.417619       True   \n",
              "2      2022-10-14 15:49:17.728606 2023-04-10 06:15:20.412198       True   \n",
              "3      2024-03-16 09:18:53.251566 2025-03-20 12:06:38.326651       True   \n",
              "4      2023-07-21 10:07:22.968497 2025-04-19 11:40:01.441135       True   \n",
              "...                           ...                        ...        ...   \n",
              "499995 2022-12-08 21:37:25.538388                        NaT       True   \n",
              "499996 2023-06-28 04:04:19.964403                        NaT       True   \n",
              "499997 2024-04-13 12:31:54.977860 2024-10-16 17:13:41.627636      False   \n",
              "499998 2022-08-26 11:04:41.091918 2025-03-08 17:06:18.286590      False   \n",
              "499999 2022-09-09 04:44:14.236449 2023-04-22 16:25:15.177462       True   \n",
              "\n",
              "       customer_segment  marketing_consent  \n",
              "0               Regular               True  \n",
              "1                Budget              False  \n",
              "2                Budget               True  \n",
              "3                Others              False  \n",
              "4               Regular               True  \n",
              "...                 ...                ...  \n",
              "499995          Premium              False  \n",
              "499996          Regular               True  \n",
              "499997           Others              False  \n",
              "499998          Regular               True  \n",
              "499999           Others              False  \n",
              "\n",
              "[500000 rows x 15 columns]"
            ],
            "text/html": [
              "\n",
              "  <div id=\"df-3d4b4549-e5b0-46d3-a2c1-ec535535f7a4\" class=\"colab-df-container\">\n",
              "    <div>\n",
              "<style scoped>\n",
              "    .dataframe tbody tr th:only-of-type {\n",
              "        vertical-align: middle;\n",
              "    }\n",
              "\n",
              "    .dataframe tbody tr th {\n",
              "        vertical-align: top;\n",
              "    }\n",
              "\n",
              "    .dataframe thead th {\n",
              "        text-align: right;\n",
              "    }\n",
              "</style>\n",
              "<table border=\"1\" class=\"dataframe\">\n",
              "  <thead>\n",
              "    <tr style=\"text-align: right;\">\n",
              "      <th></th>\n",
              "      <th>customer_id</th>\n",
              "      <th>email</th>\n",
              "      <th>first_name</th>\n",
              "      <th>last_name</th>\n",
              "      <th>date_of_birth</th>\n",
              "      <th>gender</th>\n",
              "      <th>country</th>\n",
              "      <th>city</th>\n",
              "      <th>postal_code</th>\n",
              "      <th>address</th>\n",
              "      <th>registration_date</th>\n",
              "      <th>last_login</th>\n",
              "      <th>is_active</th>\n",
              "      <th>customer_segment</th>\n",
              "      <th>marketing_consent</th>\n",
              "    </tr>\n",
              "  </thead>\n",
              "  <tbody>\n",
              "    <tr>\n",
              "      <th>0</th>\n",
              "      <td>1</td>\n",
              "      <td>uthomas@example.net</td>\n",
              "      <td>Kayla</td>\n",
              "      <td>Smith</td>\n",
              "      <td>1948-05-20</td>\n",
              "      <td>F</td>\n",
              "      <td>Brazil</td>\n",
              "      <td>South Michelle</td>\n",
              "      <td>70351.0</td>\n",
              "      <td>-</td>\n",
              "      <td>2022-09-22 09:40:47.913063</td>\n",
              "      <td>2025-01-07 12:09:24.323425</td>\n",
              "      <td>True</td>\n",
              "      <td>Regular</td>\n",
              "      <td>True</td>\n",
              "    </tr>\n",
              "    <tr>\n",
              "      <th>1</th>\n",
              "      <td>2</td>\n",
              "      <td>caldwellandrew@example.com</td>\n",
              "      <td>Carolyn</td>\n",
              "      <td>Gray</td>\n",
              "      <td>1983-03-19</td>\n",
              "      <td>F</td>\n",
              "      <td>France</td>\n",
              "      <td>Lake Shaneville</td>\n",
              "      <td>65372.0</td>\n",
              "      <td>247 Allison Overpass Suite 960 North Dillon, A...</td>\n",
              "      <td>2022-11-14 23:20:08.324356</td>\n",
              "      <td>2024-08-25 17:36:03.417619</td>\n",
              "      <td>True</td>\n",
              "      <td>Budget</td>\n",
              "      <td>False</td>\n",
              "    </tr>\n",
              "    <tr>\n",
              "      <th>2</th>\n",
              "      <td>3</td>\n",
              "      <td>jon32@example.org</td>\n",
              "      <td>Deborah</td>\n",
              "      <td>Martin</td>\n",
              "      <td>1940-05-23</td>\n",
              "      <td>M</td>\n",
              "      <td>Usa</td>\n",
              "      <td>Lisaborough</td>\n",
              "      <td>32855.0</td>\n",
              "      <td>61358 Mills Spur Lake Tiffany, MS 52073</td>\n",
              "      <td>2022-10-14 15:49:17.728606</td>\n",
              "      <td>2023-04-10 06:15:20.412198</td>\n",
              "      <td>True</td>\n",
              "      <td>Budget</td>\n",
              "      <td>True</td>\n",
              "    </tr>\n",
              "    <tr>\n",
              "      <th>3</th>\n",
              "      <td>4</td>\n",
              "      <td>ksmith@example.org</td>\n",
              "      <td>Rachel</td>\n",
              "      <td>Ellison</td>\n",
              "      <td>1969-12-21</td>\n",
              "      <td>M</td>\n",
              "      <td>Australia</td>\n",
              "      <td>South Michaelborough</td>\n",
              "      <td>11530.0</td>\n",
              "      <td>undefined</td>\n",
              "      <td>2024-03-16 09:18:53.251566</td>\n",
              "      <td>2025-03-20 12:06:38.326651</td>\n",
              "      <td>True</td>\n",
              "      <td>Others</td>\n",
              "      <td>False</td>\n",
              "    </tr>\n",
              "    <tr>\n",
              "      <th>4</th>\n",
              "      <td>5</td>\n",
              "      <td>andrewsjessica@example.net</td>\n",
              "      <td>Lisa</td>\n",
              "      <td>Phelps</td>\n",
              "      <td>1940-05-18</td>\n",
              "      <td>M</td>\n",
              "      <td>Japan</td>\n",
              "      <td>Herrerabury</td>\n",
              "      <td>61228.0</td>\n",
              "      <td>6184 King Trail Lake Trevor, IA 55611</td>\n",
              "      <td>2023-07-21 10:07:22.968497</td>\n",
              "      <td>2025-04-19 11:40:01.441135</td>\n",
              "      <td>True</td>\n",
              "      <td>Regular</td>\n",
              "      <td>True</td>\n",
              "    </tr>\n",
              "    <tr>\n",
              "      <th>...</th>\n",
              "      <td>...</td>\n",
              "      <td>...</td>\n",
              "      <td>...</td>\n",
              "      <td>...</td>\n",
              "      <td>...</td>\n",
              "      <td>...</td>\n",
              "      <td>...</td>\n",
              "      <td>...</td>\n",
              "      <td>...</td>\n",
              "      <td>...</td>\n",
              "      <td>...</td>\n",
              "      <td>...</td>\n",
              "      <td>...</td>\n",
              "      <td>...</td>\n",
              "      <td>...</td>\n",
              "    </tr>\n",
              "    <tr>\n",
              "      <th>499995</th>\n",
              "      <td>499996</td>\n",
              "      <td>adampeterson@example.com</td>\n",
              "      <td>Kara</td>\n",
              "      <td>Smith</td>\n",
              "      <td>1942-07-29</td>\n",
              "      <td>OTHER</td>\n",
              "      <td>Mexico</td>\n",
              "      <td>North Donald</td>\n",
              "      <td>83228.0</td>\n",
              "      <td>-</td>\n",
              "      <td>2022-12-08 21:37:25.538388</td>\n",
              "      <td>NaT</td>\n",
              "      <td>True</td>\n",
              "      <td>Premium</td>\n",
              "      <td>False</td>\n",
              "    </tr>\n",
              "    <tr>\n",
              "      <th>499996</th>\n",
              "      <td>499997</td>\n",
              "      <td>walshdevon@example.org</td>\n",
              "      <td>Christopher</td>\n",
              "      <td>Peterson</td>\n",
              "      <td>1999-12-21</td>\n",
              "      <td>F</td>\n",
              "      <td>Australia</td>\n",
              "      <td>-</td>\n",
              "      <td>58730.0</td>\n",
              "      <td>USNV Sherman FPO AA 42084</td>\n",
              "      <td>2023-06-28 04:04:19.964403</td>\n",
              "      <td>NaT</td>\n",
              "      <td>True</td>\n",
              "      <td>Regular</td>\n",
              "      <td>True</td>\n",
              "    </tr>\n",
              "    <tr>\n",
              "      <th>499997</th>\n",
              "      <td>499998</td>\n",
              "      <td>freemanlisa@example.com</td>\n",
              "      <td>Joshua</td>\n",
              "      <td>Macdonald</td>\n",
              "      <td>1985-06-16</td>\n",
              "      <td>OTHER</td>\n",
              "      <td>Uk</td>\n",
              "      <td>West Joshuaborough</td>\n",
              "      <td>2742.0</td>\n",
              "      <td>96708 Fowler Island Kristinton, OR 21429</td>\n",
              "      <td>2024-04-13 12:31:54.977860</td>\n",
              "      <td>2024-10-16 17:13:41.627636</td>\n",
              "      <td>False</td>\n",
              "      <td>Others</td>\n",
              "      <td>False</td>\n",
              "    </tr>\n",
              "    <tr>\n",
              "      <th>499998</th>\n",
              "      <td>499999</td>\n",
              "      <td>preese@example.com</td>\n",
              "      <td>Jonathan</td>\n",
              "      <td>Brown</td>\n",
              "      <td>2006-07-21</td>\n",
              "      <td>M</td>\n",
              "      <td>Undefined</td>\n",
              "      <td>Robinsonville</td>\n",
              "      <td>-</td>\n",
              "      <td>-</td>\n",
              "      <td>2022-08-26 11:04:41.091918</td>\n",
              "      <td>2025-03-08 17:06:18.286590</td>\n",
              "      <td>False</td>\n",
              "      <td>Regular</td>\n",
              "      <td>True</td>\n",
              "    </tr>\n",
              "    <tr>\n",
              "      <th>499999</th>\n",
              "      <td>500000</td>\n",
              "      <td>janet18@example.com</td>\n",
              "      <td>Jerry</td>\n",
              "      <td>Cook</td>\n",
              "      <td>1958-12-18</td>\n",
              "      <td>M</td>\n",
              "      <td>Uk</td>\n",
              "      <td>East Sheri</td>\n",
              "      <td>43169.0</td>\n",
              "      <td>0716 jody prairie leemouth, nv 64385</td>\n",
              "      <td>2022-09-09 04:44:14.236449</td>\n",
              "      <td>2023-04-22 16:25:15.177462</td>\n",
              "      <td>True</td>\n",
              "      <td>Others</td>\n",
              "      <td>False</td>\n",
              "    </tr>\n",
              "  </tbody>\n",
              "</table>\n",
              "<p>500000 rows × 15 columns</p>\n",
              "</div>\n",
              "    <div class=\"colab-df-buttons\">\n",
              "\n",
              "  <div class=\"colab-df-container\">\n",
              "    <button class=\"colab-df-convert\" onclick=\"convertToInteractive('df-3d4b4549-e5b0-46d3-a2c1-ec535535f7a4')\"\n",
              "            title=\"Convert this dataframe to an interactive table.\"\n",
              "            style=\"display:none;\">\n",
              "\n",
              "  <svg xmlns=\"http://www.w3.org/2000/svg\" height=\"24px\" viewBox=\"0 -960 960 960\">\n",
              "    <path d=\"M120-120v-720h720v720H120Zm60-500h600v-160H180v160Zm220 220h160v-160H400v160Zm0 220h160v-160H400v160ZM180-400h160v-160H180v160Zm440 0h160v-160H620v160ZM180-180h160v-160H180v160Zm440 0h160v-160H620v160Z\"/>\n",
              "  </svg>\n",
              "    </button>\n",
              "\n",
              "  <style>\n",
              "    .colab-df-container {\n",
              "      display:flex;\n",
              "      gap: 12px;\n",
              "    }\n",
              "\n",
              "    .colab-df-convert {\n",
              "      background-color: #E8F0FE;\n",
              "      border: none;\n",
              "      border-radius: 50%;\n",
              "      cursor: pointer;\n",
              "      display: none;\n",
              "      fill: #1967D2;\n",
              "      height: 32px;\n",
              "      padding: 0 0 0 0;\n",
              "      width: 32px;\n",
              "    }\n",
              "\n",
              "    .colab-df-convert:hover {\n",
              "      background-color: #E2EBFA;\n",
              "      box-shadow: 0px 1px 2px rgba(60, 64, 67, 0.3), 0px 1px 3px 1px rgba(60, 64, 67, 0.15);\n",
              "      fill: #174EA6;\n",
              "    }\n",
              "\n",
              "    .colab-df-buttons div {\n",
              "      margin-bottom: 4px;\n",
              "    }\n",
              "\n",
              "    [theme=dark] .colab-df-convert {\n",
              "      background-color: #3B4455;\n",
              "      fill: #D2E3FC;\n",
              "    }\n",
              "\n",
              "    [theme=dark] .colab-df-convert:hover {\n",
              "      background-color: #434B5C;\n",
              "      box-shadow: 0px 1px 3px 1px rgba(0, 0, 0, 0.15);\n",
              "      filter: drop-shadow(0px 1px 2px rgba(0, 0, 0, 0.3));\n",
              "      fill: #FFFFFF;\n",
              "    }\n",
              "  </style>\n",
              "\n",
              "    <script>\n",
              "      const buttonEl =\n",
              "        document.querySelector('#df-3d4b4549-e5b0-46d3-a2c1-ec535535f7a4 button.colab-df-convert');\n",
              "      buttonEl.style.display =\n",
              "        google.colab.kernel.accessAllowed ? 'block' : 'none';\n",
              "\n",
              "      async function convertToInteractive(key) {\n",
              "        const element = document.querySelector('#df-3d4b4549-e5b0-46d3-a2c1-ec535535f7a4');\n",
              "        const dataTable =\n",
              "          await google.colab.kernel.invokeFunction('convertToInteractive',\n",
              "                                                    [key], {});\n",
              "        if (!dataTable) return;\n",
              "\n",
              "        const docLinkHtml = 'Like what you see? Visit the ' +\n",
              "          '<a target=\"_blank\" href=https://colab.research.google.com/notebooks/data_table.ipynb>data table notebook</a>'\n",
              "          + ' to learn more about interactive tables.';\n",
              "        element.innerHTML = '';\n",
              "        dataTable['output_type'] = 'display_data';\n",
              "        await google.colab.output.renderOutput(dataTable, element);\n",
              "        const docLink = document.createElement('div');\n",
              "        docLink.innerHTML = docLinkHtml;\n",
              "        element.appendChild(docLink);\n",
              "      }\n",
              "    </script>\n",
              "  </div>\n",
              "\n",
              "\n",
              "    <div id=\"df-d50103c9-4f86-4adf-9036-5156cb780243\">\n",
              "      <button class=\"colab-df-quickchart\" onclick=\"quickchart('df-d50103c9-4f86-4adf-9036-5156cb780243')\"\n",
              "                title=\"Suggest charts\"\n",
              "                style=\"display:none;\">\n",
              "\n",
              "<svg xmlns=\"http://www.w3.org/2000/svg\" height=\"24px\"viewBox=\"0 0 24 24\"\n",
              "     width=\"24px\">\n",
              "    <g>\n",
              "        <path d=\"M19 3H5c-1.1 0-2 .9-2 2v14c0 1.1.9 2 2 2h14c1.1 0 2-.9 2-2V5c0-1.1-.9-2-2-2zM9 17H7v-7h2v7zm4 0h-2V7h2v10zm4 0h-2v-4h2v4z\"/>\n",
              "    </g>\n",
              "</svg>\n",
              "      </button>\n",
              "\n",
              "<style>\n",
              "  .colab-df-quickchart {\n",
              "      --bg-color: #E8F0FE;\n",
              "      --fill-color: #1967D2;\n",
              "      --hover-bg-color: #E2EBFA;\n",
              "      --hover-fill-color: #174EA6;\n",
              "      --disabled-fill-color: #AAA;\n",
              "      --disabled-bg-color: #DDD;\n",
              "  }\n",
              "\n",
              "  [theme=dark] .colab-df-quickchart {\n",
              "      --bg-color: #3B4455;\n",
              "      --fill-color: #D2E3FC;\n",
              "      --hover-bg-color: #434B5C;\n",
              "      --hover-fill-color: #FFFFFF;\n",
              "      --disabled-bg-color: #3B4455;\n",
              "      --disabled-fill-color: #666;\n",
              "  }\n",
              "\n",
              "  .colab-df-quickchart {\n",
              "    background-color: var(--bg-color);\n",
              "    border: none;\n",
              "    border-radius: 50%;\n",
              "    cursor: pointer;\n",
              "    display: none;\n",
              "    fill: var(--fill-color);\n",
              "    height: 32px;\n",
              "    padding: 0;\n",
              "    width: 32px;\n",
              "  }\n",
              "\n",
              "  .colab-df-quickchart:hover {\n",
              "    background-color: var(--hover-bg-color);\n",
              "    box-shadow: 0 1px 2px rgba(60, 64, 67, 0.3), 0 1px 3px 1px rgba(60, 64, 67, 0.15);\n",
              "    fill: var(--button-hover-fill-color);\n",
              "  }\n",
              "\n",
              "  .colab-df-quickchart-complete:disabled,\n",
              "  .colab-df-quickchart-complete:disabled:hover {\n",
              "    background-color: var(--disabled-bg-color);\n",
              "    fill: var(--disabled-fill-color);\n",
              "    box-shadow: none;\n",
              "  }\n",
              "\n",
              "  .colab-df-spinner {\n",
              "    border: 2px solid var(--fill-color);\n",
              "    border-color: transparent;\n",
              "    border-bottom-color: var(--fill-color);\n",
              "    animation:\n",
              "      spin 1s steps(1) infinite;\n",
              "  }\n",
              "\n",
              "  @keyframes spin {\n",
              "    0% {\n",
              "      border-color: transparent;\n",
              "      border-bottom-color: var(--fill-color);\n",
              "      border-left-color: var(--fill-color);\n",
              "    }\n",
              "    20% {\n",
              "      border-color: transparent;\n",
              "      border-left-color: var(--fill-color);\n",
              "      border-top-color: var(--fill-color);\n",
              "    }\n",
              "    30% {\n",
              "      border-color: transparent;\n",
              "      border-left-color: var(--fill-color);\n",
              "      border-top-color: var(--fill-color);\n",
              "      border-right-color: var(--fill-color);\n",
              "    }\n",
              "    40% {\n",
              "      border-color: transparent;\n",
              "      border-right-color: var(--fill-color);\n",
              "      border-top-color: var(--fill-color);\n",
              "    }\n",
              "    60% {\n",
              "      border-color: transparent;\n",
              "      border-right-color: var(--fill-color);\n",
              "    }\n",
              "    80% {\n",
              "      border-color: transparent;\n",
              "      border-right-color: var(--fill-color);\n",
              "      border-bottom-color: var(--fill-color);\n",
              "    }\n",
              "    90% {\n",
              "      border-color: transparent;\n",
              "      border-bottom-color: var(--fill-color);\n",
              "    }\n",
              "  }\n",
              "</style>\n",
              "\n",
              "      <script>\n",
              "        async function quickchart(key) {\n",
              "          const quickchartButtonEl =\n",
              "            document.querySelector('#' + key + ' button');\n",
              "          quickchartButtonEl.disabled = true;  // To prevent multiple clicks.\n",
              "          quickchartButtonEl.classList.add('colab-df-spinner');\n",
              "          try {\n",
              "            const charts = await google.colab.kernel.invokeFunction(\n",
              "                'suggestCharts', [key], {});\n",
              "          } catch (error) {\n",
              "            console.error('Error during call to suggestCharts:', error);\n",
              "          }\n",
              "          quickchartButtonEl.classList.remove('colab-df-spinner');\n",
              "          quickchartButtonEl.classList.add('colab-df-quickchart-complete');\n",
              "        }\n",
              "        (() => {\n",
              "          let quickchartButtonEl =\n",
              "            document.querySelector('#df-d50103c9-4f86-4adf-9036-5156cb780243 button');\n",
              "          quickchartButtonEl.style.display =\n",
              "            google.colab.kernel.accessAllowed ? 'block' : 'none';\n",
              "        })();\n",
              "      </script>\n",
              "    </div>\n",
              "\n",
              "  <div id=\"id_d2107e52-e698-492d-b996-f57974dd7492\">\n",
              "    <style>\n",
              "      .colab-df-generate {\n",
              "        background-color: #E8F0FE;\n",
              "        border: none;\n",
              "        border-radius: 50%;\n",
              "        cursor: pointer;\n",
              "        display: none;\n",
              "        fill: #1967D2;\n",
              "        height: 32px;\n",
              "        padding: 0 0 0 0;\n",
              "        width: 32px;\n",
              "      }\n",
              "\n",
              "      .colab-df-generate:hover {\n",
              "        background-color: #E2EBFA;\n",
              "        box-shadow: 0px 1px 2px rgba(60, 64, 67, 0.3), 0px 1px 3px 1px rgba(60, 64, 67, 0.15);\n",
              "        fill: #174EA6;\n",
              "      }\n",
              "\n",
              "      [theme=dark] .colab-df-generate {\n",
              "        background-color: #3B4455;\n",
              "        fill: #D2E3FC;\n",
              "      }\n",
              "\n",
              "      [theme=dark] .colab-df-generate:hover {\n",
              "        background-color: #434B5C;\n",
              "        box-shadow: 0px 1px 3px 1px rgba(0, 0, 0, 0.15);\n",
              "        filter: drop-shadow(0px 1px 2px rgba(0, 0, 0, 0.3));\n",
              "        fill: #FFFFFF;\n",
              "      }\n",
              "    </style>\n",
              "    <button class=\"colab-df-generate\" onclick=\"generateWithVariable('customers')\"\n",
              "            title=\"Generate code using this dataframe.\"\n",
              "            style=\"display:none;\">\n",
              "\n",
              "  <svg xmlns=\"http://www.w3.org/2000/svg\" height=\"24px\"viewBox=\"0 0 24 24\"\n",
              "       width=\"24px\">\n",
              "    <path d=\"M7,19H8.4L18.45,9,17,7.55,7,17.6ZM5,21V16.75L18.45,3.32a2,2,0,0,1,2.83,0l1.4,1.43a1.91,1.91,0,0,1,.58,1.4,1.91,1.91,0,0,1-.58,1.4L9.25,21ZM18.45,9,17,7.55Zm-12,3A5.31,5.31,0,0,0,4.9,8.1,5.31,5.31,0,0,0,1,6.5,5.31,5.31,0,0,0,4.9,4.9,5.31,5.31,0,0,0,6.5,1,5.31,5.31,0,0,0,8.1,4.9,5.31,5.31,0,0,0,12,6.5,5.46,5.46,0,0,0,6.5,12Z\"/>\n",
              "  </svg>\n",
              "    </button>\n",
              "    <script>\n",
              "      (() => {\n",
              "      const buttonEl =\n",
              "        document.querySelector('#id_d2107e52-e698-492d-b996-f57974dd7492 button.colab-df-generate');\n",
              "      buttonEl.style.display =\n",
              "        google.colab.kernel.accessAllowed ? 'block' : 'none';\n",
              "\n",
              "      buttonEl.onclick = () => {\n",
              "        google.colab.notebook.generateWithVariable('customers');\n",
              "      }\n",
              "      })();\n",
              "    </script>\n",
              "  </div>\n",
              "\n",
              "    </div>\n",
              "  </div>\n"
            ],
            "application/vnd.google.colaboratory.intrinsic+json": {
              "type": "dataframe",
              "variable_name": "customers"
            }
          },
          "metadata": {},
          "execution_count": 511
        }
      ],
      "source": [
        "customers"
      ]
    },
    {
      "cell_type": "code",
      "execution_count": 512,
      "metadata": {
        "colab": {
          "base_uri": "https://localhost:8080/"
        },
        "id": "cT6kGZ-6jMfa",
        "outputId": "0bef1047-39bb-4e35-cf88-6a6bc61b6d69"
      },
      "outputs": [
        {
          "output_type": "execute_result",
          "data": {
            "text/plain": [
              "['Brazil', 'France', 'Usa', 'Australia', 'Japan', ..., 'India', 'Mexico', 'Undefined', 'Canada', 'Uk']\n",
              "Length: 11\n",
              "Categories (11, string): [Australia, Brazil, Canada, France, ..., Mexico, Uk, Undefined, Usa]"
            ]
          },
          "metadata": {},
          "execution_count": 512
        }
      ],
      "source": [
        "customers['country'].unique()"
      ]
    },
    {
      "cell_type": "markdown",
      "metadata": {
        "id": "qQ_ZHgnLjv6l"
      },
      "source": [
        "# **INVENTORY LOGS**"
      ]
    },
    {
      "cell_type": "code",
      "execution_count": 513,
      "metadata": {
        "id": "nQ1XRyrdBOOo"
      },
      "outputs": [],
      "source": [
        "inventory_logs = pd.read_csv('inventory_logs_clean.csv')"
      ]
    },
    {
      "cell_type": "code",
      "execution_count": 514,
      "metadata": {
        "colab": {
          "base_uri": "https://localhost:8080/"
        },
        "id": "d2FNgy5W_fCC",
        "outputId": "d00966e4-8b84-45d4-dc92-735c71d56705"
      },
      "outputs": [
        {
          "output_type": "stream",
          "name": "stdout",
          "text": [
            "<class 'pandas.core.frame.DataFrame'>\n",
            "RangeIndex: 400000 entries, 0 to 399999\n",
            "Data columns (total 9 columns):\n",
            " #   Column           Non-Null Count   Dtype \n",
            "---  ------           --------------   ----- \n",
            " 0   Unnamed: 0       400000 non-null  int64 \n",
            " 1   log_id           400000 non-null  int64 \n",
            " 2   product_id       400000 non-null  int64 \n",
            " 3   movement_type    400000 non-null  object\n",
            " 4   quantity_change  400000 non-null  int64 \n",
            " 5   reason           400000 non-null  object\n",
            " 6   timestamp        363851 non-null  object\n",
            " 7   reference_id     400000 non-null  int64 \n",
            " 8   notes            400000 non-null  object\n",
            "dtypes: int64(5), object(4)\n",
            "memory usage: 27.5+ MB\n"
          ]
        }
      ],
      "source": [
        "inventory_logs.info()"
      ]
    },
    {
      "cell_type": "code",
      "execution_count": 515,
      "metadata": {
        "id": "A2wNyDX6khqs"
      },
      "outputs": [],
      "source": [
        "inventory_logs['log_id'] = inventory_logs['log_id'].astype(np.int32)\n",
        "inventory_logs['product_id'] = inventory_logs['product_id'].astype(np.int32)\n",
        "inventory_logs['reference_id'] = inventory_logs['reference_id'].astype(np.int32)\n"
      ]
    },
    {
      "cell_type": "code",
      "execution_count": 516,
      "metadata": {
        "id": "bje3WutKlFQu"
      },
      "outputs": [],
      "source": [
        "inventory_logs['movement_type'] = inventory_logs['movement_type'].astype('string').str.strip().str.title().fillna('Undefined').astype('category')\n",
        "\n",
        "inventory_logs['reason'] = inventory_logs['reason'].astype('string').str.strip().str.title().fillna('Other').replace('Undefined','Other').astype('category')\n",
        "\n",
        "inventory_logs['timestamp'] = inventory_logs['timestamp'].astype('string').str.strip().replace('', pd.NA)\n",
        "inventory_logs['timestamp'] = pd.to_datetime(inventory_logs['timestamp'],errors='coerce')\n",
        "\n",
        "inventory_logs['notes'] = inventory_logs['notes'].astype('string').str.strip().fillna('-')\n",
        "\n",
        "#aca modifico los Nan ya que en mi contexto no causaron ninguna modificacion en el inventario\n",
        "inventory_logs['quantity_change'] = inventory_logs['quantity_change'].fillna(0).astype(np.int32)\n"
      ]
    },
    {
      "cell_type": "code",
      "execution_count": 517,
      "metadata": {
        "colab": {
          "base_uri": "https://localhost:8080/",
          "height": 424
        },
        "collapsed": true,
        "id": "5O1m23VemEyu",
        "outputId": "69d5a874-597f-4f62-c120-1c81492ef40c"
      },
      "outputs": [
        {
          "output_type": "execute_result",
          "data": {
            "text/plain": [
              "        Unnamed: 0  log_id  product_id movement_type  quantity_change  \\\n",
              "0                0       1      996381            In              228   \n",
              "1                1       2      962832           Out                0   \n",
              "2                2       3      995198           Out                0   \n",
              "3                3       4      997550            In              260   \n",
              "4                4       5      978028            In              263   \n",
              "...            ...     ...         ...           ...              ...   \n",
              "399995      399995  399996      919038            In                0   \n",
              "399996      399996  399997      963725    Adjustment                0   \n",
              "399997      399997  399998      958015    Adjustment              -60   \n",
              "399998      399998  399999      937235           Out                0   \n",
              "399999      399999  400000      931528    Adjustment              -40   \n",
              "\n",
              "            reason                  timestamp  reference_id  \\\n",
              "0       Adjustment 2023-08-21 04:33:50.446753         57097   \n",
              "1           Return 2024-09-25 06:15:03.583328         37909   \n",
              "2             Sale 2024-05-06 01:11:03.276581         18823   \n",
              "3       Adjustment 2024-09-03 20:47:37.637720         80650   \n",
              "4           Return 2024-10-19 08:55:45.508647         90031   \n",
              "...            ...                        ...           ...   \n",
              "399995    Transfer 2025-02-11 18:36:04.636086         72666   \n",
              "399996    Purchase 2024-01-24 08:17:19.002028         57349   \n",
              "399997       Theft 2024-05-27 12:12:05.392410         15080   \n",
              "399998      Return 2025-05-15 14:57:14.808283         46924   \n",
              "399999      Return 2024-09-06 07:09:36.376958         56387   \n",
              "\n",
              "                                                    notes  \n",
              "0                                                       -  \n",
              "1                                                       -  \n",
              "2                                                       -  \n",
              "3                  Director own ball land themselves key.  \n",
              "4                                                       -  \n",
              "...                                                   ...  \n",
              "399995                                                  -  \n",
              "399996                                                  -  \n",
              "399997  Make pass including do unit standard stand water.  \n",
              "399998                                                  -  \n",
              "399999                                                  -  \n",
              "\n",
              "[400000 rows x 9 columns]"
            ],
            "text/html": [
              "\n",
              "  <div id=\"df-b4ba1865-6f38-40fa-aa12-fb1d098adc27\" class=\"colab-df-container\">\n",
              "    <div>\n",
              "<style scoped>\n",
              "    .dataframe tbody tr th:only-of-type {\n",
              "        vertical-align: middle;\n",
              "    }\n",
              "\n",
              "    .dataframe tbody tr th {\n",
              "        vertical-align: top;\n",
              "    }\n",
              "\n",
              "    .dataframe thead th {\n",
              "        text-align: right;\n",
              "    }\n",
              "</style>\n",
              "<table border=\"1\" class=\"dataframe\">\n",
              "  <thead>\n",
              "    <tr style=\"text-align: right;\">\n",
              "      <th></th>\n",
              "      <th>Unnamed: 0</th>\n",
              "      <th>log_id</th>\n",
              "      <th>product_id</th>\n",
              "      <th>movement_type</th>\n",
              "      <th>quantity_change</th>\n",
              "      <th>reason</th>\n",
              "      <th>timestamp</th>\n",
              "      <th>reference_id</th>\n",
              "      <th>notes</th>\n",
              "    </tr>\n",
              "  </thead>\n",
              "  <tbody>\n",
              "    <tr>\n",
              "      <th>0</th>\n",
              "      <td>0</td>\n",
              "      <td>1</td>\n",
              "      <td>996381</td>\n",
              "      <td>In</td>\n",
              "      <td>228</td>\n",
              "      <td>Adjustment</td>\n",
              "      <td>2023-08-21 04:33:50.446753</td>\n",
              "      <td>57097</td>\n",
              "      <td>-</td>\n",
              "    </tr>\n",
              "    <tr>\n",
              "      <th>1</th>\n",
              "      <td>1</td>\n",
              "      <td>2</td>\n",
              "      <td>962832</td>\n",
              "      <td>Out</td>\n",
              "      <td>0</td>\n",
              "      <td>Return</td>\n",
              "      <td>2024-09-25 06:15:03.583328</td>\n",
              "      <td>37909</td>\n",
              "      <td>-</td>\n",
              "    </tr>\n",
              "    <tr>\n",
              "      <th>2</th>\n",
              "      <td>2</td>\n",
              "      <td>3</td>\n",
              "      <td>995198</td>\n",
              "      <td>Out</td>\n",
              "      <td>0</td>\n",
              "      <td>Sale</td>\n",
              "      <td>2024-05-06 01:11:03.276581</td>\n",
              "      <td>18823</td>\n",
              "      <td>-</td>\n",
              "    </tr>\n",
              "    <tr>\n",
              "      <th>3</th>\n",
              "      <td>3</td>\n",
              "      <td>4</td>\n",
              "      <td>997550</td>\n",
              "      <td>In</td>\n",
              "      <td>260</td>\n",
              "      <td>Adjustment</td>\n",
              "      <td>2024-09-03 20:47:37.637720</td>\n",
              "      <td>80650</td>\n",
              "      <td>Director own ball land themselves key.</td>\n",
              "    </tr>\n",
              "    <tr>\n",
              "      <th>4</th>\n",
              "      <td>4</td>\n",
              "      <td>5</td>\n",
              "      <td>978028</td>\n",
              "      <td>In</td>\n",
              "      <td>263</td>\n",
              "      <td>Return</td>\n",
              "      <td>2024-10-19 08:55:45.508647</td>\n",
              "      <td>90031</td>\n",
              "      <td>-</td>\n",
              "    </tr>\n",
              "    <tr>\n",
              "      <th>...</th>\n",
              "      <td>...</td>\n",
              "      <td>...</td>\n",
              "      <td>...</td>\n",
              "      <td>...</td>\n",
              "      <td>...</td>\n",
              "      <td>...</td>\n",
              "      <td>...</td>\n",
              "      <td>...</td>\n",
              "      <td>...</td>\n",
              "    </tr>\n",
              "    <tr>\n",
              "      <th>399995</th>\n",
              "      <td>399995</td>\n",
              "      <td>399996</td>\n",
              "      <td>919038</td>\n",
              "      <td>In</td>\n",
              "      <td>0</td>\n",
              "      <td>Transfer</td>\n",
              "      <td>2025-02-11 18:36:04.636086</td>\n",
              "      <td>72666</td>\n",
              "      <td>-</td>\n",
              "    </tr>\n",
              "    <tr>\n",
              "      <th>399996</th>\n",
              "      <td>399996</td>\n",
              "      <td>399997</td>\n",
              "      <td>963725</td>\n",
              "      <td>Adjustment</td>\n",
              "      <td>0</td>\n",
              "      <td>Purchase</td>\n",
              "      <td>2024-01-24 08:17:19.002028</td>\n",
              "      <td>57349</td>\n",
              "      <td>-</td>\n",
              "    </tr>\n",
              "    <tr>\n",
              "      <th>399997</th>\n",
              "      <td>399997</td>\n",
              "      <td>399998</td>\n",
              "      <td>958015</td>\n",
              "      <td>Adjustment</td>\n",
              "      <td>-60</td>\n",
              "      <td>Theft</td>\n",
              "      <td>2024-05-27 12:12:05.392410</td>\n",
              "      <td>15080</td>\n",
              "      <td>Make pass including do unit standard stand water.</td>\n",
              "    </tr>\n",
              "    <tr>\n",
              "      <th>399998</th>\n",
              "      <td>399998</td>\n",
              "      <td>399999</td>\n",
              "      <td>937235</td>\n",
              "      <td>Out</td>\n",
              "      <td>0</td>\n",
              "      <td>Return</td>\n",
              "      <td>2025-05-15 14:57:14.808283</td>\n",
              "      <td>46924</td>\n",
              "      <td>-</td>\n",
              "    </tr>\n",
              "    <tr>\n",
              "      <th>399999</th>\n",
              "      <td>399999</td>\n",
              "      <td>400000</td>\n",
              "      <td>931528</td>\n",
              "      <td>Adjustment</td>\n",
              "      <td>-40</td>\n",
              "      <td>Return</td>\n",
              "      <td>2024-09-06 07:09:36.376958</td>\n",
              "      <td>56387</td>\n",
              "      <td>-</td>\n",
              "    </tr>\n",
              "  </tbody>\n",
              "</table>\n",
              "<p>400000 rows × 9 columns</p>\n",
              "</div>\n",
              "    <div class=\"colab-df-buttons\">\n",
              "\n",
              "  <div class=\"colab-df-container\">\n",
              "    <button class=\"colab-df-convert\" onclick=\"convertToInteractive('df-b4ba1865-6f38-40fa-aa12-fb1d098adc27')\"\n",
              "            title=\"Convert this dataframe to an interactive table.\"\n",
              "            style=\"display:none;\">\n",
              "\n",
              "  <svg xmlns=\"http://www.w3.org/2000/svg\" height=\"24px\" viewBox=\"0 -960 960 960\">\n",
              "    <path d=\"M120-120v-720h720v720H120Zm60-500h600v-160H180v160Zm220 220h160v-160H400v160Zm0 220h160v-160H400v160ZM180-400h160v-160H180v160Zm440 0h160v-160H620v160ZM180-180h160v-160H180v160Zm440 0h160v-160H620v160Z\"/>\n",
              "  </svg>\n",
              "    </button>\n",
              "\n",
              "  <style>\n",
              "    .colab-df-container {\n",
              "      display:flex;\n",
              "      gap: 12px;\n",
              "    }\n",
              "\n",
              "    .colab-df-convert {\n",
              "      background-color: #E8F0FE;\n",
              "      border: none;\n",
              "      border-radius: 50%;\n",
              "      cursor: pointer;\n",
              "      display: none;\n",
              "      fill: #1967D2;\n",
              "      height: 32px;\n",
              "      padding: 0 0 0 0;\n",
              "      width: 32px;\n",
              "    }\n",
              "\n",
              "    .colab-df-convert:hover {\n",
              "      background-color: #E2EBFA;\n",
              "      box-shadow: 0px 1px 2px rgba(60, 64, 67, 0.3), 0px 1px 3px 1px rgba(60, 64, 67, 0.15);\n",
              "      fill: #174EA6;\n",
              "    }\n",
              "\n",
              "    .colab-df-buttons div {\n",
              "      margin-bottom: 4px;\n",
              "    }\n",
              "\n",
              "    [theme=dark] .colab-df-convert {\n",
              "      background-color: #3B4455;\n",
              "      fill: #D2E3FC;\n",
              "    }\n",
              "\n",
              "    [theme=dark] .colab-df-convert:hover {\n",
              "      background-color: #434B5C;\n",
              "      box-shadow: 0px 1px 3px 1px rgba(0, 0, 0, 0.15);\n",
              "      filter: drop-shadow(0px 1px 2px rgba(0, 0, 0, 0.3));\n",
              "      fill: #FFFFFF;\n",
              "    }\n",
              "  </style>\n",
              "\n",
              "    <script>\n",
              "      const buttonEl =\n",
              "        document.querySelector('#df-b4ba1865-6f38-40fa-aa12-fb1d098adc27 button.colab-df-convert');\n",
              "      buttonEl.style.display =\n",
              "        google.colab.kernel.accessAllowed ? 'block' : 'none';\n",
              "\n",
              "      async function convertToInteractive(key) {\n",
              "        const element = document.querySelector('#df-b4ba1865-6f38-40fa-aa12-fb1d098adc27');\n",
              "        const dataTable =\n",
              "          await google.colab.kernel.invokeFunction('convertToInteractive',\n",
              "                                                    [key], {});\n",
              "        if (!dataTable) return;\n",
              "\n",
              "        const docLinkHtml = 'Like what you see? Visit the ' +\n",
              "          '<a target=\"_blank\" href=https://colab.research.google.com/notebooks/data_table.ipynb>data table notebook</a>'\n",
              "          + ' to learn more about interactive tables.';\n",
              "        element.innerHTML = '';\n",
              "        dataTable['output_type'] = 'display_data';\n",
              "        await google.colab.output.renderOutput(dataTable, element);\n",
              "        const docLink = document.createElement('div');\n",
              "        docLink.innerHTML = docLinkHtml;\n",
              "        element.appendChild(docLink);\n",
              "      }\n",
              "    </script>\n",
              "  </div>\n",
              "\n",
              "\n",
              "    <div id=\"df-66662f81-50d0-4e8f-8080-bee61e112798\">\n",
              "      <button class=\"colab-df-quickchart\" onclick=\"quickchart('df-66662f81-50d0-4e8f-8080-bee61e112798')\"\n",
              "                title=\"Suggest charts\"\n",
              "                style=\"display:none;\">\n",
              "\n",
              "<svg xmlns=\"http://www.w3.org/2000/svg\" height=\"24px\"viewBox=\"0 0 24 24\"\n",
              "     width=\"24px\">\n",
              "    <g>\n",
              "        <path d=\"M19 3H5c-1.1 0-2 .9-2 2v14c0 1.1.9 2 2 2h14c1.1 0 2-.9 2-2V5c0-1.1-.9-2-2-2zM9 17H7v-7h2v7zm4 0h-2V7h2v10zm4 0h-2v-4h2v4z\"/>\n",
              "    </g>\n",
              "</svg>\n",
              "      </button>\n",
              "\n",
              "<style>\n",
              "  .colab-df-quickchart {\n",
              "      --bg-color: #E8F0FE;\n",
              "      --fill-color: #1967D2;\n",
              "      --hover-bg-color: #E2EBFA;\n",
              "      --hover-fill-color: #174EA6;\n",
              "      --disabled-fill-color: #AAA;\n",
              "      --disabled-bg-color: #DDD;\n",
              "  }\n",
              "\n",
              "  [theme=dark] .colab-df-quickchart {\n",
              "      --bg-color: #3B4455;\n",
              "      --fill-color: #D2E3FC;\n",
              "      --hover-bg-color: #434B5C;\n",
              "      --hover-fill-color: #FFFFFF;\n",
              "      --disabled-bg-color: #3B4455;\n",
              "      --disabled-fill-color: #666;\n",
              "  }\n",
              "\n",
              "  .colab-df-quickchart {\n",
              "    background-color: var(--bg-color);\n",
              "    border: none;\n",
              "    border-radius: 50%;\n",
              "    cursor: pointer;\n",
              "    display: none;\n",
              "    fill: var(--fill-color);\n",
              "    height: 32px;\n",
              "    padding: 0;\n",
              "    width: 32px;\n",
              "  }\n",
              "\n",
              "  .colab-df-quickchart:hover {\n",
              "    background-color: var(--hover-bg-color);\n",
              "    box-shadow: 0 1px 2px rgba(60, 64, 67, 0.3), 0 1px 3px 1px rgba(60, 64, 67, 0.15);\n",
              "    fill: var(--button-hover-fill-color);\n",
              "  }\n",
              "\n",
              "  .colab-df-quickchart-complete:disabled,\n",
              "  .colab-df-quickchart-complete:disabled:hover {\n",
              "    background-color: var(--disabled-bg-color);\n",
              "    fill: var(--disabled-fill-color);\n",
              "    box-shadow: none;\n",
              "  }\n",
              "\n",
              "  .colab-df-spinner {\n",
              "    border: 2px solid var(--fill-color);\n",
              "    border-color: transparent;\n",
              "    border-bottom-color: var(--fill-color);\n",
              "    animation:\n",
              "      spin 1s steps(1) infinite;\n",
              "  }\n",
              "\n",
              "  @keyframes spin {\n",
              "    0% {\n",
              "      border-color: transparent;\n",
              "      border-bottom-color: var(--fill-color);\n",
              "      border-left-color: var(--fill-color);\n",
              "    }\n",
              "    20% {\n",
              "      border-color: transparent;\n",
              "      border-left-color: var(--fill-color);\n",
              "      border-top-color: var(--fill-color);\n",
              "    }\n",
              "    30% {\n",
              "      border-color: transparent;\n",
              "      border-left-color: var(--fill-color);\n",
              "      border-top-color: var(--fill-color);\n",
              "      border-right-color: var(--fill-color);\n",
              "    }\n",
              "    40% {\n",
              "      border-color: transparent;\n",
              "      border-right-color: var(--fill-color);\n",
              "      border-top-color: var(--fill-color);\n",
              "    }\n",
              "    60% {\n",
              "      border-color: transparent;\n",
              "      border-right-color: var(--fill-color);\n",
              "    }\n",
              "    80% {\n",
              "      border-color: transparent;\n",
              "      border-right-color: var(--fill-color);\n",
              "      border-bottom-color: var(--fill-color);\n",
              "    }\n",
              "    90% {\n",
              "      border-color: transparent;\n",
              "      border-bottom-color: var(--fill-color);\n",
              "    }\n",
              "  }\n",
              "</style>\n",
              "\n",
              "      <script>\n",
              "        async function quickchart(key) {\n",
              "          const quickchartButtonEl =\n",
              "            document.querySelector('#' + key + ' button');\n",
              "          quickchartButtonEl.disabled = true;  // To prevent multiple clicks.\n",
              "          quickchartButtonEl.classList.add('colab-df-spinner');\n",
              "          try {\n",
              "            const charts = await google.colab.kernel.invokeFunction(\n",
              "                'suggestCharts', [key], {});\n",
              "          } catch (error) {\n",
              "            console.error('Error during call to suggestCharts:', error);\n",
              "          }\n",
              "          quickchartButtonEl.classList.remove('colab-df-spinner');\n",
              "          quickchartButtonEl.classList.add('colab-df-quickchart-complete');\n",
              "        }\n",
              "        (() => {\n",
              "          let quickchartButtonEl =\n",
              "            document.querySelector('#df-66662f81-50d0-4e8f-8080-bee61e112798 button');\n",
              "          quickchartButtonEl.style.display =\n",
              "            google.colab.kernel.accessAllowed ? 'block' : 'none';\n",
              "        })();\n",
              "      </script>\n",
              "    </div>\n",
              "\n",
              "  <div id=\"id_0d626ced-4db2-4f59-b220-5764527f8c11\">\n",
              "    <style>\n",
              "      .colab-df-generate {\n",
              "        background-color: #E8F0FE;\n",
              "        border: none;\n",
              "        border-radius: 50%;\n",
              "        cursor: pointer;\n",
              "        display: none;\n",
              "        fill: #1967D2;\n",
              "        height: 32px;\n",
              "        padding: 0 0 0 0;\n",
              "        width: 32px;\n",
              "      }\n",
              "\n",
              "      .colab-df-generate:hover {\n",
              "        background-color: #E2EBFA;\n",
              "        box-shadow: 0px 1px 2px rgba(60, 64, 67, 0.3), 0px 1px 3px 1px rgba(60, 64, 67, 0.15);\n",
              "        fill: #174EA6;\n",
              "      }\n",
              "\n",
              "      [theme=dark] .colab-df-generate {\n",
              "        background-color: #3B4455;\n",
              "        fill: #D2E3FC;\n",
              "      }\n",
              "\n",
              "      [theme=dark] .colab-df-generate:hover {\n",
              "        background-color: #434B5C;\n",
              "        box-shadow: 0px 1px 3px 1px rgba(0, 0, 0, 0.15);\n",
              "        filter: drop-shadow(0px 1px 2px rgba(0, 0, 0, 0.3));\n",
              "        fill: #FFFFFF;\n",
              "      }\n",
              "    </style>\n",
              "    <button class=\"colab-df-generate\" onclick=\"generateWithVariable('inventory_logs')\"\n",
              "            title=\"Generate code using this dataframe.\"\n",
              "            style=\"display:none;\">\n",
              "\n",
              "  <svg xmlns=\"http://www.w3.org/2000/svg\" height=\"24px\"viewBox=\"0 0 24 24\"\n",
              "       width=\"24px\">\n",
              "    <path d=\"M7,19H8.4L18.45,9,17,7.55,7,17.6ZM5,21V16.75L18.45,3.32a2,2,0,0,1,2.83,0l1.4,1.43a1.91,1.91,0,0,1,.58,1.4,1.91,1.91,0,0,1-.58,1.4L9.25,21ZM18.45,9,17,7.55Zm-12,3A5.31,5.31,0,0,0,4.9,8.1,5.31,5.31,0,0,0,1,6.5,5.31,5.31,0,0,0,4.9,4.9,5.31,5.31,0,0,0,6.5,1,5.31,5.31,0,0,0,8.1,4.9,5.31,5.31,0,0,0,12,6.5,5.46,5.46,0,0,0,6.5,12Z\"/>\n",
              "  </svg>\n",
              "    </button>\n",
              "    <script>\n",
              "      (() => {\n",
              "      const buttonEl =\n",
              "        document.querySelector('#id_0d626ced-4db2-4f59-b220-5764527f8c11 button.colab-df-generate');\n",
              "      buttonEl.style.display =\n",
              "        google.colab.kernel.accessAllowed ? 'block' : 'none';\n",
              "\n",
              "      buttonEl.onclick = () => {\n",
              "        google.colab.notebook.generateWithVariable('inventory_logs');\n",
              "      }\n",
              "      })();\n",
              "    </script>\n",
              "  </div>\n",
              "\n",
              "    </div>\n",
              "  </div>\n"
            ],
            "application/vnd.google.colaboratory.intrinsic+json": {
              "type": "dataframe",
              "variable_name": "inventory_logs"
            }
          },
          "metadata": {},
          "execution_count": 517
        }
      ],
      "source": [
        "inventory_logs"
      ]
    },
    {
      "cell_type": "markdown",
      "metadata": {
        "id": "Kc3ScBnKj82x"
      },
      "source": [
        "# **ORDER_ITEMS**"
      ]
    },
    {
      "cell_type": "code",
      "execution_count": 518,
      "metadata": {
        "id": "2ABpuGoaBWDI"
      },
      "outputs": [],
      "source": [
        "order_items = pd.read_csv('order_items_clean.csv')"
      ]
    },
    {
      "cell_type": "code",
      "execution_count": 519,
      "metadata": {
        "colab": {
          "base_uri": "https://localhost:8080/"
        },
        "collapsed": true,
        "id": "qMWYK_nb_k00",
        "outputId": "07b5b9b4-2856-4dde-cdd2-ccea287374fa"
      },
      "outputs": [
        {
          "output_type": "stream",
          "name": "stdout",
          "text": [
            "<class 'pandas.core.frame.DataFrame'>\n",
            "RangeIndex: 285243 entries, 0 to 285242\n",
            "Data columns (total 7 columns):\n",
            " #   Column           Non-Null Count   Dtype  \n",
            "---  ------           --------------   -----  \n",
            " 0   order_item_id    285243 non-null  int64  \n",
            " 1   order_id         285243 non-null  int64  \n",
            " 2   product_id       285243 non-null  int64  \n",
            " 3   quantity         285243 non-null  int64  \n",
            " 4   unit_price       242457 non-null  float64\n",
            " 5   line_total       242457 non-null  float64\n",
            " 6   discount_amount  285243 non-null  float64\n",
            "dtypes: float64(3), int64(4)\n",
            "memory usage: 15.2 MB\n"
          ]
        }
      ],
      "source": [
        "order_items.info()"
      ]
    },
    {
      "cell_type": "code",
      "execution_count": 520,
      "metadata": {
        "id": "nbHej_hWpPTQ"
      },
      "outputs": [],
      "source": [
        "order_items.drop(columns=['Unnamed: 0'], errors = 'ignore', inplace = True)\n",
        "\n",
        "order_items['order_item_id'] = order_items['order_item_id'].astype(np.int32)\n",
        "order_items['order_id'] = order_items['order_id'].astype(np.int32)\n",
        "order_items['product_id'] = order_items['product_id'].astype(np.int32)\n",
        "order_items['quantity'] = order_items['quantity'].fillna(0).astype(np.int32)\n",
        "order_items['discount_amount'] = order_items['discount_amount'].fillna(0)\n",
        "\n"
      ]
    },
    {
      "cell_type": "code",
      "execution_count": 521,
      "metadata": {
        "colab": {
          "base_uri": "https://localhost:8080/",
          "height": 0
        },
        "collapsed": true,
        "id": "rm0J0tyLkMqX",
        "outputId": "9e350085-12cd-4614-d566-211137d41696"
      },
      "outputs": [
        {
          "output_type": "execute_result",
          "data": {
            "text/plain": [
              "        order_item_id  order_id  product_id  quantity  unit_price  line_total  \\\n",
              "0                   1  19900399      940377         6      569.28     3415.68   \n",
              "1                   2  19900399      935931         2     1090.20         NaN   \n",
              "2                   3  19900399      905111         7         NaN     1176.98   \n",
              "3                   4  19900399      920065         3      464.45     1393.35   \n",
              "4                   5  19900400      927289         8      283.12         NaN   \n",
              "...               ...       ...         ...       ...         ...         ...   \n",
              "285238         285239  19999999      912297         1       88.40       88.40   \n",
              "285239         285240  19999999      945504        10     1435.85    14358.50   \n",
              "285240         285241  20000000      972378         8      172.43     1379.44   \n",
              "285241         285242  20000000      933150         1         NaN      811.86   \n",
              "285242         285243  20000000      962095         0         NaN     5676.48   \n",
              "\n",
              "        discount_amount  \n",
              "0                  0.00  \n",
              "1                  0.00  \n",
              "2                154.52  \n",
              "3                  0.00  \n",
              "4                  0.00  \n",
              "...                 ...  \n",
              "285238             0.00  \n",
              "285239             0.00  \n",
              "285240           158.71  \n",
              "285241             0.00  \n",
              "285242             0.00  \n",
              "\n",
              "[285243 rows x 7 columns]"
            ],
            "text/html": [
              "\n",
              "  <div id=\"df-398e36b7-4d65-425d-9eab-1a83f0f02509\" class=\"colab-df-container\">\n",
              "    <div>\n",
              "<style scoped>\n",
              "    .dataframe tbody tr th:only-of-type {\n",
              "        vertical-align: middle;\n",
              "    }\n",
              "\n",
              "    .dataframe tbody tr th {\n",
              "        vertical-align: top;\n",
              "    }\n",
              "\n",
              "    .dataframe thead th {\n",
              "        text-align: right;\n",
              "    }\n",
              "</style>\n",
              "<table border=\"1\" class=\"dataframe\">\n",
              "  <thead>\n",
              "    <tr style=\"text-align: right;\">\n",
              "      <th></th>\n",
              "      <th>order_item_id</th>\n",
              "      <th>order_id</th>\n",
              "      <th>product_id</th>\n",
              "      <th>quantity</th>\n",
              "      <th>unit_price</th>\n",
              "      <th>line_total</th>\n",
              "      <th>discount_amount</th>\n",
              "    </tr>\n",
              "  </thead>\n",
              "  <tbody>\n",
              "    <tr>\n",
              "      <th>0</th>\n",
              "      <td>1</td>\n",
              "      <td>19900399</td>\n",
              "      <td>940377</td>\n",
              "      <td>6</td>\n",
              "      <td>569.28</td>\n",
              "      <td>3415.68</td>\n",
              "      <td>0.00</td>\n",
              "    </tr>\n",
              "    <tr>\n",
              "      <th>1</th>\n",
              "      <td>2</td>\n",
              "      <td>19900399</td>\n",
              "      <td>935931</td>\n",
              "      <td>2</td>\n",
              "      <td>1090.20</td>\n",
              "      <td>NaN</td>\n",
              "      <td>0.00</td>\n",
              "    </tr>\n",
              "    <tr>\n",
              "      <th>2</th>\n",
              "      <td>3</td>\n",
              "      <td>19900399</td>\n",
              "      <td>905111</td>\n",
              "      <td>7</td>\n",
              "      <td>NaN</td>\n",
              "      <td>1176.98</td>\n",
              "      <td>154.52</td>\n",
              "    </tr>\n",
              "    <tr>\n",
              "      <th>3</th>\n",
              "      <td>4</td>\n",
              "      <td>19900399</td>\n",
              "      <td>920065</td>\n",
              "      <td>3</td>\n",
              "      <td>464.45</td>\n",
              "      <td>1393.35</td>\n",
              "      <td>0.00</td>\n",
              "    </tr>\n",
              "    <tr>\n",
              "      <th>4</th>\n",
              "      <td>5</td>\n",
              "      <td>19900400</td>\n",
              "      <td>927289</td>\n",
              "      <td>8</td>\n",
              "      <td>283.12</td>\n",
              "      <td>NaN</td>\n",
              "      <td>0.00</td>\n",
              "    </tr>\n",
              "    <tr>\n",
              "      <th>...</th>\n",
              "      <td>...</td>\n",
              "      <td>...</td>\n",
              "      <td>...</td>\n",
              "      <td>...</td>\n",
              "      <td>...</td>\n",
              "      <td>...</td>\n",
              "      <td>...</td>\n",
              "    </tr>\n",
              "    <tr>\n",
              "      <th>285238</th>\n",
              "      <td>285239</td>\n",
              "      <td>19999999</td>\n",
              "      <td>912297</td>\n",
              "      <td>1</td>\n",
              "      <td>88.40</td>\n",
              "      <td>88.40</td>\n",
              "      <td>0.00</td>\n",
              "    </tr>\n",
              "    <tr>\n",
              "      <th>285239</th>\n",
              "      <td>285240</td>\n",
              "      <td>19999999</td>\n",
              "      <td>945504</td>\n",
              "      <td>10</td>\n",
              "      <td>1435.85</td>\n",
              "      <td>14358.50</td>\n",
              "      <td>0.00</td>\n",
              "    </tr>\n",
              "    <tr>\n",
              "      <th>285240</th>\n",
              "      <td>285241</td>\n",
              "      <td>20000000</td>\n",
              "      <td>972378</td>\n",
              "      <td>8</td>\n",
              "      <td>172.43</td>\n",
              "      <td>1379.44</td>\n",
              "      <td>158.71</td>\n",
              "    </tr>\n",
              "    <tr>\n",
              "      <th>285241</th>\n",
              "      <td>285242</td>\n",
              "      <td>20000000</td>\n",
              "      <td>933150</td>\n",
              "      <td>1</td>\n",
              "      <td>NaN</td>\n",
              "      <td>811.86</td>\n",
              "      <td>0.00</td>\n",
              "    </tr>\n",
              "    <tr>\n",
              "      <th>285242</th>\n",
              "      <td>285243</td>\n",
              "      <td>20000000</td>\n",
              "      <td>962095</td>\n",
              "      <td>0</td>\n",
              "      <td>NaN</td>\n",
              "      <td>5676.48</td>\n",
              "      <td>0.00</td>\n",
              "    </tr>\n",
              "  </tbody>\n",
              "</table>\n",
              "<p>285243 rows × 7 columns</p>\n",
              "</div>\n",
              "    <div class=\"colab-df-buttons\">\n",
              "\n",
              "  <div class=\"colab-df-container\">\n",
              "    <button class=\"colab-df-convert\" onclick=\"convertToInteractive('df-398e36b7-4d65-425d-9eab-1a83f0f02509')\"\n",
              "            title=\"Convert this dataframe to an interactive table.\"\n",
              "            style=\"display:none;\">\n",
              "\n",
              "  <svg xmlns=\"http://www.w3.org/2000/svg\" height=\"24px\" viewBox=\"0 -960 960 960\">\n",
              "    <path d=\"M120-120v-720h720v720H120Zm60-500h600v-160H180v160Zm220 220h160v-160H400v160Zm0 220h160v-160H400v160ZM180-400h160v-160H180v160Zm440 0h160v-160H620v160ZM180-180h160v-160H180v160Zm440 0h160v-160H620v160Z\"/>\n",
              "  </svg>\n",
              "    </button>\n",
              "\n",
              "  <style>\n",
              "    .colab-df-container {\n",
              "      display:flex;\n",
              "      gap: 12px;\n",
              "    }\n",
              "\n",
              "    .colab-df-convert {\n",
              "      background-color: #E8F0FE;\n",
              "      border: none;\n",
              "      border-radius: 50%;\n",
              "      cursor: pointer;\n",
              "      display: none;\n",
              "      fill: #1967D2;\n",
              "      height: 32px;\n",
              "      padding: 0 0 0 0;\n",
              "      width: 32px;\n",
              "    }\n",
              "\n",
              "    .colab-df-convert:hover {\n",
              "      background-color: #E2EBFA;\n",
              "      box-shadow: 0px 1px 2px rgba(60, 64, 67, 0.3), 0px 1px 3px 1px rgba(60, 64, 67, 0.15);\n",
              "      fill: #174EA6;\n",
              "    }\n",
              "\n",
              "    .colab-df-buttons div {\n",
              "      margin-bottom: 4px;\n",
              "    }\n",
              "\n",
              "    [theme=dark] .colab-df-convert {\n",
              "      background-color: #3B4455;\n",
              "      fill: #D2E3FC;\n",
              "    }\n",
              "\n",
              "    [theme=dark] .colab-df-convert:hover {\n",
              "      background-color: #434B5C;\n",
              "      box-shadow: 0px 1px 3px 1px rgba(0, 0, 0, 0.15);\n",
              "      filter: drop-shadow(0px 1px 2px rgba(0, 0, 0, 0.3));\n",
              "      fill: #FFFFFF;\n",
              "    }\n",
              "  </style>\n",
              "\n",
              "    <script>\n",
              "      const buttonEl =\n",
              "        document.querySelector('#df-398e36b7-4d65-425d-9eab-1a83f0f02509 button.colab-df-convert');\n",
              "      buttonEl.style.display =\n",
              "        google.colab.kernel.accessAllowed ? 'block' : 'none';\n",
              "\n",
              "      async function convertToInteractive(key) {\n",
              "        const element = document.querySelector('#df-398e36b7-4d65-425d-9eab-1a83f0f02509');\n",
              "        const dataTable =\n",
              "          await google.colab.kernel.invokeFunction('convertToInteractive',\n",
              "                                                    [key], {});\n",
              "        if (!dataTable) return;\n",
              "\n",
              "        const docLinkHtml = 'Like what you see? Visit the ' +\n",
              "          '<a target=\"_blank\" href=https://colab.research.google.com/notebooks/data_table.ipynb>data table notebook</a>'\n",
              "          + ' to learn more about interactive tables.';\n",
              "        element.innerHTML = '';\n",
              "        dataTable['output_type'] = 'display_data';\n",
              "        await google.colab.output.renderOutput(dataTable, element);\n",
              "        const docLink = document.createElement('div');\n",
              "        docLink.innerHTML = docLinkHtml;\n",
              "        element.appendChild(docLink);\n",
              "      }\n",
              "    </script>\n",
              "  </div>\n",
              "\n",
              "\n",
              "    <div id=\"df-385f4266-6786-4d8b-9d42-525c1f9d29f5\">\n",
              "      <button class=\"colab-df-quickchart\" onclick=\"quickchart('df-385f4266-6786-4d8b-9d42-525c1f9d29f5')\"\n",
              "                title=\"Suggest charts\"\n",
              "                style=\"display:none;\">\n",
              "\n",
              "<svg xmlns=\"http://www.w3.org/2000/svg\" height=\"24px\"viewBox=\"0 0 24 24\"\n",
              "     width=\"24px\">\n",
              "    <g>\n",
              "        <path d=\"M19 3H5c-1.1 0-2 .9-2 2v14c0 1.1.9 2 2 2h14c1.1 0 2-.9 2-2V5c0-1.1-.9-2-2-2zM9 17H7v-7h2v7zm4 0h-2V7h2v10zm4 0h-2v-4h2v4z\"/>\n",
              "    </g>\n",
              "</svg>\n",
              "      </button>\n",
              "\n",
              "<style>\n",
              "  .colab-df-quickchart {\n",
              "      --bg-color: #E8F0FE;\n",
              "      --fill-color: #1967D2;\n",
              "      --hover-bg-color: #E2EBFA;\n",
              "      --hover-fill-color: #174EA6;\n",
              "      --disabled-fill-color: #AAA;\n",
              "      --disabled-bg-color: #DDD;\n",
              "  }\n",
              "\n",
              "  [theme=dark] .colab-df-quickchart {\n",
              "      --bg-color: #3B4455;\n",
              "      --fill-color: #D2E3FC;\n",
              "      --hover-bg-color: #434B5C;\n",
              "      --hover-fill-color: #FFFFFF;\n",
              "      --disabled-bg-color: #3B4455;\n",
              "      --disabled-fill-color: #666;\n",
              "  }\n",
              "\n",
              "  .colab-df-quickchart {\n",
              "    background-color: var(--bg-color);\n",
              "    border: none;\n",
              "    border-radius: 50%;\n",
              "    cursor: pointer;\n",
              "    display: none;\n",
              "    fill: var(--fill-color);\n",
              "    height: 32px;\n",
              "    padding: 0;\n",
              "    width: 32px;\n",
              "  }\n",
              "\n",
              "  .colab-df-quickchart:hover {\n",
              "    background-color: var(--hover-bg-color);\n",
              "    box-shadow: 0 1px 2px rgba(60, 64, 67, 0.3), 0 1px 3px 1px rgba(60, 64, 67, 0.15);\n",
              "    fill: var(--button-hover-fill-color);\n",
              "  }\n",
              "\n",
              "  .colab-df-quickchart-complete:disabled,\n",
              "  .colab-df-quickchart-complete:disabled:hover {\n",
              "    background-color: var(--disabled-bg-color);\n",
              "    fill: var(--disabled-fill-color);\n",
              "    box-shadow: none;\n",
              "  }\n",
              "\n",
              "  .colab-df-spinner {\n",
              "    border: 2px solid var(--fill-color);\n",
              "    border-color: transparent;\n",
              "    border-bottom-color: var(--fill-color);\n",
              "    animation:\n",
              "      spin 1s steps(1) infinite;\n",
              "  }\n",
              "\n",
              "  @keyframes spin {\n",
              "    0% {\n",
              "      border-color: transparent;\n",
              "      border-bottom-color: var(--fill-color);\n",
              "      border-left-color: var(--fill-color);\n",
              "    }\n",
              "    20% {\n",
              "      border-color: transparent;\n",
              "      border-left-color: var(--fill-color);\n",
              "      border-top-color: var(--fill-color);\n",
              "    }\n",
              "    30% {\n",
              "      border-color: transparent;\n",
              "      border-left-color: var(--fill-color);\n",
              "      border-top-color: var(--fill-color);\n",
              "      border-right-color: var(--fill-color);\n",
              "    }\n",
              "    40% {\n",
              "      border-color: transparent;\n",
              "      border-right-color: var(--fill-color);\n",
              "      border-top-color: var(--fill-color);\n",
              "    }\n",
              "    60% {\n",
              "      border-color: transparent;\n",
              "      border-right-color: var(--fill-color);\n",
              "    }\n",
              "    80% {\n",
              "      border-color: transparent;\n",
              "      border-right-color: var(--fill-color);\n",
              "      border-bottom-color: var(--fill-color);\n",
              "    }\n",
              "    90% {\n",
              "      border-color: transparent;\n",
              "      border-bottom-color: var(--fill-color);\n",
              "    }\n",
              "  }\n",
              "</style>\n",
              "\n",
              "      <script>\n",
              "        async function quickchart(key) {\n",
              "          const quickchartButtonEl =\n",
              "            document.querySelector('#' + key + ' button');\n",
              "          quickchartButtonEl.disabled = true;  // To prevent multiple clicks.\n",
              "          quickchartButtonEl.classList.add('colab-df-spinner');\n",
              "          try {\n",
              "            const charts = await google.colab.kernel.invokeFunction(\n",
              "                'suggestCharts', [key], {});\n",
              "          } catch (error) {\n",
              "            console.error('Error during call to suggestCharts:', error);\n",
              "          }\n",
              "          quickchartButtonEl.classList.remove('colab-df-spinner');\n",
              "          quickchartButtonEl.classList.add('colab-df-quickchart-complete');\n",
              "        }\n",
              "        (() => {\n",
              "          let quickchartButtonEl =\n",
              "            document.querySelector('#df-385f4266-6786-4d8b-9d42-525c1f9d29f5 button');\n",
              "          quickchartButtonEl.style.display =\n",
              "            google.colab.kernel.accessAllowed ? 'block' : 'none';\n",
              "        })();\n",
              "      </script>\n",
              "    </div>\n",
              "\n",
              "  <div id=\"id_404eb89d-5580-4087-b1f7-a912f8831ecb\">\n",
              "    <style>\n",
              "      .colab-df-generate {\n",
              "        background-color: #E8F0FE;\n",
              "        border: none;\n",
              "        border-radius: 50%;\n",
              "        cursor: pointer;\n",
              "        display: none;\n",
              "        fill: #1967D2;\n",
              "        height: 32px;\n",
              "        padding: 0 0 0 0;\n",
              "        width: 32px;\n",
              "      }\n",
              "\n",
              "      .colab-df-generate:hover {\n",
              "        background-color: #E2EBFA;\n",
              "        box-shadow: 0px 1px 2px rgba(60, 64, 67, 0.3), 0px 1px 3px 1px rgba(60, 64, 67, 0.15);\n",
              "        fill: #174EA6;\n",
              "      }\n",
              "\n",
              "      [theme=dark] .colab-df-generate {\n",
              "        background-color: #3B4455;\n",
              "        fill: #D2E3FC;\n",
              "      }\n",
              "\n",
              "      [theme=dark] .colab-df-generate:hover {\n",
              "        background-color: #434B5C;\n",
              "        box-shadow: 0px 1px 3px 1px rgba(0, 0, 0, 0.15);\n",
              "        filter: drop-shadow(0px 1px 2px rgba(0, 0, 0, 0.3));\n",
              "        fill: #FFFFFF;\n",
              "      }\n",
              "    </style>\n",
              "    <button class=\"colab-df-generate\" onclick=\"generateWithVariable('order_items')\"\n",
              "            title=\"Generate code using this dataframe.\"\n",
              "            style=\"display:none;\">\n",
              "\n",
              "  <svg xmlns=\"http://www.w3.org/2000/svg\" height=\"24px\"viewBox=\"0 0 24 24\"\n",
              "       width=\"24px\">\n",
              "    <path d=\"M7,19H8.4L18.45,9,17,7.55,7,17.6ZM5,21V16.75L18.45,3.32a2,2,0,0,1,2.83,0l1.4,1.43a1.91,1.91,0,0,1,.58,1.4,1.91,1.91,0,0,1-.58,1.4L9.25,21ZM18.45,9,17,7.55Zm-12,3A5.31,5.31,0,0,0,4.9,8.1,5.31,5.31,0,0,0,1,6.5,5.31,5.31,0,0,0,4.9,4.9,5.31,5.31,0,0,0,6.5,1,5.31,5.31,0,0,0,8.1,4.9,5.31,5.31,0,0,0,12,6.5,5.46,5.46,0,0,0,6.5,12Z\"/>\n",
              "  </svg>\n",
              "    </button>\n",
              "    <script>\n",
              "      (() => {\n",
              "      const buttonEl =\n",
              "        document.querySelector('#id_404eb89d-5580-4087-b1f7-a912f8831ecb button.colab-df-generate');\n",
              "      buttonEl.style.display =\n",
              "        google.colab.kernel.accessAllowed ? 'block' : 'none';\n",
              "\n",
              "      buttonEl.onclick = () => {\n",
              "        google.colab.notebook.generateWithVariable('order_items');\n",
              "      }\n",
              "      })();\n",
              "    </script>\n",
              "  </div>\n",
              "\n",
              "    </div>\n",
              "  </div>\n"
            ],
            "application/vnd.google.colaboratory.intrinsic+json": {
              "type": "dataframe",
              "variable_name": "order_items"
            }
          },
          "metadata": {},
          "execution_count": 521
        }
      ],
      "source": [
        "order_items"
      ]
    },
    {
      "cell_type": "markdown",
      "metadata": {
        "id": "T6DoRPi1B2PB"
      },
      "source": [
        "# **ORDERS**\n",
        "\n",
        "\n",
        "\n"
      ]
    },
    {
      "cell_type": "code",
      "execution_count": 4,
      "metadata": {
        "colab": {
          "base_uri": "https://localhost:8080/"
        },
        "id": "FfOKnHpLBrMo",
        "outputId": "f848af93-4654-4630-af41-c95be57fc0a4"
      },
      "outputs": [
        {
          "output_type": "stream",
          "name": "stderr",
          "text": [
            "/tmp/ipython-input-1722490415.py:2: DtypeWarning: Columns (2) have mixed types. Specify dtype option on import or set low_memory=False.\n",
            "  orders = pd.read_csv('orders_clean.csv')\n"
          ]
        }
      ],
      "source": [
        "# orders = pd.read_csv('orders.csv')\n",
        "orders = pd.read_csv('orders_clean.csv')"
      ]
    },
    {
      "cell_type": "code",
      "execution_count": null,
      "metadata": {
        "collapsed": true,
        "id": "JaFjeQvYBiBl"
      },
      "outputs": [],
      "source": [
        "orders.info()"
      ]
    },
    {
      "cell_type": "code",
      "execution_count": null,
      "metadata": {
        "id": "SWuqk1qc_miw"
      },
      "outputs": [],
      "source": [
        "orders"
      ]
    },
    {
      "cell_type": "code",
      "execution_count": null,
      "metadata": {
        "id": "g8qcmOujCBQ4"
      },
      "outputs": [],
      "source": [
        "#orders.drop(columns=['Unnamed: 0'], errors = 'ignore', inplace = True)\n",
        "\n",
        "orders['order_id'] = orders['order_id'].astype(np.int32)\n",
        "orders['customer_id'] = orders['customer_id'].astype(np.int32)\n",
        "orders['order_date'] = orders['order_date'].astype('string').str.strip().replace('', pd.NA)\n",
        "orders['order_date']  = pd.to_datetime(orders['created_at'],errors='coerce')\n",
        "orders['status'] = orders['status'].astype('string').str.strip().str.title().fillna('Undefined').astype('category')\n",
        "orders['payment_method'] = orders['payment_method'].astype('string').str.strip().str.title().fillna('Other').replace('Undefined','Other').astype('category')\n",
        "\n",
        "orders['shipping_address'] = orders['shipping_address'].astype('string').str.strip().fillna('-')\n",
        "orders['billing_address'] = orders['billing_address'].astype('string').str.strip().fillna('-')"
      ]
    },
    {
      "cell_type": "code",
      "execution_count": null,
      "metadata": {
        "id": "3Kpq2JugDSho"
      },
      "outputs": [],
      "source": [
        "\n",
        "orders['currency'] = orders['currency'].astype('string').str.strip().str.upper().replace('UNDEFINED',pd.NA).astype('category')\n",
        "\n",
        "orders['created_at'] = orders['created_at'].astype('string').str.strip().replace('', pd.NA)\n",
        "orders['updated_at'] = orders['updated_at'].astype('string').str.strip().replace('', pd.NA)      # si queda vacío, lo marca como NA\n",
        "\n",
        "orders['created_at'] = pd.to_datetime(orders['created_at'],errors='coerce')\n",
        "orders['updated_at'] = pd.to_datetime(orders['updated_at'],errors='coerce')"
      ]
    },
    {
      "cell_type": "code",
      "execution_count": null,
      "metadata": {
        "id": "sSaJ9lN4HFOI"
      },
      "outputs": [],
      "source": [
        "orders['discount_amount'] = orders['discount_amount'].fillna(0)\n",
        "orders['tax_amount'] = orders['tax_amount'].fillna(0)\n",
        "orders['shipping_cost'] = orders['shipping_cost'].fillna(0)\n",
        "\n"
      ]
    },
    {
      "cell_type": "code",
      "execution_count": null,
      "metadata": {
        "collapsed": true,
        "id": "HnKwJky0_pDm"
      },
      "outputs": [],
      "source": [
        "orders"
      ]
    },
    {
      "cell_type": "markdown",
      "metadata": {
        "id": "58vJEAdaB-Gt"
      },
      "source": [
        "# **PRODUCTS**"
      ]
    },
    {
      "cell_type": "code",
      "execution_count": null,
      "metadata": {
        "id": "sP3qo0KmBfqB"
      },
      "outputs": [],
      "source": [
        "products = pd.read_csv('products_clean.csv')"
      ]
    },
    {
      "cell_type": "code",
      "execution_count": null,
      "metadata": {
        "collapsed": true,
        "id": "ONQLlXxpr-em"
      },
      "outputs": [],
      "source": [
        "products.info()"
      ]
    },
    {
      "cell_type": "code",
      "execution_count": null,
      "metadata": {
        "id": "usUfz6rTsB12"
      },
      "outputs": [],
      "source": [
        "products.drop(columns=['Unnamed: 0'], errors = 'ignore', inplace = True)\n",
        "\n",
        "products['product_id'] = products['product_id'].astype(np.int32)\n",
        "\n",
        "products = products.dropna(subset=[\"category_id\"])\n",
        "products[\"category_id\"] = products[\"category_id\"].astype(\"int32\")\n",
        "\n",
        "products['stock_quantity'] = products['stock_quantity'].fillna(0).astype(np.int32)\n",
        "\n",
        "products['brand'] = products['brand'].astype('string').str.strip().str.title().fillna('Undefined').astype('category')\n",
        "products['weight_kg'] = products['weight_kg'].astype(np.float32)\n",
        "products['dimensions'] = products['dimensions'].astype('string').str.strip().fillna('-')\n",
        "\n",
        "products['product_name'] = products['product_name'].astype('string').str.strip().str.title()\n",
        "\n",
        "products['description'] = products['description'].astype('string').str.strip().fillna('-')\n",
        "\n",
        "products['created_at'] = products['created_at'].astype('string').str.strip().replace('', pd.NA)\n",
        "products['created_at'] = pd.to_datetime(products['created_at'],errors='coerce')"
      ]
    },
    {
      "cell_type": "code",
      "execution_count": null,
      "metadata": {
        "id": "5nByx4E5vS6M"
      },
      "outputs": [],
      "source": [
        "products.brand.unique()"
      ]
    },
    {
      "cell_type": "code",
      "execution_count": null,
      "metadata": {
        "collapsed": true,
        "id": "ja4EdCtQ_uPL"
      },
      "outputs": [],
      "source": [
        "products"
      ]
    },
    {
      "cell_type": "markdown",
      "metadata": {
        "id": "DmAYzfgMCC4G"
      },
      "source": [
        "# **REVIEWS**"
      ]
    },
    {
      "cell_type": "code",
      "execution_count": null,
      "metadata": {
        "id": "s1T4iHhz8rO3"
      },
      "outputs": [],
      "source": [
        "reviews = pd.read_csv('reviews_clean.csv')"
      ]
    },
    {
      "cell_type": "code",
      "execution_count": null,
      "metadata": {
        "collapsed": true,
        "id": "pXug02pc4jli"
      },
      "outputs": [],
      "source": [
        "reviews.info()"
      ]
    },
    {
      "cell_type": "code",
      "execution_count": null,
      "metadata": {
        "id": "XmufTfcY4QqM"
      },
      "outputs": [],
      "source": [
        "reviews.drop(columns=['Unnamed: 0'], errors = 'ignore', inplace = True)\n",
        "\n",
        "reviews['customer_id'] = reviews['customer_id'].astype(np.int32)\n",
        "reviews['product_id'] = reviews['product_id'].astype(np.int32)\n",
        "\n",
        "reviews['rating'] = reviews['rating'].astype('Int8')\n",
        "\n",
        "reviews['title'] = reviews['title'].astype('string').str.strip().fillna('-')\n",
        "reviews['comment'] = reviews['comment'].astype('string').str.strip().fillna('-')\n",
        "reviews['helpful_votes'] = reviews['helpful_votes'].fillna(0).astype('Int32')\n",
        "\n",
        "\n",
        "reviews['created_at'] = reviews['created_at'].astype('string').str.strip().replace('', pd.NA)\n",
        "reviews['created_at'] = pd.to_datetime(reviews['created_at'], errors='coerce')\n"
      ]
    },
    {
      "cell_type": "code",
      "execution_count": null,
      "metadata": {
        "collapsed": true,
        "id": "St9bu4Xg_zj6"
      },
      "outputs": [],
      "source": [
        "reviews"
      ]
    },
    {
      "cell_type": "code",
      "execution_count": null,
      "metadata": {
        "id": "9Bgn1T7isj1e"
      },
      "outputs": [],
      "source": []
    },
    {
      "cell_type": "code",
      "execution_count": null,
      "metadata": {
        "id": "2GOYwcLWslz8"
      },
      "outputs": [],
      "source": [
        "# categories.to_csv('categories_clean.csv',index=False)\n",
        "# customers.to_csv('customers_clean.csv',index=False)\n",
        "# inventory_logs.to_csv('inventory_logs_clean.csv',index=False)\n",
        "# order_items.to_csv('order_items_clean.csv',index=False)\n",
        "# products.to_csv('products_clean.csv',index=False)\n",
        "# reviews.to_csv('reviews_clean.csv',index=False)\n",
        "# orders.to_csv('orders_clean.csv', index=False)"
      ]
    },
    {
      "cell_type": "markdown",
      "metadata": {
        "id": "Sj2wHB3dSHrB"
      },
      "source": [
        "# **ENUNCIADO PANDAS**\n",
        "1) Cuál es el estado que más descuentos tiene en total? y en promedio? Supongan que de una direccion del estilo: 3123 Alan Extension Port Andrea, MA 26926, “MA” es el estado.\n",
        "\n",
        "2) ¿Cuáles son los 5 códigos postales más comunes para las órdenes con estado ‘Refunded’? ¿Y cuál es el nombre más frecuente entre los clientes de esas direcciones?\n",
        "\n",
        "3) Para cada tipo de pago y segmento de cliente, devolver la suma y el promedio expresado como porcentaje, de clientes activos y de consentimiento de marketing. Se valora que el output de la consulta tenga nombres claros y en español.\n",
        "\n",
        "4) Para los productos que contienen en su descripción la palabra “stuff” (sin importar mayúsculas o minúsculas), calcular el peso total de su inventario agrupado por marca, mostrar sólo la marca y el peso total de las 5 más pesadas."
      ]
    },
    {
      "cell_type": "markdown",
      "metadata": {
        "id": "vMhgzUbJSY9U"
      },
      "source": [
        "# ***1-Cuál es el estado que más descuentos tiene en total? y en promedio? Supongan que de una direccion del estilo: 3123 Alan Extension Port Andrea, MA 26926, “MA” es el estado.\n",
        "\n",
        "***"
      ]
    },
    {
      "cell_type": "code",
      "execution_count": null,
      "metadata": {
        "id": "e50rt_YDSXXA"
      },
      "outputs": [],
      "source": [
        "#1\n",
        "discounts_by_state = orders.copy()\n"
      ]
    },
    {
      "cell_type": "code",
      "execution_count": null,
      "metadata": {
        "id": "Mu_CtpEoiPNH"
      },
      "outputs": [],
      "source": [
        "discounts_by_state"
      ]
    },
    {
      "cell_type": "code",
      "execution_count": null,
      "metadata": {
        "id": "YEgGFp6-B0JW"
      },
      "outputs": [],
      "source": [
        "discounts_by_state['state'] = orders['billing_address'].str.extract(r',\\s*([A-Z]{2})\\s*\\d{5}')\n"
      ]
    },
    {
      "cell_type": "code",
      "execution_count": null,
      "metadata": {
        "collapsed": true,
        "id": "BLpYB9Zwk8-z"
      },
      "outputs": [],
      "source": [
        "discounts_by_state[discounts_by_state.state == 'FM']"
      ]
    },
    {
      "cell_type": "code",
      "execution_count": null,
      "metadata": {
        "id": "plHtHXdAkwSk"
      },
      "outputs": [],
      "source": [
        "discounts_by_state.drop(columns=['order_id','customer_id','order_date',\t'status','zip_code',\t'payment_method','shipping_address','billing_address', 'tax_amount', 'shipping_cost',\t'total_amount',\t'currency',\t'created_at',\t'updated_at',\t'subtotal'],errors='ignore',inplace= True)"
      ]
    },
    {
      "cell_type": "code",
      "execution_count": null,
      "metadata": {
        "id": "QeBddF6YButF"
      },
      "outputs": [],
      "source": [
        "#aca limpio los datos que son Nan y no me aportan informacion sobre a que estado corresponde.\n",
        "discounts_by_state = discounts_by_state.dropna(subset=['state'])\n"
      ]
    },
    {
      "cell_type": "code",
      "execution_count": null,
      "metadata": {
        "id": "_gXt0tAykrnF"
      },
      "outputs": [],
      "source": [
        "discounts_by_state"
      ]
    },
    {
      "cell_type": "code",
      "execution_count": null,
      "metadata": {
        "id": "fE1Bgk2YCU7K"
      },
      "outputs": [],
      "source": [
        "discounts_by_state['state'].unique()"
      ]
    },
    {
      "cell_type": "code",
      "execution_count": null,
      "metadata": {
        "id": "ISLQBMwBCwWh"
      },
      "outputs": [],
      "source": [
        "discounts_by_state"
      ]
    },
    {
      "cell_type": "code",
      "execution_count": null,
      "metadata": {
        "id": "fCGRs33_kvju"
      },
      "outputs": [],
      "source": [
        "discounts_by_state = discounts_by_state.groupby('state')['discount_amount'].agg(Total_discounts = 'sum', Average = 'mean',num_discounts=('count'))\n"
      ]
    },
    {
      "cell_type": "code",
      "execution_count": null,
      "metadata": {
        "collapsed": true,
        "id": "fU45sL0YDbcH"
      },
      "outputs": [],
      "source": [
        "discounts_by_state"
      ]
    },
    {
      "cell_type": "code",
      "execution_count": null,
      "metadata": {
        "collapsed": true,
        "id": "TLbk-cpunxR_"
      },
      "outputs": [],
      "source": [
        "max_total =  discounts_by_state.loc[discounts_by_state['Total_discounts'].idxmax()]\n"
      ]
    },
    {
      "cell_type": "code",
      "execution_count": null,
      "metadata": {
        "id": "ATf41HdxFdws"
      },
      "outputs": [],
      "source": [
        "max_total"
      ]
    },
    {
      "cell_type": "code",
      "execution_count": null,
      "metadata": {
        "id": "5enhsYyLFUGb"
      },
      "outputs": [],
      "source": [
        "max_average = discounts_by_state.loc[discounts_by_state['Average'].idxmax()]"
      ]
    },
    {
      "cell_type": "code",
      "execution_count": null,
      "metadata": {
        "id": "DROVsDC9Fgcr"
      },
      "outputs": [],
      "source": [
        "max_average"
      ]
    },
    {
      "cell_type": "code",
      "execution_count": null,
      "metadata": {
        "id": "LHxgDpFPFlbN"
      },
      "outputs": [],
      "source": [
        "resume = pd.DataFrame([\n",
        "    {'metrics': 'max_total','State': discounts_by_state['Total_discounts'].idxmax(),'value': discounts_by_state['Total_discounts'].max()},\n",
        "    {'metrics': 'max_average','State': discounts_by_state['Average'].idxmax(),'value': discounts_by_state['Average'].max()}\n",
        "    ])\n"
      ]
    },
    {
      "cell_type": "code",
      "execution_count": null,
      "metadata": {
        "id": "nizK4cTJF4L5"
      },
      "outputs": [],
      "source": [
        "resume"
      ]
    },
    {
      "cell_type": "code",
      "execution_count": null,
      "metadata": {
        "collapsed": true,
        "id": "p1qQN1HiHw0o"
      },
      "outputs": [],
      "source": [
        "#compruebo si es correcto la informacion de resume\n",
        "discounts_by_state.groupby('state')['Average'].max()"
      ]
    },
    {
      "cell_type": "markdown",
      "metadata": {
        "id": "QC_WVqdgSicp"
      },
      "source": [
        "# 2¿Cuáles son los 5 códigos postales más comunes para las órdenes con estado ‘Refunded’? ¿Y cuál es el nombre más frecuente entre los clientes de esas direcciones?"
      ]
    },
    {
      "cell_type": "code",
      "execution_count": null,
      "metadata": {
        "id": "1t699cuboPRn"
      },
      "outputs": [],
      "source": [
        "#2-¿Cuáles son los 5 códigos postales más comunes para las órdenes con estado ‘Refunded’?\n",
        "# ¿Y cuál es el nombre más frecuente entre los clientes de esas direcciones?\n",
        "orders['zip_code'] = orders['shipping_address'].str.extract(r'(\\d{5})')\n",
        "\n",
        "refunded = orders[orders['status'] == 'Refunded']\n",
        "\n",
        "\n"
      ]
    },
    {
      "cell_type": "code",
      "execution_count": null,
      "metadata": {
        "id": "wX3TR_2eKuG4"
      },
      "outputs": [],
      "source": [
        "top5_zip = refunded['zip_code'].value_counts().head(5).index.tolist()\n",
        "# conseguir los 5 zip en una lista"
      ]
    },
    {
      "cell_type": "code",
      "execution_count": null,
      "metadata": {
        "id": "trFc-smFKznQ"
      },
      "outputs": [],
      "source": [
        "refunded_top5 = refunded[refunded['zip_code'].isin(top5_zip)]\n",
        "#me fijo si busco dentro esos codigos postales los refunded"
      ]
    },
    {
      "cell_type": "code",
      "execution_count": null,
      "metadata": {
        "id": "cS3p1qwQLT3S"
      },
      "outputs": [],
      "source": [
        "refunded_top5 = refunded_top5.merge(customers[['customer_id','first_name']],on = 'customer_id')\n",
        "# merge de refunded_top 5 con customers para agregar la tabla de nombres."
      ]
    },
    {
      "cell_type": "code",
      "execution_count": null,
      "metadata": {
        "id": "H1dz_88AFwBb"
      },
      "outputs": [],
      "source": [
        "refunded_top5 = refunded_top5[refunded_top5['first_name'] != '-']"
      ]
    },
    {
      "cell_type": "code",
      "execution_count": null,
      "metadata": {
        "collapsed": true,
        "id": "lFnTJIDLM8Ur"
      },
      "outputs": [],
      "source": [
        "#busco el nombre mas comun por zipcode\n",
        "result = refunded_top5[refunded_top5['zip_code'].isin(top5_zip)].groupby('zip_code')['first_name'].agg(lambda x: x.mode()[0])"
      ]
    },
    {
      "cell_type": "code",
      "execution_count": null,
      "metadata": {
        "id": "SuxOfPktRfuJ"
      },
      "outputs": [],
      "source": [
        "result"
      ]
    },
    {
      "cell_type": "markdown",
      "metadata": {
        "id": "vYO0_jiFSpij"
      },
      "source": [
        "# **Para cada tipo de pago y segmento de cliente, devolver la suma y el promedio expresado como porcentaje, de clientes activos y de consentimiento de marketing. Se valora que el output de la consulta tenga nombres claros y en español.**"
      ]
    },
    {
      "cell_type": "code",
      "execution_count": null,
      "metadata": {
        "id": "OMlMh_C8neya"
      },
      "outputs": [],
      "source": [
        "#3-Para cada tipo de pago y segmento de cliente, devolver la suma y el promedio expresado como porcentaje, de clientes activos y de consentimiento de marketing.\n",
        "# Se valora que el output de la consulta tenga nombres claros y en español."
      ]
    },
    {
      "cell_type": "code",
      "execution_count": 1,
      "metadata": {
        "colab": {
          "base_uri": "https://localhost:8080/",
          "height": 193
        },
        "id": "vC9x6gFun1_h",
        "outputId": "0c27a5cf-85bb-45fe-a7a9-afb7e9486884"
      },
      "outputs": [
        {
          "output_type": "error",
          "ename": "NameError",
          "evalue": "name 'orders' is not defined",
          "traceback": [
            "\u001b[0;31m---------------------------------------------------------------------------\u001b[0m",
            "\u001b[0;31mNameError\u001b[0m                                 Traceback (most recent call last)",
            "\u001b[0;32m/tmp/ipython-input-82241384.py\u001b[0m in \u001b[0;36m<cell line: 0>\u001b[0;34m()\u001b[0m\n\u001b[1;32m      1\u001b[0m \u001b[0;31m#CUSTOMER:customer_segment,is_active, marketing_consent\u001b[0m\u001b[0;34m\u001b[0m\u001b[0;34m\u001b[0m\u001b[0m\n\u001b[1;32m      2\u001b[0m \u001b[0;31m#ORDER:payment_method\u001b[0m\u001b[0;34m\u001b[0m\u001b[0;34m\u001b[0m\u001b[0m\n\u001b[0;32m----> 3\u001b[0;31m \u001b[0mpayment_segment_stats\u001b[0m \u001b[0;34m=\u001b[0m \u001b[0morders\u001b[0m\u001b[0;34m[\u001b[0m\u001b[0;34m[\u001b[0m\u001b[0;34m'customer_id'\u001b[0m\u001b[0;34m,\u001b[0m\u001b[0;34m'payment_method'\u001b[0m\u001b[0;34m]\u001b[0m\u001b[0;34m]\u001b[0m\u001b[0;34m.\u001b[0m\u001b[0mdrop_duplicates\u001b[0m\u001b[0;34m(\u001b[0m\u001b[0;34m[\u001b[0m\u001b[0;34m'customer_id'\u001b[0m\u001b[0;34m,\u001b[0m\u001b[0;34m'payment_method'\u001b[0m\u001b[0;34m]\u001b[0m\u001b[0;34m)\u001b[0m\u001b[0;34m.\u001b[0m\u001b[0mmerge\u001b[0m\u001b[0;34m(\u001b[0m\u001b[0mcustomers\u001b[0m\u001b[0;34m[\u001b[0m\u001b[0;34m[\u001b[0m\u001b[0;34m'customer_id'\u001b[0m\u001b[0;34m,\u001b[0m\u001b[0;34m'customer_segment'\u001b[0m\u001b[0;34m,\u001b[0m\u001b[0;34m'marketing_consent'\u001b[0m\u001b[0;34m,\u001b[0m\u001b[0;34m'is_active'\u001b[0m\u001b[0;34m]\u001b[0m\u001b[0;34m]\u001b[0m\u001b[0;34m,\u001b[0m\u001b[0mon\u001b[0m\u001b[0;34m=\u001b[0m\u001b[0;34m'customer_id'\u001b[0m\u001b[0;34m,\u001b[0m\u001b[0mhow\u001b[0m\u001b[0;34m=\u001b[0m\u001b[0;34m'inner'\u001b[0m\u001b[0;34m)\u001b[0m\u001b[0;34m\u001b[0m\u001b[0;34m\u001b[0m\u001b[0m\n\u001b[0m\u001b[1;32m      4\u001b[0m \u001b[0;31m# payment_segment_stats = orders.merge(customers[['customer_id','customer_segment','is_active','marketing_consent']], on='customer_id', how='inner')\u001b[0m\u001b[0;34m\u001b[0m\u001b[0;34m\u001b[0m\u001b[0m\n",
            "\u001b[0;31mNameError\u001b[0m: name 'orders' is not defined"
          ]
        }
      ],
      "source": [
        "#CUSTOMER:customer_segment,is_active, marketing_consent\n",
        "#ORDER:payment_method\n",
        "payment_segment_stats = orders[['customer_id','payment_method']].drop_duplicates(['customer_id','payment_method']).merge(customers[['customer_id','customer_segment','marketing_consent','is_active']],on='customer_id',how='inner')\n",
        "# payment_segment_stats = orders.merge(customers[['customer_id','customer_segment','is_active','marketing_consent']], on='customer_id', how='inner')\n"
      ]
    },
    {
      "cell_type": "code",
      "execution_count": null,
      "metadata": {
        "id": "jyFaahWx7Hr0"
      },
      "outputs": [],
      "source": [
        "payment_segment_stats = payment_segment_stats.groupby(['customer_segment','payment_method']).agg(\n",
        "     total_clientes = ('customer_id','nunique'),\n",
        "     marketing = ('marketing_consent','mean'),\n",
        "     clientes_activos = ('is_active','mean')\n",
        " )"
      ]
    },
    {
      "cell_type": "code",
      "execution_count": null,
      "metadata": {
        "id": "X7JCctta8rRy"
      },
      "outputs": [],
      "source": [
        "payment_segment_stats['% clientes_activos'] = 100 * payment_segment_stats['clientes_activos']\n",
        "payment_segment_stats['% marketing'] = 100 * payment_segment_stats['marketing']"
      ]
    },
    {
      "cell_type": "code",
      "execution_count": null,
      "metadata": {
        "id": "9abV7tdiTwgg"
      },
      "outputs": [],
      "source": [
        "payment_segment_stats = payment_segment_stats.drop(columns=['clientes_activos','marketing'])"
      ]
    },
    {
      "cell_type": "code",
      "execution_count": null,
      "metadata": {
        "id": "Onixxd49A91H"
      },
      "outputs": [],
      "source": [
        "payment_segment_stats"
      ]
    },
    {
      "cell_type": "markdown",
      "metadata": {
        "id": "hFH75RKqUbWc"
      },
      "source": [
        "# **SPara los productos que contienen en su descripción la palabra “stuff” (sin importar mayúsculas o minúsculas), calcular el peso total de su inventario agrupado por marca, mostrar sólo la marca y el peso total de las 5 más pesadas.**"
      ]
    },
    {
      "cell_type": "code",
      "execution_count": null,
      "metadata": {
        "id": "rFa64Shf_F2S"
      },
      "outputs": [],
      "source": [
        "# #4Para los productos que contienen en su descripción la palabra “stuff” (sin importar mayúsculas o minúsculas),\n",
        "#  calcular el peso total de su inventario agrupado por marca,\n",
        "# mostrar sólo la marca y el peso total de las 5 más pesadas.\n",
        "\n",
        "\n",
        "#product en descripcion str.contains('stuff'),:]"
      ]
    },
    {
      "cell_type": "code",
      "execution_count": null,
      "metadata": {
        "id": "uVKfrwYg_Z72"
      },
      "outputs": [],
      "source": [
        "products_stuff = products.loc[products['description'].str.lower().str.contains('stuff'),:]\n",
        "products_stuff = products_stuff[products_stuff['brand'] != 'Undefined']\n",
        "products_stuff ['inventory_weight'] = products_stuff['stock_quantity'] * products_stuff['weight_kg']\n"
      ]
    },
    {
      "cell_type": "code",
      "execution_count": null,
      "metadata": {
        "collapsed": true,
        "id": "dnUiGAPGuodc"
      },
      "outputs": [],
      "source": [
        "products_stuff"
      ]
    },
    {
      "cell_type": "code",
      "execution_count": null,
      "metadata": {
        "id": "tj07waKJAS-W"
      },
      "outputs": [],
      "source": [
        "products_stuff = products_stuff.groupby('brand')['inventory_weight'].sum()"
      ]
    },
    {
      "cell_type": "code",
      "execution_count": null,
      "metadata": {
        "id": "na7DnaoawVJD"
      },
      "outputs": [],
      "source": [
        "products_stuff"
      ]
    },
    {
      "cell_type": "code",
      "execution_count": null,
      "metadata": {
        "id": "HyssSZSQv9jx"
      },
      "outputs": [],
      "source": [
        "products_stuff = products_stuff.reset_index()"
      ]
    },
    {
      "cell_type": "code",
      "execution_count": null,
      "metadata": {
        "id": "x1Du9BxQugA3"
      },
      "outputs": [],
      "source": [
        "products_stuff['total_tonnes'] = products_stuff['inventory_weight'] / 1_000"
      ]
    },
    {
      "cell_type": "code",
      "execution_count": null,
      "metadata": {
        "collapsed": true,
        "id": "SYHqmEDtA9Sk"
      },
      "outputs": [],
      "source": [
        "products_stuff =products_stuff.sort_values('total_tonnes',ascending=False)"
      ]
    },
    {
      "cell_type": "code",
      "execution_count": null,
      "metadata": {
        "id": "GvFEndOnzJEZ"
      },
      "outputs": [],
      "source": [
        "products_stuff"
      ]
    },
    {
      "cell_type": "code",
      "execution_count": null,
      "metadata": {
        "id": "gbyfeECmvIhq"
      },
      "outputs": [],
      "source": [
        "products_stuff.head(5)"
      ]
    },
    {
      "cell_type": "markdown",
      "metadata": {
        "id": "5RfGZ4lEK2Ew"
      },
      "source": [
        "# **CONSULTAS EXTRAS**\n",
        "\n",
        "1-¿Cuál es el patrón de ventas a lo largo de los meses del año?\n",
        "\n",
        "2- Top 10 promedio de rating por categoría de productos activos\n",
        "\n",
        "3-¿Existe relación entre el precio del producto y la cantidad de votos útiles de sus reseñas?\n",
        "\n",
        "4-¿Qué segmento de clientes realiza más compras?\n",
        "\n",
        "5-¿Cuál es el país con mayor cantidad de clientes activos  y cuánto representan en el total?\n",
        "\n",
        "6-¿Cuál es la cantidad de clientes activos por genero por país?\n",
        "\n",
        "7-¿Cuál es la cantidad de clientes por genero que realizaron compras por país?\n",
        "\n",
        "8-Distribución de reseñas por puntaje"
      ]
    },
    {
      "cell_type": "markdown",
      "metadata": {
        "id": "WTVBwXiGX4s6"
      },
      "source": [
        "# 1-¿Cuál es el patrón de ventas a lo largo de los meses del año?"
      ]
    },
    {
      "cell_type": "code",
      "execution_count": null,
      "metadata": {
        "collapsed": true,
        "id": "n9iyaJRsPlN4"
      },
      "outputs": [],
      "source": [
        "orders"
      ]
    },
    {
      "cell_type": "code",
      "execution_count": null,
      "metadata": {
        "collapsed": true,
        "id": "LteVhNkxQtZa"
      },
      "outputs": [],
      "source": [
        "sales_completed = orders[(orders['status'] == 'Completed')]\n",
        "sales_completed"
      ]
    },
    {
      "cell_type": "code",
      "execution_count": null,
      "metadata": {
        "id": "iwNLc53uQr2b"
      },
      "outputs": [],
      "source": [
        "sales_completed.dropna(subset=[\"order_date\", \"created_at\"],inplace= True)"
      ]
    },
    {
      "cell_type": "code",
      "execution_count": null,
      "metadata": {
        "collapsed": true,
        "id": "22sffkI9Q3v7"
      },
      "outputs": [],
      "source": [
        "sales_completed"
      ]
    },
    {
      "cell_type": "code",
      "execution_count": null,
      "metadata": {
        "collapsed": true,
        "id": "cgWjNUMuHEdT"
      },
      "outputs": [],
      "source": [
        "#1- ¿En qué períodos (meses, días de la semana) se concentran más las ventas?\n",
        "monthly_sales = sales_completed.groupby(sales_completed['order_date'].dt.month_name())['order_id'].count().reset_index()\n",
        "\n",
        "monthly_sales = monthly_sales.rename(columns={'order_date':'Month','order_id':'Sales Mounth'})\n",
        "monthly_sales\n"
      ]
    },
    {
      "cell_type": "code",
      "execution_count": null,
      "metadata": {
        "id": "cVcFnMLJOdG8"
      },
      "outputs": [],
      "source": [
        "monthly_sales = monthly_sales.sort_values('Month')\n"
      ]
    },
    {
      "cell_type": "code",
      "execution_count": null,
      "metadata": {
        "collapsed": true,
        "id": "wtz1WwBHXyC5"
      },
      "outputs": [],
      "source": [
        "monthly_sales"
      ]
    },
    {
      "cell_type": "markdown",
      "metadata": {
        "id": "uQSpD8ouYGPR"
      },
      "source": [
        "# 2- Top 10 promedio de rating por categoría de productos activos"
      ]
    },
    {
      "cell_type": "code",
      "execution_count": null,
      "metadata": {
        "id": "gUiznB1TZuGQ"
      },
      "outputs": [],
      "source": [
        "products"
      ]
    },
    {
      "cell_type": "code",
      "execution_count": null,
      "metadata": {
        "collapsed": true,
        "id": "F6GzzF7QZzHw"
      },
      "outputs": [],
      "source": [
        "categories"
      ]
    },
    {
      "cell_type": "code",
      "execution_count": null,
      "metadata": {
        "collapsed": true,
        "id": "2waBweUWZ5eJ"
      },
      "outputs": [],
      "source": [
        "reviews"
      ]
    },
    {
      "cell_type": "code",
      "execution_count": null,
      "metadata": {
        "id": "lxNQAYvlaJrR"
      },
      "outputs": [],
      "source": [
        "categories_in_order = categories.set_index([\"parent_category\",\"category_name\"]).sort_index(ascending=True)"
      ]
    },
    {
      "cell_type": "code",
      "execution_count": null,
      "metadata": {
        "collapsed": true,
        "id": "VTiVVo2AcpZ0"
      },
      "outputs": [],
      "source": [
        "categories_in_order"
      ]
    },
    {
      "cell_type": "code",
      "execution_count": null,
      "metadata": {
        "id": "SyVgyqIUa2kC"
      },
      "outputs": [],
      "source": [
        "categories_in_order = categories_in_order.reset_index()"
      ]
    },
    {
      "cell_type": "code",
      "execution_count": null,
      "metadata": {
        "id": "bF3Gwu9Da-ea"
      },
      "outputs": [],
      "source": [
        "avg_rating_by_category = categories_in_order.merge(products[['product_id',\t'product_name',\t'category_id', 'is_active']],on='category_id',how='inner')\n",
        "\n",
        "\n"
      ]
    },
    {
      "cell_type": "code",
      "execution_count": null,
      "metadata": {
        "id": "mZZUDO1BaIbd"
      },
      "outputs": [],
      "source": [
        "avg_rating_by_category = avg_rating_by_category.merge(reviews[['product_id','rating','is_verified_purchase','helpful_votes','created_at']],on= 'product_id', how='inner')"
      ]
    },
    {
      "cell_type": "code",
      "execution_count": null,
      "metadata": {
        "id": "bFJfRevkey3o"
      },
      "outputs": [],
      "source": [
        "# voy a tomar solo los productos que esten activos en el mercado y que tengan una categoria principal asociada.\n",
        "avg_rating_by_category = avg_rating_by_category[\n",
        "    (avg_rating_by_category['is_active'] == True) &\n",
        "    (avg_rating_by_category['parent_category'] != 'Unknown') &\n",
        "    (avg_rating_by_category['category_name'] != 'Unknown')\n",
        "]\n"
      ]
    },
    {
      "cell_type": "code",
      "execution_count": null,
      "metadata": {
        "collapsed": true,
        "id": "PT8CvZMFfC4P"
      },
      "outputs": [],
      "source": [
        "avg_rating_by_category"
      ]
    },
    {
      "cell_type": "code",
      "execution_count": null,
      "metadata": {
        "collapsed": true,
        "id": "LN0D9oAzgFrS"
      },
      "outputs": [],
      "source": [
        "avg_rating_by_category.dropna(subset=[\"rating\"],inplace=True)\n",
        "avg_rating_by_category.dropna(subset=[\"created_at\"],inplace=True)"
      ]
    },
    {
      "cell_type": "code",
      "execution_count": null,
      "metadata": {
        "collapsed": true,
        "id": "AnTtRToyjnDn"
      },
      "outputs": [],
      "source": [
        "avg_rating_by_category = avg_rating_by_category[avg_rating_by_category['is_active'] == True]"
      ]
    },
    {
      "cell_type": "code",
      "execution_count": null,
      "metadata": {
        "collapsed": true,
        "id": "VvfciWkXG4tq"
      },
      "outputs": [],
      "source": [
        "avg_rating_by_category"
      ]
    },
    {
      "cell_type": "code",
      "execution_count": null,
      "metadata": {
        "id": "O2lbWw-lCtO4"
      },
      "outputs": [],
      "source": [
        "# aca saco los productos que no tienen una calificacion. ya que no me sirven para el analisis que se pretende hacer.\n",
        "avg_rating_by_category = avg_rating_by_category.groupby(['parent_category', 'category_name']).agg(Promedio_Calificacion =('rating','mean')).dropna()"
      ]
    },
    {
      "cell_type": "code",
      "execution_count": null,
      "metadata": {
        "id": "ldzUyBDNFGe5"
      },
      "outputs": [],
      "source": [
        "avg_rating_by_category.rename(columns={'Promedio_Calificacion':'Average rating'},inplace= True)"
      ]
    },
    {
      "cell_type": "code",
      "execution_count": null,
      "metadata": {
        "id": "mdXzilcwFe_U"
      },
      "outputs": [],
      "source": [
        "avg_rating_by_category"
      ]
    },
    {
      "cell_type": "code",
      "execution_count": null,
      "metadata": {
        "id": "2nPpRd49AS8i"
      },
      "outputs": [],
      "source": [
        "avg_rating_by_category = avg_rating_by_category.reset_index().groupby('parent_category', as_index=False)['Average rating'].mean().nlargest(10, 'Average rating')\n",
        "\n",
        "avg_rating_by_category['parent_category'] = avg_rating_by_category['parent_category'].astype(str)"
      ]
    },
    {
      "cell_type": "code",
      "execution_count": null,
      "metadata": {
        "id": "K8IsmIy6AT3r"
      },
      "outputs": [],
      "source": [
        "avg_rating_by_category"
      ]
    },
    {
      "cell_type": "markdown",
      "metadata": {
        "id": "XQ_sQVGsGbH4"
      },
      "source": []
    },
    {
      "cell_type": "markdown",
      "metadata": {
        "id": "bJDwZFhDGf9B"
      },
      "source": [
        "#3-¿Existe relación entre el precio del producto y la cantidad de votos útiles de sus reseñas?\n"
      ]
    },
    {
      "cell_type": "code",
      "execution_count": null,
      "metadata": {
        "collapsed": true,
        "id": "IEbPf7bYG17K"
      },
      "outputs": [],
      "source": [
        "products"
      ]
    },
    {
      "cell_type": "code",
      "execution_count": null,
      "metadata": {
        "collapsed": true,
        "id": "IRFDKLYEG8Ob"
      },
      "outputs": [],
      "source": [
        "reviews"
      ]
    },
    {
      "cell_type": "code",
      "execution_count": null,
      "metadata": {
        "id": "3jNsgTDQIxcl"
      },
      "outputs": [],
      "source": [
        "# verified reviews son aquellos clientes que realmente certificaron haber comprado el producto\n",
        "verified_reviews = reviews[reviews['is_verified_purchase'] == True]\n"
      ]
    },
    {
      "cell_type": "code",
      "execution_count": null,
      "metadata": {
        "collapsed": true,
        "id": "DvEV-KOlJcId"
      },
      "outputs": [],
      "source": [
        "verified_reviews.drop(columns = ['title','comment','is_verified_purchase'], errors = 'ignore',inplace =True) # sco estas col porque no me aportan informacion relevante para el analisis"
      ]
    },
    {
      "cell_type": "code",
      "execution_count": null,
      "metadata": {
        "collapsed": true,
        "id": "atvdD8UdLNFT"
      },
      "outputs": [],
      "source": [
        "verified_reviews"
      ]
    },
    {
      "cell_type": "code",
      "execution_count": null,
      "metadata": {
        "id": "rTRzgj55LkuT"
      },
      "outputs": [],
      "source": [
        "prod_reviews = products.drop(columns = ['stock_quantity','weight_kg','dimensions','description','0created_at','cost','created_at'], errors = 'ignore',inplace =False)"
      ]
    },
    {
      "cell_type": "code",
      "execution_count": null,
      "metadata": {
        "id": "YE9T4LoxOoss"
      },
      "outputs": [],
      "source": [
        "# en este caso voy a tomar los productos que solo esten activos en el mercado,otro analisis que se puede hacer es productos que ya no estan activos, si tiene que ver con su precio y las reviews,osea si hay una correlacion entre ambas.\n",
        "prod_active_reviews = prod_reviews[prod_reviews['is_active'] == True]"
      ]
    },
    {
      "cell_type": "code",
      "execution_count": null,
      "metadata": {
        "id": "RsenFBzFPU2F"
      },
      "outputs": [],
      "source": [
        "prod_active_reviews = prod_active_reviews.merge(verified_reviews,on='product_id',how='inner')"
      ]
    },
    {
      "cell_type": "code",
      "execution_count": null,
      "metadata": {
        "id": "yq-jPXHIQ7OU"
      },
      "outputs": [],
      "source": [
        "prod_active_reviews.drop(columns=['is_active'], errors= 'ignore', inplace = True)"
      ]
    },
    {
      "cell_type": "code",
      "execution_count": null,
      "metadata": {
        "id": "EH7wpuPBQ_QH"
      },
      "outputs": [],
      "source": [
        "prod_active_reviews = prod_active_reviews.dropna(subset=['rating','price'])"
      ]
    },
    {
      "cell_type": "code",
      "execution_count": null,
      "metadata": {
        "collapsed": true,
        "id": "eP4-MBnqQJ7I"
      },
      "outputs": [],
      "source": [
        "prod_active_reviews"
      ]
    },
    {
      "cell_type": "code",
      "execution_count": null,
      "metadata": {
        "id": "vvlOFoNIgw_o"
      },
      "outputs": [],
      "source": [
        "reviews_per_produtcs = prod_active_reviews.groupby(['product_id','price'])['review_id'].count().reset_index().rename(columns={\"review_id\":\"n_reviews\"})"
      ]
    },
    {
      "cell_type": "code",
      "execution_count": null,
      "metadata": {
        "id": "4pCUMiuQk2Q-"
      },
      "outputs": [],
      "source": []
    },
    {
      "cell_type": "code",
      "execution_count": null,
      "metadata": {
        "collapsed": true,
        "id": "KAgtpLyykrkp"
      },
      "outputs": [],
      "source": [
        "reviews_per_produtcs"
      ]
    },
    {
      "cell_type": "code",
      "execution_count": null,
      "metadata": {
        "id": "vC1q_KLPhhcF"
      },
      "outputs": [],
      "source": [
        "plt.figure(figsize=(10,6))\n",
        "sns.regplot(\n",
        "    data=prod_active_reviews,\n",
        "    x=\"price\", y=\"helpful_votes\",\n",
        "    scatter_kws={'alpha':0.4},   # transparencia de puntos\n",
        "    line_kws={'color':'red'}     # estilo de la línea de regresión\n",
        ")\n",
        "plt.title(\"Price vs. useful votes (with linear regression)\")\n",
        "plt.xlabel(\"Product price\")\n",
        "plt.ylabel(\"Helpful votes in the review\")\n",
        "plt.show()\n"
      ]
    },
    {
      "cell_type": "markdown",
      "metadata": {
        "id": "OK8qylVVnk__"
      },
      "source": [
        "¿Hay relación entre el precio de los productos y el puntaje de las reseñas?"
      ]
    },
    {
      "cell_type": "code",
      "execution_count": null,
      "metadata": {
        "id": "nYevPzl8nnEg"
      },
      "outputs": [],
      "source": [
        "prod_active_reviews[['price', 'helpful_votes']].corr()"
      ]
    },
    {
      "cell_type": "code",
      "execution_count": null,
      "metadata": {
        "id": "yH3964jpoJZE"
      },
      "outputs": [],
      "source": [
        "# plt.figure(figsize=(30,8))\n",
        "# sns.scatterplot(\n",
        "#     data=prod_active_reviews,\n",
        "#     x=\"price\", y=\"rating\",\n",
        "#     alpha=0.5\n",
        "# )\n",
        "# plt.title(\"Relación entre precio y rating\")\n",
        "# plt.xlabel(\"Precio del producto\")\n",
        "# plt.ylabel(\"Calificación (rating)\")\n",
        "# plt.show()"
      ]
    },
    {
      "cell_type": "code",
      "execution_count": null,
      "metadata": {
        "id": "0UF0jduxrJoe"
      },
      "outputs": [],
      "source": [
        "# corr = prod_active_reviews[['price','rating']].corr(method='pearson').iloc[0,1]\n",
        "# print(f\"Correlación de Pearson: {corr:.3f}\")"
      ]
    },
    {
      "cell_type": "markdown",
      "metadata": {
        "id": "bcjK_dUES1lJ"
      },
      "source": [
        "# 4-¿Qué segmento de clientes realiza más compras?"
      ]
    },
    {
      "cell_type": "code",
      "execution_count": null,
      "metadata": {
        "collapsed": true,
        "id": "x1KojTJxAZNu"
      },
      "outputs": [],
      "source": [
        "customers"
      ]
    },
    {
      "cell_type": "code",
      "execution_count": null,
      "metadata": {
        "collapsed": true,
        "id": "nGWbrreOBBxY"
      },
      "outputs": [],
      "source": [
        "orders"
      ]
    },
    {
      "cell_type": "code",
      "execution_count": null,
      "metadata": {
        "id": "FYKqo_RDC_Uf"
      },
      "outputs": [],
      "source": [
        "orders_per_segment = orders[orders['status'] == 'Completed'].merge(customers[['customer_id','customer_segment']], on='customer_id',how='inner')"
      ]
    },
    {
      "cell_type": "code",
      "execution_count": null,
      "metadata": {
        "id": "fPmrafgWv0Di"
      },
      "outputs": [],
      "source": [
        "orders_per_segment = orders_per_segment.groupby('customer_segment')['order_id'].nunique().sort_values(ascending=False).reset_index()"
      ]
    },
    {
      "cell_type": "code",
      "execution_count": null,
      "metadata": {
        "id": "GWdhOMFdwKL3"
      },
      "outputs": [],
      "source": [
        "orders_per_segment.rename(columns = {'order_id':'quantity of orders'},inplace= True)\n"
      ]
    },
    {
      "cell_type": "code",
      "execution_count": null,
      "metadata": {
        "id": "MhbUlvS2w98s"
      },
      "outputs": [],
      "source": [
        "orders_per_segment\n"
      ]
    },
    {
      "cell_type": "markdown",
      "metadata": {
        "id": "ixWNTEgETKKR"
      },
      "source": [
        "# 5-¿Cuál es el país con mayor cantidad de clientes activos  y cuánto representan en el total?"
      ]
    },
    {
      "cell_type": "code",
      "execution_count": null,
      "metadata": {
        "id": "Pkbv9G3lCKbL"
      },
      "outputs": [],
      "source": [
        "active_customers = customers[customers['is_active'] == True]\n"
      ]
    },
    {
      "cell_type": "code",
      "execution_count": null,
      "metadata": {
        "collapsed": true,
        "id": "GEqWu1rNOBln"
      },
      "outputs": [],
      "source": [
        "active_customers"
      ]
    },
    {
      "cell_type": "code",
      "execution_count": null,
      "metadata": {
        "id": "4T6MVcp-CdVJ"
      },
      "outputs": [],
      "source": [
        "active_by_country = active_customers.groupby('country')['customer_id'].nunique().reset_index(name='num_active_customers').sort_values('num_active_customers', ascending=False)"
      ]
    },
    {
      "cell_type": "code",
      "execution_count": null,
      "metadata": {
        "id": "f6wz3MA5Pew1"
      },
      "outputs": [],
      "source": [
        "active_by_country = active_by_country[active_by_country['country']!='Undefined']\n",
        "active_by_country"
      ]
    },
    {
      "cell_type": "code",
      "execution_count": null,
      "metadata": {
        "id": "A4Y9uVFMPmpD"
      },
      "outputs": [],
      "source": [
        "total_costumers = active_by_country['num_active_customers'].sum()"
      ]
    },
    {
      "cell_type": "code",
      "execution_count": null,
      "metadata": {
        "id": "-z6jpL9EQYwJ"
      },
      "outputs": [],
      "source": [
        "active_by_country['pct_of_total'] = (active_by_country['num_active_customers'] / total_costumers * 100).round(2)"
      ]
    },
    {
      "cell_type": "code",
      "execution_count": null,
      "metadata": {
        "collapsed": true,
        "id": "vEokSYAyR7Sr"
      },
      "outputs": [],
      "source": [
        "active_by_country"
      ]
    },
    {
      "cell_type": "markdown",
      "metadata": {
        "id": "_dWJ5mVCTN_e"
      },
      "source": []
    },
    {
      "cell_type": "markdown",
      "metadata": {
        "id": "kERsFSz9TQYX"
      },
      "source": [
        "# 6-¿Cuál es la cantidad de clientes activos por genero por país?"
      ]
    },
    {
      "cell_type": "code",
      "execution_count": null,
      "metadata": {
        "collapsed": true,
        "id": "7f7HCWaEZVj7"
      },
      "outputs": [],
      "source": [
        "orders"
      ]
    },
    {
      "cell_type": "markdown",
      "metadata": {
        "id": "ThMT8rYcTUOj"
      },
      "source": []
    },
    {
      "cell_type": "code",
      "execution_count": null,
      "metadata": {
        "id": "CQlCYhOJiA7m"
      },
      "outputs": [],
      "source": [
        "gender_country = customers[ (customers['country'] != 'Undefined') & (customers['is_active'] == True)]"
      ]
    },
    {
      "cell_type": "code",
      "execution_count": null,
      "metadata": {
        "id": "Zecn0HNljvWy"
      },
      "outputs": [],
      "source": [
        "gender_country.country.unique()"
      ]
    },
    {
      "cell_type": "code",
      "execution_count": null,
      "metadata": {
        "id": "3XlSuDyAZxYs"
      },
      "outputs": [],
      "source": [
        "gender_country = gender_country.groupby(['country','gender'])['customer_id'].nunique().reset_index(name='num_customers').sort_values(['country','num_customers'], ascending=[True,False])\n",
        "\n",
        "\n"
      ]
    },
    {
      "cell_type": "code",
      "execution_count": null,
      "metadata": {
        "id": "8CAyXYDwkF4G"
      },
      "outputs": [],
      "source": [
        "gender_country = gender_country[gender_country['country'] != 'Undefined']"
      ]
    },
    {
      "cell_type": "code",
      "execution_count": null,
      "metadata": {
        "id": "W08B6zY4kyrN"
      },
      "outputs": [],
      "source": [
        "gender_country"
      ]
    },
    {
      "cell_type": "code",
      "execution_count": null,
      "metadata": {
        "id": "N2uCK9GbodMI"
      },
      "outputs": [],
      "source": []
    },
    {
      "cell_type": "markdown",
      "metadata": {
        "id": "eFLWT44aTWan"
      },
      "source": [
        "# 7-¿Cuál es la cantidad de clientes por genero que realizaron compras por país?"
      ]
    },
    {
      "cell_type": "code",
      "execution_count": null,
      "metadata": {
        "id": "DSsioyE2k-pz"
      },
      "outputs": [],
      "source": [
        "orders.status.unique()"
      ]
    },
    {
      "cell_type": "code",
      "execution_count": null,
      "metadata": {
        "collapsed": true,
        "id": "4oPzTB2RlEzs"
      },
      "outputs": [],
      "source": [
        "customers"
      ]
    },
    {
      "cell_type": "code",
      "execution_count": null,
      "metadata": {
        "id": "rDkuQ7HMlGjk"
      },
      "outputs": [],
      "source": [
        "valid_status = ['Completed','Shipped']\n",
        "orders_valid = orders[orders['status'].isin(valid_status)]"
      ]
    },
    {
      "cell_type": "code",
      "execution_count": null,
      "metadata": {
        "collapsed": true,
        "id": "glXs0ovfqnUS"
      },
      "outputs": [],
      "source": [
        "orders_valid = orders_valid.merge(customers[['country','customer_id','gender']],on='customer_id', how='inner')"
      ]
    },
    {
      "cell_type": "code",
      "execution_count": null,
      "metadata": {
        "id": "g5ElH9L1sx9Q"
      },
      "outputs": [],
      "source": [
        "orders_valid = orders_valid[orders_valid['country'] != 'Undefined']"
      ]
    },
    {
      "cell_type": "code",
      "execution_count": null,
      "metadata": {
        "collapsed": true,
        "id": "9z6ZxQGer8xp"
      },
      "outputs": [],
      "source": [
        "orders_valid = orders_valid.dropna(subset=['order_date'])"
      ]
    },
    {
      "cell_type": "code",
      "execution_count": null,
      "metadata": {
        "id": "uOqfk0Z0wifS"
      },
      "outputs": [],
      "source": [
        "orders_valid = orders_valid.dropna(subset=['updated_at'])"
      ]
    },
    {
      "cell_type": "code",
      "execution_count": null,
      "metadata": {
        "collapsed": true,
        "id": "zYzBEw0KwgRq"
      },
      "outputs": [],
      "source": [
        "buyers_by_gender_country = orders_valid.groupby(['country','gender'])['customer_id'].nunique().reset_index(name='num_buyers').sort_values(['country','num_buyers'], ascending=[True,False])"
      ]
    },
    {
      "cell_type": "code",
      "execution_count": null,
      "metadata": {
        "id": "cLaVXeXT1oXp"
      },
      "outputs": [],
      "source": [
        "buyers_by_gender_country = buyers_by_gender_country [buyers_by_gender_country['country'] != 'Undefined']"
      ]
    },
    {
      "cell_type": "code",
      "execution_count": null,
      "metadata": {
        "collapsed": true,
        "id": "I-Doi90Yx7Si"
      },
      "outputs": [],
      "source": [
        "buyers_by_gender_country"
      ]
    },
    {
      "cell_type": "code",
      "execution_count": null,
      "metadata": {
        "id": "ttebwbKRfwPr"
      },
      "outputs": [],
      "source": []
    },
    {
      "cell_type": "markdown",
      "metadata": {
        "id": "cM0Jk0ZLDk0T"
      },
      "source": [
        "# **8-Distribución de reseñas por puntaje**"
      ]
    },
    {
      "cell_type": "code",
      "execution_count": null,
      "metadata": {
        "id": "PjEmsL0HEHpt"
      },
      "outputs": [],
      "source": [
        "df = reviews[reviews['is_verified_purchase'] == True].dropna(subset=['created_at'])"
      ]
    },
    {
      "cell_type": "code",
      "execution_count": null,
      "metadata": {
        "id": "Lp5HTHaYDsBy"
      },
      "outputs": [],
      "source": [
        "reviews_by_rating = df.groupby('rating')['review_id'].count().reset_index(name='num_reviews')"
      ]
    },
    {
      "cell_type": "code",
      "execution_count": null,
      "metadata": {
        "collapsed": true,
        "id": "49pci7STEEHF"
      },
      "outputs": [],
      "source": [
        "reviews_by_rating"
      ]
    },
    {
      "cell_type": "markdown",
      "metadata": {
        "id": "y-0VqjyuBlCm"
      },
      "source": [
        "# **VISUALIZACIONES**\n",
        "\n",
        "---\n",
        "\n"
      ]
    },
    {
      "cell_type": "markdown",
      "metadata": {
        "id": "shDNHvuGM4e0"
      },
      "source": [
        "# **1)Una continua con una línea de tiempo**"
      ]
    },
    {
      "cell_type": "markdown",
      "metadata": {
        "id": "GdjPyrluSHDa"
      },
      "source": [
        "pregunta 1: ¿Cuál es el patrón de ventas a lo largo de los meses del año?"
      ]
    },
    {
      "cell_type": "code",
      "execution_count": null,
      "metadata": {
        "collapsed": true,
        "id": "bmxmybrJOIdf"
      },
      "outputs": [],
      "source": [
        "order_months = [\"January\", \"February\", \"March\", \"April\", \"May\", \"June\",\n",
        "                \"July\", \"August\", \"September\", \"October\", \"November\", \"December\"]\n",
        "\n",
        "monthly_sales[\"Month\"] = pd.Categorical(monthly_sales[\"Month\"],\n",
        "                                        categories=order_months,\n",
        "                                        ordered=True)"
      ]
    },
    {
      "cell_type": "code",
      "execution_count": null,
      "metadata": {
        "id": "SIfIhP14ByZt"
      },
      "outputs": [],
      "source": [
        "plt.figure(figsize=(12,5))\n",
        "sns.lineplot(data=monthly_sales, x='Month', y='Sales Mounth',markers='o')\n",
        "plt.title(\"Monthly Sales Overview\")\n",
        "plt.ylim(0, monthly_sales[\"Sales Mounth\"].max()*1.1)  # empieza en 0 y deja 10% de aire arriba\n",
        "plt.grid(axis=\"y\", linestyle=\"--\", alpha=0.7)\n",
        "\n",
        "for i, row in monthly_sales.iterrows():\n",
        "    plt.vlines(x=row[\"Month\"], ymin=0, ymax=row[\"Sales Mounth\"], color=\"red\", linestyle=\"--\", alpha=0.5)\n",
        "\n",
        "plt.xticks(rotation=45)\n",
        "plt.show()"
      ]
    },
    {
      "cell_type": "markdown",
      "metadata": {
        "id": "mT6JXn1XV28t"
      },
      "source": []
    },
    {
      "cell_type": "markdown",
      "metadata": {
        "id": "VXkMU6hjXukJ"
      },
      "source": []
    },
    {
      "cell_type": "markdown",
      "metadata": {
        "id": "D1V8DgaZX3hK"
      },
      "source": [
        "\n",
        "# **2) Una discreta con una continua.**"
      ]
    },
    {
      "cell_type": "markdown",
      "metadata": {
        "id": "oVio-n4iX-df"
      },
      "source": [
        "\n",
        "\n",
        "8-¿Cómo se distribuyen las calificaciones de los productos según su categoría principal?\n",
        "\n"
      ]
    },
    {
      "cell_type": "code",
      "execution_count": null,
      "metadata": {
        "id": "aw2uPZkEcXXS"
      },
      "outputs": [],
      "source": [
        "avg_rating_by_category.reset_index()"
      ]
    },
    {
      "cell_type": "code",
      "execution_count": null,
      "metadata": {
        "id": "Z0YGVHuGYbqV"
      },
      "outputs": [],
      "source": [
        "plt.figure(figsize=(25,10))\n",
        "sns.violinplot(data=reviews_with_cat,x=\"parent_category\", y=\"rating\", inner=\"quartile\")   # muestra mediana y cuartiles\n",
        "plt.xticks(rotation=90)\n",
        "plt.title(\"Distribution of ratings by main category\")\n",
        "plt.xlabel('Main category')\n",
        "plt.ylabel('Rating')\n",
        "\n",
        "plt.show()\n"
      ]
    },
    {
      "cell_type": "code",
      "execution_count": null,
      "metadata": {
        "id": "cp1GFqdGmvI0"
      },
      "outputs": [],
      "source": []
    },
    {
      "cell_type": "markdown",
      "metadata": {
        "id": "IDxoXwcsm9u8"
      },
      "source": [
        "# **3)Una discreta con una discreta.**"
      ]
    },
    {
      "cell_type": "markdown",
      "metadata": {
        "id": "PAPiq8D5Th_V"
      },
      "source": [
        "6-¿Cuál es la cantidad de clientes activos por genero por país?"
      ]
    },
    {
      "cell_type": "code",
      "execution_count": null,
      "metadata": {
        "collapsed": true,
        "id": "OF6McxEnpeHa"
      },
      "outputs": [],
      "source": [
        "gender_country"
      ]
    },
    {
      "cell_type": "markdown",
      "metadata": {
        "id": "9q_mmpb6oBDt"
      },
      "source": [
        "6 ¿Cuál es la cantidad de clientes activos por género y país?"
      ]
    },
    {
      "cell_type": "code",
      "execution_count": null,
      "metadata": {
        "id": "kDNYH9-drY6x"
      },
      "outputs": [],
      "source": [
        "colors = [\"#1b9e77\", \"#d95f02\", \"#7570b3\"]\n",
        "pivot = gender_country.pivot(index=\"country\", columns=\"gender\", values=\"num_customers\")\n",
        "\n",
        "pivot.plot(kind=\"bar\", stacked=False, figsize=(30,5),color= colors)\n",
        "\n",
        "plt.title(\"Active clients by gender and country\")\n",
        "plt.xlabel(\"Country\")\n",
        "plt.ylabel(\"Number of clients\")\n",
        "plt.xticks(rotation=45)\n",
        "plt.legend(title=\"Gender\", bbox_to_anchor=(1.05, 1), loc=\"upper left\")\n",
        "plt.show()\n"
      ]
    },
    {
      "cell_type": "markdown",
      "metadata": {
        "id": "kWMH-nhWttni"
      },
      "source": [
        "# **4) Una continua con otra continua.**"
      ]
    },
    {
      "cell_type": "markdown",
      "metadata": {
        "id": "GYW47hEZ91Ns"
      },
      "source": [
        "scatter plot con pregunta 3 extras."
      ]
    },
    {
      "cell_type": "markdown",
      "metadata": {
        "id": "Wpbup078t6kz"
      },
      "source": [
        "# **5) Un heatmap.**"
      ]
    },
    {
      "cell_type": "markdown",
      "metadata": {
        "id": "lavZaiAL7mfL"
      },
      "source": [
        "Para cada tipo de pago y segmento de cliente clientes activos.Ver como se distribuye"
      ]
    },
    {
      "cell_type": "code",
      "execution_count": null,
      "metadata": {
        "id": "i0eoo11R_TK4"
      },
      "outputs": [],
      "source": [
        "cust_method_counts = orders.groupby(['customer_id','payment_method']).size().reset_index(name='n_orders')\n",
        "\n",
        "\n",
        "#Quedarse con el método más usado por cliente\n",
        "preferred = cust_method_counts.sort_values(['customer_id','n_orders'], ascending=[True, False]).drop_duplicates('customer_id')  # 1 fila por cliente\n",
        "\n",
        "#info del cliente\n",
        "df_heat = preferred.merge(customers[['customer_id','customer_segment','is_active']],on='customer_id', how='left')\n",
        "\n",
        "#la consigna pide clientes activos:\n",
        "df_heat = df_heat[df_heat['is_active']]\n",
        "\n",
        "df_heat = pd.crosstab(df_heat['payment_method'], df_heat['customer_segment'], dropna=False)\n",
        "\n",
        "# Normalizar por columna → cada columna suma 100\n",
        "df_heat = df_heat.div(df_heat.sum(axis=0), axis=1) * 100\n",
        "\n",
        "plt.figure(figsize=(10,6))\n",
        "sns.heatmap(df_heat, annot=True, fmt=\".1f\", cmap=\"Blues\", vmin=0, vmax=100)\n",
        "plt.title(\"Distribution of payment methods by segment (columns = 100%)\")\n",
        "plt.xlabel(\"Customer segment\")\n",
        "plt.ylabel(\"Payment method\")\n",
        "plt.show()\n",
        "\n",
        "# === 6. Chequeo rápido ===\n",
        "print(df_heat.sum(axis=0).round(1))\n"
      ]
    },
    {
      "cell_type": "markdown",
      "metadata": {
        "id": "DD1e_pNw_ZOE"
      },
      "source": []
    },
    {
      "cell_type": "markdown",
      "metadata": {
        "id": "owcfh8vPuGq1"
      },
      "source": [
        "# **6) Dos visualizaciones a elección.**"
      ]
    },
    {
      "cell_type": "markdown",
      "metadata": {
        "id": "zFu82fC8ECSI"
      },
      "source": [
        " 2- Top 10 promedio de rating por categoría de productos activos\n"
      ]
    },
    {
      "cell_type": "code",
      "execution_count": null,
      "metadata": {
        "id": "_j1pS52COKBb"
      },
      "outputs": [],
      "source": [
        "avg_rating_by_category"
      ]
    },
    {
      "cell_type": "code",
      "execution_count": null,
      "metadata": {
        "id": "lxq7di1aN4ME"
      },
      "outputs": [],
      "source": [
        "plt.figure(figsize=(15,6))\n",
        "plt.hlines(y=df_top10['parent_category'], xmin=0, xmax=df_top10['Average rating'])\n",
        "plt.plot(df_top10['Average rating'], df_top10['parent_category'], 'o'); plt.tight_layout()\n",
        "\n",
        "\n",
        "\n",
        "plt.title('Top 10 parent categories by average rating')\n",
        "plt.xlabel('Average rating')\n",
        "plt.ylabel('Parent category')\n",
        "plt.xlim(3, 5)\n",
        "plt.show()\n",
        "\n"
      ]
    },
    {
      "cell_type": "markdown",
      "metadata": {
        "id": "hj94OkgpMVTQ"
      },
      "source": [
        "4-¿Qué segmento de clientes (customer_segment) realiza más compras?"
      ]
    },
    {
      "cell_type": "code",
      "execution_count": null,
      "metadata": {
        "id": "ycambS8mKC_o"
      },
      "outputs": [],
      "source": [
        "fig, ax = plt.subplots(figsize=(6,6))\n",
        "wedges, texts, autotexts = ax.pie(\n",
        "    orders_per_segment['quantity of orders'],\n",
        "    labels=orders_per_segment['customer_segment'],\n",
        "    autopct=lambda p: f'{p:.1f}%',\n",
        "    startangle=90, counterclock=False,\n",
        "    colors=sns.color_palette('pastel')\n",
        ")\n",
        "# “donut”\n",
        "centre = plt.Circle((0,0), 0.70, fc='white')\n",
        "ax.add_artist(centre)\n",
        "ax.set_title('Share of completed purchases by customer segment')\n",
        "ax.axis('equal')\n",
        "plt.show()\n"
      ]
    },
    {
      "cell_type": "markdown",
      "metadata": {
        "id": "FYwKoXblueD3"
      },
      "source": [
        "# **7) Una visualización que use una de las siguientes:\n",
        "\n",
        "Treemap\n",
        "Sankey\n",
        "Una visu “joint” (ej JointGrid)\n",
        "Una visu hecha a mano con gráficas personalizadas.**"
      ]
    },
    {
      "cell_type": "markdown",
      "metadata": {
        "id": "XMXkiwxsSsrE"
      },
      "source": [
        "5-¿Cuál es el país con mayor cantidad de clientes activos (is_active=True) y cuánto representan en el total?"
      ]
    },
    {
      "cell_type": "code",
      "execution_count": null,
      "metadata": {
        "id": "rYpE3Dn25uwH"
      },
      "outputs": [],
      "source": [
        "active_by_country"
      ]
    },
    {
      "cell_type": "code",
      "execution_count": null,
      "metadata": {
        "collapsed": true,
        "id": "8JMyJmNu3Qkw"
      },
      "outputs": [],
      "source": [
        "plt.figure(figsize=(10,6))\n",
        "colors = [\"red\", \"pink\", \"green\",\"violet\", \"yellow\", \"blue\",\"purple\",\"orange\",\"skyblue\"]\n",
        "squarify.plot(\n",
        "    sizes=active_by_country[\"num_active_customers\"],\n",
        "    label=active_by_country[\"country\"].astype(str) + \" (\" + active_by_country[\"num_active_customers\"].astype(str) + \") \",\n",
        "    value = active_by_country['pct_of_total'].astype(str) + \"%\",\n",
        "    color=colors,\n",
        "    pad= False,\n",
        "    alpha=0.5\n",
        "\n",
        ")\n",
        "plt.title(\"Active clients by country\")\n",
        "plt.axis(\"off\")\n",
        "plt.show()\n"
      ]
    },
    {
      "cell_type": "markdown",
      "metadata": {
        "id": "9SQK7XkUJGYE"
      },
      "source": [
        "# **VISUALIZACIONES EXTRAS**"
      ]
    },
    {
      "cell_type": "markdown",
      "metadata": {
        "id": "QU9Yh0FtJdrR"
      },
      "source": [
        "# **CONSULTA VISU EXTRA 1:**"
      ]
    },
    {
      "cell_type": "code",
      "execution_count": null,
      "metadata": {
        "id": "68xGt85rszjU"
      },
      "outputs": [],
      "source": [
        "products_stuff = products_stuff.reset_index()"
      ]
    },
    {
      "cell_type": "code",
      "execution_count": null,
      "metadata": {
        "id": "MH7qtzuns4Dg"
      },
      "outputs": [],
      "source": [
        "products_stuff['brand']= products_stuff['brand'].astype(str)"
      ]
    },
    {
      "cell_type": "code",
      "execution_count": null,
      "metadata": {
        "collapsed": true,
        "id": "GbQ3BZNxtVMH"
      },
      "outputs": [],
      "source": [
        "products_stuff"
      ]
    },
    {
      "cell_type": "code",
      "execution_count": null,
      "metadata": {
        "id": "QRAjbrH3xfwO"
      },
      "outputs": [],
      "source": [
        "df_top5_weight = products_stuff.copy()\n",
        "\n",
        "df_top5_weight = df_top5_weight[df_top5_weight['total_tonnes'] > 0].sort_values('total_tonnes', ascending=False).head(5)\n",
        "\n",
        "sizes  = df_top5_weight['total_tonnes'].to_list()\n",
        "labels = [f\"{b} ({t:,.1f} t)\" for b, t in zip(df_top5_weight['brand'], df_top5_weight['total_tonnes'])]\n",
        "\n",
        "# colores (5)\n",
        "cmap   = plt.get_cmap('tab10')\n",
        "colors = [\"blue\", \"red\", \"green\",\"violet\", \"yellow\"]\n",
        "\n",
        "plt.figure(figsize=(10,6))\n",
        "squarify.plot(sizes=sizes, label=labels, color=colors,\n",
        "              pad=True, alpha=0.5, text_kwargs={'fontsize':15})\n",
        "plt.title('Total inventory weight by brand (Top 5, tons) with the word \"stuff\" in the description.')\n",
        "plt.axis('off'); plt.tight_layout(); plt.show()"
      ]
    },
    {
      "cell_type": "markdown",
      "metadata": {
        "id": "yKO4-yn3E2Vf"
      },
      "source": [
        "# **CONSULTA VISU EXTRA 2:**"
      ]
    },
    {
      "cell_type": "code",
      "execution_count": null,
      "metadata": {
        "id": "rcAektLp1znf"
      },
      "outputs": [],
      "source": [
        "# compradores únicos\n",
        "buyers = orders['customer_id'].dropna().drop_duplicates()\n",
        "\n",
        "# país + género de quienes compraron\n",
        "df_contry_gender = customers.loc[customers['customer_id'].isin(buyers), ['customer_id','country','gender']].copy()\n",
        "df_contry_gender['country'] = df_contry_gender['country'].astype(str)\n",
        "df_contry_gender['gender']  = df_contry_gender['gender'].astype(str).str.upper()\n",
        "\n",
        "# filtra categorías no deseadas\n",
        "df_contry_gender = df_contry_gender[df_contry_gender['gender'].isin(['F','M','OTHER'])]\n",
        "df_contry_gender = df_contry_gender[df_contry_gender['country'].str.lower()!='other']\n",
        "\n",
        "# tabla y % por país\n",
        "df_contry_gender = (df_contry_gender.groupby(['country','gender'])['customer_id'].nunique().reset_index(name='n'))\n",
        "\n",
        "df_contry_gender = df_contry_gender.pivot(index='country', columns='gender', values='n').fillna(0).astype(int)\n",
        "df_contry_gender = (df_contry_gender.div(df_contry_gender.sum(axis=1), axis=0) * 100).round(1)\n",
        "\n",
        "plt.figure(figsize=(10,6))\n",
        "sns.heatmap(df_contry_gender, annot=True, fmt='.1f', cmap='Blues',\n",
        "            cbar_kws={'label':'% within the country'},\n",
        "            vmin = 0,\n",
        "            linewidths=0.5,\n",
        "            vmax= 100)\n",
        "\n",
        "\n",
        "plt.title('Unique customers who purchased by Country and Gender (%)', pad=10)\n",
        "\n",
        "plt.xlabel('Gender')\n",
        "plt.ylabel('Country')\n",
        "plt.tight_layout()\n",
        "plt.show()\n"
      ]
    },
    {
      "cell_type": "markdown",
      "metadata": {
        "id": "YMo5y15UDFvw"
      },
      "source": [
        "# **CONSULTA VISU EXTRA 3: 9-Distribución de reseñas por puntaje**"
      ]
    },
    {
      "cell_type": "code",
      "execution_count": null,
      "metadata": {
        "id": "lcPgO0PTE-dF"
      },
      "outputs": [],
      "source": [
        "reviews_by_rating"
      ]
    },
    {
      "cell_type": "code",
      "execution_count": null,
      "metadata": {
        "id": "XjaCTwKHFBXd"
      },
      "outputs": [],
      "source": [
        "plt.figure(figsize=(10,6))\n",
        "sns.barplot(\n",
        "    data=reviews_by_rating,\n",
        "    x=reviews_by_rating[\"rating\"],\n",
        "    y=reviews_by_rating[\"num_reviews\"],\n",
        "    color=\"purple\"\n",
        ")\n",
        "plt.title(\"Distribution of reviews by rating\")\n",
        "plt.xlabel('Rating (1 to 5)')\n",
        "plt.ylabel(\"Number of reviews\")\n",
        "plt.ylim(0, 55000)\n",
        "plt.show()"
      ]
    }
  ],
  "metadata": {
    "colab": {
      "collapsed_sections": [
        "8D38RECsyEa8",
        "RteEXyEtzSRo",
        "Kc3ScBnKj82x",
        "T6DoRPi1B2PB",
        "58vJEAdaB-Gt",
        "DmAYzfgMCC4G",
        "vMhgzUbJSY9U",
        "QC_WVqdgSicp",
        "hFH75RKqUbWc",
        "WTVBwXiGX4s6",
        "uQSpD8ouYGPR",
        "bJDwZFhDGf9B",
        "kERsFSz9TQYX",
        "eFLWT44aTWan",
        "fOPvFPeofx1z",
        "cM0Jk0ZLDk0T",
        "shDNHvuGM4e0",
        "D1V8DgaZX3hK",
        "IDxoXwcsm9u8",
        "kWMH-nhWttni",
        "Wpbup078t6kz",
        "FYwKoXblueD3",
        "QU9Yh0FtJdrR",
        "yKO4-yn3E2Vf",
        "YMo5y15UDFvw"
      ],
      "provenance": []
    },
    "kernelspec": {
      "display_name": "Python 3",
      "name": "python3"
    },
    "language_info": {
      "name": "python"
    }
  },
  "nbformat": 4,
  "nbformat_minor": 0
}